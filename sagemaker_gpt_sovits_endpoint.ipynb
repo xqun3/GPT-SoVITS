{
 "cells": [
  {
   "cell_type": "markdown",
   "id": "096b3004",
   "metadata": {},
   "source": [
    "# GPT-SoVITS on Sagemaker"
   ]
  },
  {
   "cell_type": "markdown",
   "id": "21ec2e51",
   "metadata": {},
   "source": [
    "## build image\n",
    "\n",
    "**Note**\n",
    "- The better way to build the Docker image is to use the notebook terminal !\"\n",
    "- Sometimes the download gets stuck when downloading models from Modelscope. You can try re-executing the command to build the Docker image."
   ]
  },
  {
   "cell_type": "code",
   "execution_count": null,
   "id": "a90a721b-1b07-49a9-b3cb-f823b30b4be4",
   "metadata": {
    "collapsed": true,
    "jupyter": {
     "outputs_hidden": true
    },
    "tags": []
   },
   "outputs": [],
   "source": [
    "# please copy and excute this commend in terminal\n",
    "# !chmod +x ./*.sh && ./build_and_push.sh "
   ]
  },
  {
   "cell_type": "code",
   "execution_count": 16,
   "id": "f02aaa95-fd05-4c92-babf-16894272da62",
   "metadata": {
    "tags": []
   },
   "outputs": [
    {
     "name": "stdout",
     "output_type": "stream",
     "text": [
      "Name: sagemaker\n",
      "Version: 2.229.0\n",
      "Summary: UNKNOWN\n",
      "Home-page: UNKNOWN\n",
      "Author: \n",
      "Author-email: \n",
      "License: UNKNOWN\n",
      "Location: /home/ec2-user/anaconda3/envs/pytorch_p310/lib/python3.10/site-packages\n",
      "Requires: attrs, boto3, cloudpickle, docker, google-pasta, importlib-metadata, jsonschema, numpy, packaging, pandas, pathos, platformdirs, protobuf, psutil, PyYAML, requests, schema, smdebug-rulesconfig, tblib, tqdm, urllib3\n",
      "Required-by: sagemaker-ssh-helper\n",
      "Note: you may need to restart the kernel to use updated packages.\n"
     ]
    }
   ],
   "source": [
    "pip show sagemaker"
   ]
  },
  {
   "cell_type": "code",
   "execution_count": 1,
   "id": "7f122b49",
   "metadata": {
    "collapsed": true,
    "jupyter": {
     "outputs_hidden": true
    },
    "tags": []
   },
   "outputs": [
    {
     "name": "stdout",
     "output_type": "stream",
     "text": [
      "Requirement already satisfied: boto3 in /home/ec2-user/anaconda3/envs/pytorch_p310/lib/python3.10/site-packages (1.35.16)\n",
      "Collecting boto3\n",
      "  Downloading boto3-1.35.39-py3-none-any.whl.metadata (6.7 kB)\n",
      "Requirement already satisfied: sagemaker in /home/ec2-user/anaconda3/envs/pytorch_p310/lib/python3.10/site-packages (2.231.0)\n",
      "Collecting sagemaker\n",
      "  Downloading sagemaker-2.232.2-py3-none-any.whl.metadata (16 kB)\n",
      "Requirement already satisfied: awscli in /home/ec2-user/anaconda3/envs/pytorch_p310/lib/python3.10/site-packages (1.34.16)\n",
      "Collecting awscli\n",
      "  Downloading awscli-1.35.5-py3-none-any.whl.metadata (11 kB)\n",
      "Requirement already satisfied: sagemaker_ssh_helper in /home/ec2-user/anaconda3/envs/pytorch_p310/lib/python3.10/site-packages (2.2.0)\n",
      "Collecting botocore<1.36.0,>=1.35.39 (from boto3)\n",
      "  Downloading botocore-1.35.39-py3-none-any.whl.metadata (5.7 kB)\n",
      "Requirement already satisfied: jmespath<2.0.0,>=0.7.1 in /home/ec2-user/anaconda3/envs/pytorch_p310/lib/python3.10/site-packages (from boto3) (1.0.1)\n",
      "Requirement already satisfied: s3transfer<0.11.0,>=0.10.0 in /home/ec2-user/anaconda3/envs/pytorch_p310/lib/python3.10/site-packages (from boto3) (0.10.2)\n",
      "Requirement already satisfied: attrs<24,>=23.1.0 in /home/ec2-user/anaconda3/envs/pytorch_p310/lib/python3.10/site-packages (from sagemaker) (23.2.0)\n",
      "Requirement already satisfied: cloudpickle==2.2.1 in /home/ec2-user/anaconda3/envs/pytorch_p310/lib/python3.10/site-packages (from sagemaker) (2.2.1)\n",
      "Requirement already satisfied: docker in /home/ec2-user/anaconda3/envs/pytorch_p310/lib/python3.10/site-packages (from sagemaker) (7.1.0)\n",
      "Requirement already satisfied: google-pasta in /home/ec2-user/anaconda3/envs/pytorch_p310/lib/python3.10/site-packages (from sagemaker) (0.2.0)\n",
      "Requirement already satisfied: importlib-metadata<7.0,>=1.4.0 in /home/ec2-user/anaconda3/envs/pytorch_p310/lib/python3.10/site-packages (from sagemaker) (6.11.0)\n",
      "Requirement already satisfied: jsonschema in /home/ec2-user/anaconda3/envs/pytorch_p310/lib/python3.10/site-packages (from sagemaker) (4.23.0)\n",
      "Requirement already satisfied: numpy<2.0,>=1.9.0 in /home/ec2-user/anaconda3/envs/pytorch_p310/lib/python3.10/site-packages (from sagemaker) (1.26.4)\n",
      "Requirement already satisfied: packaging>=20.0 in /home/ec2-user/anaconda3/envs/pytorch_p310/lib/python3.10/site-packages (from sagemaker) (21.3)\n",
      "Requirement already satisfied: pandas in /home/ec2-user/anaconda3/envs/pytorch_p310/lib/python3.10/site-packages (from sagemaker) (1.5.3)\n",
      "Requirement already satisfied: pathos in /home/ec2-user/anaconda3/envs/pytorch_p310/lib/python3.10/site-packages (from sagemaker) (0.3.2)\n",
      "Requirement already satisfied: platformdirs in /home/ec2-user/anaconda3/envs/pytorch_p310/lib/python3.10/site-packages (from sagemaker) (4.2.2)\n",
      "Requirement already satisfied: protobuf<5.0,>=3.12 in /home/ec2-user/anaconda3/envs/pytorch_p310/lib/python3.10/site-packages (from sagemaker) (4.25.4)\n",
      "Requirement already satisfied: psutil in /home/ec2-user/anaconda3/envs/pytorch_p310/lib/python3.10/site-packages (from sagemaker) (6.0.0)\n",
      "Requirement already satisfied: pyyaml~=6.0 in /home/ec2-user/anaconda3/envs/pytorch_p310/lib/python3.10/site-packages (from sagemaker) (6.0.1)\n",
      "Requirement already satisfied: requests in /home/ec2-user/anaconda3/envs/pytorch_p310/lib/python3.10/site-packages (from sagemaker) (2.32.3)\n",
      "Requirement already satisfied: sagemaker-core<2.0.0,>=1.0.0 in /home/ec2-user/anaconda3/envs/pytorch_p310/lib/python3.10/site-packages (from sagemaker) (1.0.4)\n",
      "Collecting sagemaker-mlflow (from sagemaker)\n",
      "  Downloading sagemaker_mlflow-0.1.0-py3-none-any.whl.metadata (3.3 kB)\n",
      "Requirement already satisfied: schema in /home/ec2-user/anaconda3/envs/pytorch_p310/lib/python3.10/site-packages (from sagemaker) (0.7.7)\n",
      "Requirement already satisfied: smdebug-rulesconfig==1.0.1 in /home/ec2-user/anaconda3/envs/pytorch_p310/lib/python3.10/site-packages (from sagemaker) (1.0.1)\n",
      "Requirement already satisfied: tblib<4,>=1.7.0 in /home/ec2-user/anaconda3/envs/pytorch_p310/lib/python3.10/site-packages (from sagemaker) (3.0.0)\n",
      "Requirement already satisfied: tqdm in /home/ec2-user/anaconda3/envs/pytorch_p310/lib/python3.10/site-packages (from sagemaker) (4.66.4)\n",
      "Requirement already satisfied: urllib3<3.0.0,>=1.26.8 in /home/ec2-user/anaconda3/envs/pytorch_p310/lib/python3.10/site-packages (from sagemaker) (2.2.2)\n",
      "Requirement already satisfied: docutils<0.17,>=0.10 in /home/ec2-user/anaconda3/envs/pytorch_p310/lib/python3.10/site-packages (from awscli) (0.16)\n",
      "Requirement already satisfied: colorama<0.4.7,>=0.2.5 in /home/ec2-user/anaconda3/envs/pytorch_p310/lib/python3.10/site-packages (from awscli) (0.4.6)\n",
      "Requirement already satisfied: rsa<4.8,>=3.1.2 in /home/ec2-user/anaconda3/envs/pytorch_p310/lib/python3.10/site-packages (from awscli) (4.7.2)\n",
      "Requirement already satisfied: python-dateutil<3.0.0,>=2.1 in /home/ec2-user/anaconda3/envs/pytorch_p310/lib/python3.10/site-packages (from botocore<1.36.0,>=1.35.39->boto3) (2.9.0)\n",
      "Requirement already satisfied: zipp>=0.5 in /home/ec2-user/anaconda3/envs/pytorch_p310/lib/python3.10/site-packages (from importlib-metadata<7.0,>=1.4.0->sagemaker) (3.19.2)\n",
      "Requirement already satisfied: pyparsing!=3.0.5,>=2.0.2 in /home/ec2-user/anaconda3/envs/pytorch_p310/lib/python3.10/site-packages (from packaging>=20.0->sagemaker) (3.1.2)\n",
      "Requirement already satisfied: pyasn1>=0.1.3 in /home/ec2-user/anaconda3/envs/pytorch_p310/lib/python3.10/site-packages (from rsa<4.8,>=3.1.2->awscli) (0.6.0)\n",
      "Requirement already satisfied: pydantic<3.0.0,>=1.7.0 in /home/ec2-user/anaconda3/envs/pytorch_p310/lib/python3.10/site-packages (from sagemaker-core<2.0.0,>=1.0.0->sagemaker) (2.8.2)\n",
      "Requirement already satisfied: rich<14.0.0,>=13.0.0 in /home/ec2-user/anaconda3/envs/pytorch_p310/lib/python3.10/site-packages (from sagemaker-core<2.0.0,>=1.0.0->sagemaker) (13.8.1)\n",
      "Requirement already satisfied: mock<5.0,>4.0 in /home/ec2-user/anaconda3/envs/pytorch_p310/lib/python3.10/site-packages (from sagemaker-core<2.0.0,>=1.0.0->sagemaker) (4.0.3)\n",
      "Requirement already satisfied: jsonschema-specifications>=2023.03.6 in /home/ec2-user/anaconda3/envs/pytorch_p310/lib/python3.10/site-packages (from jsonschema->sagemaker) (2023.12.1)\n",
      "Requirement already satisfied: referencing>=0.28.4 in /home/ec2-user/anaconda3/envs/pytorch_p310/lib/python3.10/site-packages (from jsonschema->sagemaker) (0.35.1)\n",
      "Requirement already satisfied: rpds-py>=0.7.1 in /home/ec2-user/anaconda3/envs/pytorch_p310/lib/python3.10/site-packages (from jsonschema->sagemaker) (0.19.1)\n",
      "Requirement already satisfied: charset-normalizer<4,>=2 in /home/ec2-user/anaconda3/envs/pytorch_p310/lib/python3.10/site-packages (from requests->sagemaker) (3.3.2)\n",
      "Requirement already satisfied: idna<4,>=2.5 in /home/ec2-user/anaconda3/envs/pytorch_p310/lib/python3.10/site-packages (from requests->sagemaker) (3.7)\n",
      "Requirement already satisfied: certifi>=2017.4.17 in /home/ec2-user/anaconda3/envs/pytorch_p310/lib/python3.10/site-packages (from requests->sagemaker) (2024.7.4)\n",
      "Requirement already satisfied: six in /home/ec2-user/anaconda3/envs/pytorch_p310/lib/python3.10/site-packages (from google-pasta->sagemaker) (1.16.0)\n",
      "Requirement already satisfied: pytz>=2020.1 in /home/ec2-user/anaconda3/envs/pytorch_p310/lib/python3.10/site-packages (from pandas->sagemaker) (2024.1)\n",
      "Requirement already satisfied: ppft>=1.7.6.8 in /home/ec2-user/anaconda3/envs/pytorch_p310/lib/python3.10/site-packages (from pathos->sagemaker) (1.7.6.8)\n",
      "Requirement already satisfied: dill>=0.3.8 in /home/ec2-user/anaconda3/envs/pytorch_p310/lib/python3.10/site-packages (from pathos->sagemaker) (0.3.8)\n",
      "Requirement already satisfied: pox>=0.3.4 in /home/ec2-user/anaconda3/envs/pytorch_p310/lib/python3.10/site-packages (from pathos->sagemaker) (0.3.4)\n",
      "Requirement already satisfied: multiprocess>=0.70.16 in /home/ec2-user/anaconda3/envs/pytorch_p310/lib/python3.10/site-packages (from pathos->sagemaker) (0.70.16)\n",
      "Collecting mlflow>=2.8 (from sagemaker-mlflow->sagemaker)\n",
      "  Downloading mlflow-2.17.0-py3-none-any.whl.metadata (29 kB)\n",
      "Collecting mlflow-skinny==2.17.0 (from mlflow>=2.8->sagemaker-mlflow->sagemaker)\n",
      "  Downloading mlflow_skinny-2.17.0-py3-none-any.whl.metadata (30 kB)\n",
      "Requirement already satisfied: Flask<4 in /home/ec2-user/anaconda3/envs/pytorch_p310/lib/python3.10/site-packages (from mlflow>=2.8->sagemaker-mlflow->sagemaker) (3.0.3)\n",
      "Collecting alembic!=1.10.0,<2 (from mlflow>=2.8->sagemaker-mlflow->sagemaker)\n",
      "  Downloading alembic-1.13.3-py3-none-any.whl.metadata (7.4 kB)\n",
      "Collecting graphene<4 (from mlflow>=2.8->sagemaker-mlflow->sagemaker)\n",
      "  Downloading graphene-3.3-py2.py3-none-any.whl.metadata (7.7 kB)\n",
      "Collecting markdown<4,>=3.3 (from mlflow>=2.8->sagemaker-mlflow->sagemaker)\n",
      "  Downloading Markdown-3.7-py3-none-any.whl.metadata (7.0 kB)\n",
      "Requirement already satisfied: matplotlib<4 in /home/ec2-user/anaconda3/envs/pytorch_p310/lib/python3.10/site-packages (from mlflow>=2.8->sagemaker-mlflow->sagemaker) (3.9.1)\n",
      "Requirement already satisfied: pyarrow<18,>=4.0.0 in /home/ec2-user/anaconda3/envs/pytorch_p310/lib/python3.10/site-packages (from mlflow>=2.8->sagemaker-mlflow->sagemaker) (17.0.0)\n",
      "Requirement already satisfied: scikit-learn<2 in /home/ec2-user/anaconda3/envs/pytorch_p310/lib/python3.10/site-packages (from mlflow>=2.8->sagemaker-mlflow->sagemaker) (1.5.1)\n",
      "Requirement already satisfied: scipy<2 in /home/ec2-user/anaconda3/envs/pytorch_p310/lib/python3.10/site-packages (from mlflow>=2.8->sagemaker-mlflow->sagemaker) (1.14.0)\n",
      "Collecting sqlalchemy<3,>=1.4.0 (from mlflow>=2.8->sagemaker-mlflow->sagemaker)\n",
      "  Downloading SQLAlchemy-2.0.35-cp310-cp310-manylinux_2_17_x86_64.manylinux2014_x86_64.whl.metadata (9.6 kB)\n",
      "Requirement already satisfied: Jinja2<4,>=2.11 in /home/ec2-user/anaconda3/envs/pytorch_p310/lib/python3.10/site-packages (from mlflow>=2.8->sagemaker-mlflow->sagemaker) (3.1.4)\n",
      "Collecting gunicorn<24 (from mlflow>=2.8->sagemaker-mlflow->sagemaker)\n",
      "  Downloading gunicorn-23.0.0-py3-none-any.whl.metadata (4.4 kB)\n",
      "Collecting cachetools<6,>=5.0.0 (from mlflow-skinny==2.17.0->mlflow>=2.8->sagemaker-mlflow->sagemaker)\n",
      "  Downloading cachetools-5.5.0-py3-none-any.whl.metadata (5.3 kB)\n",
      "Requirement already satisfied: click<9,>=7.0 in /home/ec2-user/anaconda3/envs/pytorch_p310/lib/python3.10/site-packages (from mlflow-skinny==2.17.0->mlflow>=2.8->sagemaker-mlflow->sagemaker) (8.1.7)\n",
      "Collecting databricks-sdk<1,>=0.20.0 (from mlflow-skinny==2.17.0->mlflow>=2.8->sagemaker-mlflow->sagemaker)\n",
      "  Downloading databricks_sdk-0.34.0-py3-none-any.whl.metadata (37 kB)\n",
      "Collecting gitpython<4,>=3.1.9 (from mlflow-skinny==2.17.0->mlflow>=2.8->sagemaker-mlflow->sagemaker)\n",
      "  Using cached GitPython-3.1.43-py3-none-any.whl.metadata (13 kB)\n",
      "Collecting opentelemetry-api<3,>=1.9.0 (from mlflow-skinny==2.17.0->mlflow>=2.8->sagemaker-mlflow->sagemaker)\n",
      "  Downloading opentelemetry_api-1.27.0-py3-none-any.whl.metadata (1.4 kB)\n",
      "Collecting opentelemetry-sdk<3,>=1.9.0 (from mlflow-skinny==2.17.0->mlflow>=2.8->sagemaker-mlflow->sagemaker)\n",
      "  Downloading opentelemetry_sdk-1.27.0-py3-none-any.whl.metadata (1.5 kB)\n",
      "Collecting sqlparse<1,>=0.4.0 (from mlflow-skinny==2.17.0->mlflow>=2.8->sagemaker-mlflow->sagemaker)\n",
      "  Downloading sqlparse-0.5.1-py3-none-any.whl.metadata (3.9 kB)\n",
      "Requirement already satisfied: annotated-types>=0.4.0 in /home/ec2-user/anaconda3/envs/pytorch_p310/lib/python3.10/site-packages (from pydantic<3.0.0,>=1.7.0->sagemaker-core<2.0.0,>=1.0.0->sagemaker) (0.7.0)\n",
      "Requirement already satisfied: pydantic-core==2.20.1 in /home/ec2-user/anaconda3/envs/pytorch_p310/lib/python3.10/site-packages (from pydantic<3.0.0,>=1.7.0->sagemaker-core<2.0.0,>=1.0.0->sagemaker) (2.20.1)\n",
      "Requirement already satisfied: typing-extensions>=4.6.1 in /home/ec2-user/anaconda3/envs/pytorch_p310/lib/python3.10/site-packages (from pydantic<3.0.0,>=1.7.0->sagemaker-core<2.0.0,>=1.0.0->sagemaker) (4.12.2)\n",
      "Requirement already satisfied: markdown-it-py>=2.2.0 in /home/ec2-user/anaconda3/envs/pytorch_p310/lib/python3.10/site-packages (from rich<14.0.0,>=13.0.0->sagemaker-core<2.0.0,>=1.0.0->sagemaker) (3.0.0)\n",
      "Requirement already satisfied: pygments<3.0.0,>=2.13.0 in /home/ec2-user/anaconda3/envs/pytorch_p310/lib/python3.10/site-packages (from rich<14.0.0,>=13.0.0->sagemaker-core<2.0.0,>=1.0.0->sagemaker) (2.18.0)\n",
      "Collecting Mako (from alembic!=1.10.0,<2->mlflow>=2.8->sagemaker-mlflow->sagemaker)\n",
      "  Downloading Mako-1.3.5-py3-none-any.whl.metadata (2.9 kB)\n",
      "Requirement already satisfied: Werkzeug>=3.0.0 in /home/ec2-user/anaconda3/envs/pytorch_p310/lib/python3.10/site-packages (from Flask<4->mlflow>=2.8->sagemaker-mlflow->sagemaker) (3.0.3)\n",
      "Requirement already satisfied: itsdangerous>=2.1.2 in /home/ec2-user/anaconda3/envs/pytorch_p310/lib/python3.10/site-packages (from Flask<4->mlflow>=2.8->sagemaker-mlflow->sagemaker) (2.2.0)\n",
      "Requirement already satisfied: blinker>=1.6.2 in /home/ec2-user/anaconda3/envs/pytorch_p310/lib/python3.10/site-packages (from Flask<4->mlflow>=2.8->sagemaker-mlflow->sagemaker) (1.8.2)\n",
      "Collecting graphql-core<3.3,>=3.1 (from graphene<4->mlflow>=2.8->sagemaker-mlflow->sagemaker)\n",
      "  Downloading graphql_core-3.2.5-py3-none-any.whl.metadata (10 kB)\n",
      "Collecting graphql-relay<3.3,>=3.1 (from graphene<4->mlflow>=2.8->sagemaker-mlflow->sagemaker)\n",
      "  Downloading graphql_relay-3.2.0-py3-none-any.whl.metadata (12 kB)\n",
      "Requirement already satisfied: aniso8601<10,>=8 in /home/ec2-user/anaconda3/envs/pytorch_p310/lib/python3.10/site-packages (from graphene<4->mlflow>=2.8->sagemaker-mlflow->sagemaker) (9.0.1)\n",
      "Requirement already satisfied: MarkupSafe>=2.0 in /home/ec2-user/anaconda3/envs/pytorch_p310/lib/python3.10/site-packages (from Jinja2<4,>=2.11->mlflow>=2.8->sagemaker-mlflow->sagemaker) (2.1.5)\n",
      "Requirement already satisfied: mdurl~=0.1 in /home/ec2-user/anaconda3/envs/pytorch_p310/lib/python3.10/site-packages (from markdown-it-py>=2.2.0->rich<14.0.0,>=13.0.0->sagemaker-core<2.0.0,>=1.0.0->sagemaker) (0.1.2)\n",
      "Requirement already satisfied: contourpy>=1.0.1 in /home/ec2-user/anaconda3/envs/pytorch_p310/lib/python3.10/site-packages (from matplotlib<4->mlflow>=2.8->sagemaker-mlflow->sagemaker) (1.2.1)\n",
      "Requirement already satisfied: cycler>=0.10 in /home/ec2-user/anaconda3/envs/pytorch_p310/lib/python3.10/site-packages (from matplotlib<4->mlflow>=2.8->sagemaker-mlflow->sagemaker) (0.12.1)\n",
      "Requirement already satisfied: fonttools>=4.22.0 in /home/ec2-user/anaconda3/envs/pytorch_p310/lib/python3.10/site-packages (from matplotlib<4->mlflow>=2.8->sagemaker-mlflow->sagemaker) (4.53.1)\n",
      "Requirement already satisfied: kiwisolver>=1.3.1 in /home/ec2-user/anaconda3/envs/pytorch_p310/lib/python3.10/site-packages (from matplotlib<4->mlflow>=2.8->sagemaker-mlflow->sagemaker) (1.4.5)\n",
      "Requirement already satisfied: pillow>=8 in /home/ec2-user/anaconda3/envs/pytorch_p310/lib/python3.10/site-packages (from matplotlib<4->mlflow>=2.8->sagemaker-mlflow->sagemaker) (10.4.0)\n",
      "Requirement already satisfied: joblib>=1.2.0 in /home/ec2-user/anaconda3/envs/pytorch_p310/lib/python3.10/site-packages (from scikit-learn<2->mlflow>=2.8->sagemaker-mlflow->sagemaker) (1.4.2)\n",
      "Requirement already satisfied: threadpoolctl>=3.1.0 in /home/ec2-user/anaconda3/envs/pytorch_p310/lib/python3.10/site-packages (from scikit-learn<2->mlflow>=2.8->sagemaker-mlflow->sagemaker) (3.5.0)\n",
      "Collecting greenlet!=0.4.17 (from sqlalchemy<3,>=1.4.0->mlflow>=2.8->sagemaker-mlflow->sagemaker)\n",
      "  Downloading greenlet-3.1.1-cp310-cp310-manylinux_2_24_x86_64.manylinux_2_28_x86_64.whl.metadata (3.8 kB)\n",
      "Collecting google-auth~=2.0 (from databricks-sdk<1,>=0.20.0->mlflow-skinny==2.17.0->mlflow>=2.8->sagemaker-mlflow->sagemaker)\n",
      "  Downloading google_auth-2.35.0-py2.py3-none-any.whl.metadata (4.7 kB)\n",
      "Collecting gitdb<5,>=4.0.1 (from gitpython<4,>=3.1.9->mlflow-skinny==2.17.0->mlflow>=2.8->sagemaker-mlflow->sagemaker)\n",
      "  Using cached gitdb-4.0.11-py3-none-any.whl.metadata (1.2 kB)\n",
      "Collecting deprecated>=1.2.6 (from opentelemetry-api<3,>=1.9.0->mlflow-skinny==2.17.0->mlflow>=2.8->sagemaker-mlflow->sagemaker)\n",
      "  Downloading Deprecated-1.2.14-py2.py3-none-any.whl.metadata (5.4 kB)\n",
      "Collecting opentelemetry-semantic-conventions==0.48b0 (from opentelemetry-sdk<3,>=1.9.0->mlflow-skinny==2.17.0->mlflow>=2.8->sagemaker-mlflow->sagemaker)\n",
      "  Downloading opentelemetry_semantic_conventions-0.48b0-py3-none-any.whl.metadata (2.4 kB)\n",
      "Collecting wrapt<2,>=1.10 (from deprecated>=1.2.6->opentelemetry-api<3,>=1.9.0->mlflow-skinny==2.17.0->mlflow>=2.8->sagemaker-mlflow->sagemaker)\n",
      "  Downloading wrapt-1.16.0-cp310-cp310-manylinux_2_5_x86_64.manylinux1_x86_64.manylinux_2_17_x86_64.manylinux2014_x86_64.whl.metadata (6.6 kB)\n",
      "Collecting smmap<6,>=3.0.1 (from gitdb<5,>=4.0.1->gitpython<4,>=3.1.9->mlflow-skinny==2.17.0->mlflow>=2.8->sagemaker-mlflow->sagemaker)\n",
      "  Using cached smmap-5.0.1-py3-none-any.whl.metadata (4.3 kB)\n",
      "Collecting pyasn1-modules>=0.2.1 (from google-auth~=2.0->databricks-sdk<1,>=0.20.0->mlflow-skinny==2.17.0->mlflow>=2.8->sagemaker-mlflow->sagemaker)\n",
      "  Downloading pyasn1_modules-0.4.1-py3-none-any.whl.metadata (3.5 kB)\n",
      "Downloading boto3-1.35.39-py3-none-any.whl (139 kB)\n",
      "\u001b[2K   \u001b[90m━━━━━━━━━━━━━━━━━━━━━━━━━━━━━━━━━━━━━━━━\u001b[0m \u001b[32m139.1/139.1 kB\u001b[0m \u001b[31m17.1 MB/s\u001b[0m eta \u001b[36m0:00:00\u001b[0m\n",
      "\u001b[?25hDownloading sagemaker-2.232.2-py3-none-any.whl (1.6 MB)\n",
      "\u001b[2K   \u001b[90m━━━━━━━━━━━━━━━━━━━━━━━━━━━━━━━━━━━━━━━━\u001b[0m \u001b[32m1.6/1.6 MB\u001b[0m \u001b[31m97.2 MB/s\u001b[0m eta \u001b[36m0:00:00\u001b[0m\n",
      "\u001b[?25hDownloading awscli-1.35.5-py3-none-any.whl (4.5 MB)\n",
      "\u001b[2K   \u001b[90m━━━━━━━━━━━━━━━━━━━━━━━━━━━━━━━━━━━━━━━━\u001b[0m \u001b[32m4.5/4.5 MB\u001b[0m \u001b[31m124.7 MB/s\u001b[0m eta \u001b[36m0:00:00\u001b[0m00:01\u001b[0m\n",
      "\u001b[?25hDownloading botocore-1.35.39-py3-none-any.whl (12.6 MB)\n",
      "\u001b[2K   \u001b[90m━━━━━━━━━━━━━━━━━━━━━━━━━━━━━━━━━━━━━━━━\u001b[0m \u001b[32m12.6/12.6 MB\u001b[0m \u001b[31m131.0 MB/s\u001b[0m eta \u001b[36m0:00:00\u001b[0m00:01\u001b[0m0:01\u001b[0m\n",
      "\u001b[?25hDownloading sagemaker_mlflow-0.1.0-py3-none-any.whl (24 kB)\n",
      "Downloading mlflow-2.17.0-py3-none-any.whl (26.7 MB)\n",
      "\u001b[2K   \u001b[90m━━━━━━━━━━━━━━━━━━━━━━━━━━━━━━━━━━━━━━━━\u001b[0m \u001b[32m26.7/26.7 MB\u001b[0m \u001b[31m86.3 MB/s\u001b[0m eta \u001b[36m0:00:00\u001b[0m:00:01\u001b[0m00:01\u001b[0m\n",
      "\u001b[?25hDownloading mlflow_skinny-2.17.0-py3-none-any.whl (5.7 MB)\n",
      "\u001b[2K   \u001b[90m━━━━━━━━━━━━━━━━━━━━━━━━━━━━━━━━━━━━━━━━\u001b[0m \u001b[32m5.7/5.7 MB\u001b[0m \u001b[31m138.7 MB/s\u001b[0m eta \u001b[36m0:00:00\u001b[0m00:01\u001b[0m\n",
      "\u001b[?25hDownloading alembic-1.13.3-py3-none-any.whl (233 kB)\n",
      "\u001b[2K   \u001b[90m━━━━━━━━━━━━━━━━━━━━━━━━━━━━━━━━━━━━━━━━\u001b[0m \u001b[32m233.2/233.2 kB\u001b[0m \u001b[31m42.8 MB/s\u001b[0m eta \u001b[36m0:00:00\u001b[0m\n",
      "\u001b[?25hDownloading graphene-3.3-py2.py3-none-any.whl (128 kB)\n",
      "\u001b[2K   \u001b[90m━━━━━━━━━━━━━━━━━━━━━━━━━━━━━━━━━━━━━━━━\u001b[0m \u001b[32m128.2/128.2 kB\u001b[0m \u001b[31m26.8 MB/s\u001b[0m eta \u001b[36m0:00:00\u001b[0m\n",
      "\u001b[?25hDownloading gunicorn-23.0.0-py3-none-any.whl (85 kB)\n",
      "\u001b[2K   \u001b[90m━━━━━━━━━━━━━━━━━━━━━━━━━━━━━━━━━━━━━━━━\u001b[0m \u001b[32m85.0/85.0 kB\u001b[0m \u001b[31m21.3 MB/s\u001b[0m eta \u001b[36m0:00:00\u001b[0m\n",
      "\u001b[?25hDownloading Markdown-3.7-py3-none-any.whl (106 kB)\n",
      "\u001b[2K   \u001b[90m━━━━━━━━━━━━━━━━━━━━━━━━━━━━━━━━━━━━━━━━\u001b[0m \u001b[32m106.3/106.3 kB\u001b[0m \u001b[31m23.7 MB/s\u001b[0m eta \u001b[36m0:00:00\u001b[0m\n",
      "\u001b[?25hDownloading SQLAlchemy-2.0.35-cp310-cp310-manylinux_2_17_x86_64.manylinux2014_x86_64.whl (3.1 MB)\n",
      "\u001b[2K   \u001b[90m━━━━━━━━━━━━━━━━━━━━━━━━━━━━━━━━━━━━━━━━\u001b[0m \u001b[32m3.1/3.1 MB\u001b[0m \u001b[31m134.4 MB/s\u001b[0m eta \u001b[36m0:00:00\u001b[0m\n",
      "\u001b[?25hDownloading cachetools-5.5.0-py3-none-any.whl (9.5 kB)\n",
      "Downloading databricks_sdk-0.34.0-py3-none-any.whl (565 kB)\n",
      "\u001b[2K   \u001b[90m━━━━━━━━━━━━━━━━━━━━━━━━━━━━━━━━━━━━━━━━\u001b[0m \u001b[32m565.6/565.6 kB\u001b[0m \u001b[31m63.9 MB/s\u001b[0m eta \u001b[36m0:00:00\u001b[0m\n",
      "\u001b[?25hUsing cached GitPython-3.1.43-py3-none-any.whl (207 kB)\n",
      "Downloading graphql_core-3.2.5-py3-none-any.whl (203 kB)\n",
      "\u001b[2K   \u001b[90m━━━━━━━━━━━━━━━━━━━━━━━━━━━━━━━━━━━━━━━━\u001b[0m \u001b[32m203.2/203.2 kB\u001b[0m \u001b[31m39.9 MB/s\u001b[0m eta \u001b[36m0:00:00\u001b[0m\n",
      "\u001b[?25hDownloading graphql_relay-3.2.0-py3-none-any.whl (16 kB)\n",
      "Downloading greenlet-3.1.1-cp310-cp310-manylinux_2_24_x86_64.manylinux_2_28_x86_64.whl (599 kB)\n",
      "\u001b[2K   \u001b[90m━━━━━━━━━━━━━━━━━━━━━━━━━━━━━━━━━━━━━━━━\u001b[0m \u001b[32m599.5/599.5 kB\u001b[0m \u001b[31m70.8 MB/s\u001b[0m eta \u001b[36m0:00:00\u001b[0m\n",
      "\u001b[?25hDownloading opentelemetry_api-1.27.0-py3-none-any.whl (63 kB)\n",
      "\u001b[2K   \u001b[90m━━━━━━━━━━━━━━━━━━━━━━━━━━━━━━━━━━━━━━━━\u001b[0m \u001b[32m64.0/64.0 kB\u001b[0m \u001b[31m13.8 MB/s\u001b[0m eta \u001b[36m0:00:00\u001b[0m\n",
      "\u001b[?25hDownloading opentelemetry_sdk-1.27.0-py3-none-any.whl (110 kB)\n",
      "\u001b[2K   \u001b[90m━━━━━━━━━━━━━━━━━━━━━━━━━━━━━━━━━━━━━━━━\u001b[0m \u001b[32m110.5/110.5 kB\u001b[0m \u001b[31m28.0 MB/s\u001b[0m eta \u001b[36m0:00:00\u001b[0m\n",
      "\u001b[?25hDownloading opentelemetry_semantic_conventions-0.48b0-py3-none-any.whl (149 kB)\n",
      "\u001b[2K   \u001b[90m━━━━━━━━━━━━━━━━━━━━━━━━━━━━━━━━━━━━━━━━\u001b[0m \u001b[32m149.7/149.7 kB\u001b[0m \u001b[31m30.6 MB/s\u001b[0m eta \u001b[36m0:00:00\u001b[0m\n",
      "\u001b[?25hDownloading sqlparse-0.5.1-py3-none-any.whl (44 kB)\n",
      "\u001b[2K   \u001b[90m━━━━━━━━━━━━━━━━━━━━━━━━━━━━━━━━━━━━━━━━\u001b[0m \u001b[32m44.2/44.2 kB\u001b[0m \u001b[31m9.1 MB/s\u001b[0m eta \u001b[36m0:00:00\u001b[0m\n",
      "\u001b[?25hDownloading Mako-1.3.5-py3-none-any.whl (78 kB)\n",
      "\u001b[2K   \u001b[90m━━━━━━━━━━━━━━━━━━━━━━━━━━━━━━━━━━━━━━━━\u001b[0m \u001b[32m78.6/78.6 kB\u001b[0m \u001b[31m18.0 MB/s\u001b[0m eta \u001b[36m0:00:00\u001b[0m\n",
      "\u001b[?25hDownloading Deprecated-1.2.14-py2.py3-none-any.whl (9.6 kB)\n",
      "Using cached gitdb-4.0.11-py3-none-any.whl (62 kB)\n",
      "Downloading google_auth-2.35.0-py2.py3-none-any.whl (208 kB)\n",
      "\u001b[2K   \u001b[90m━━━━━━━━━━━━━━━━━━━━━━━━━━━━━━━━━━━━━━━━\u001b[0m \u001b[32m209.0/209.0 kB\u001b[0m \u001b[31m44.6 MB/s\u001b[0m eta \u001b[36m0:00:00\u001b[0m\n",
      "\u001b[?25hDownloading pyasn1_modules-0.4.1-py3-none-any.whl (181 kB)\n",
      "\u001b[2K   \u001b[90m━━━━━━━━━━━━━━━━━━━━━━━━━━━━━━━━━━━━━━━━\u001b[0m \u001b[32m181.5/181.5 kB\u001b[0m \u001b[31m34.9 MB/s\u001b[0m eta \u001b[36m0:00:00\u001b[0m\n",
      "\u001b[?25hUsing cached smmap-5.0.1-py3-none-any.whl (24 kB)\n",
      "Downloading wrapt-1.16.0-cp310-cp310-manylinux_2_5_x86_64.manylinux1_x86_64.manylinux_2_17_x86_64.manylinux2014_x86_64.whl (80 kB)\n",
      "\u001b[2K   \u001b[90m━━━━━━━━━━━━━━━━━━━━━━━━━━━━━━━━━━━━━━━━\u001b[0m \u001b[32m80.3/80.3 kB\u001b[0m \u001b[31m16.5 MB/s\u001b[0m eta \u001b[36m0:00:00\u001b[0m\n",
      "\u001b[?25hInstalling collected packages: wrapt, sqlparse, smmap, pyasn1-modules, markdown, Mako, greenlet, graphql-core, cachetools, sqlalchemy, gunicorn, graphql-relay, google-auth, gitdb, deprecated, botocore, opentelemetry-api, graphene, gitpython, databricks-sdk, alembic, opentelemetry-semantic-conventions, boto3, awscli, opentelemetry-sdk, mlflow-skinny, mlflow, sagemaker-mlflow, sagemaker\n",
      "  Attempting uninstall: botocore\n",
      "    Found existing installation: botocore 1.35.16\n",
      "    Uninstalling botocore-1.35.16:\n",
      "      Successfully uninstalled botocore-1.35.16\n",
      "  Attempting uninstall: boto3\n",
      "    Found existing installation: boto3 1.35.16\n",
      "    Uninstalling boto3-1.35.16:\n",
      "      Successfully uninstalled boto3-1.35.16\n",
      "  Attempting uninstall: awscli\n",
      "    Found existing installation: awscli 1.34.16\n",
      "    Uninstalling awscli-1.34.16:\n",
      "      Successfully uninstalled awscli-1.34.16\n",
      "  Attempting uninstall: sagemaker\n",
      "    Found existing installation: sagemaker 2.231.0\n",
      "    Uninstalling sagemaker-2.231.0:\n",
      "      Successfully uninstalled sagemaker-2.231.0\n",
      "Successfully installed Mako-1.3.5 alembic-1.13.3 awscli-1.35.5 boto3-1.35.39 botocore-1.35.39 cachetools-5.5.0 databricks-sdk-0.34.0 deprecated-1.2.14 gitdb-4.0.11 gitpython-3.1.43 google-auth-2.35.0 graphene-3.3 graphql-core-3.2.5 graphql-relay-3.2.0 greenlet-3.1.1 gunicorn-23.0.0 markdown-3.7 mlflow-2.17.0 mlflow-skinny-2.17.0 opentelemetry-api-1.27.0 opentelemetry-sdk-1.27.0 opentelemetry-semantic-conventions-0.48b0 pyasn1-modules-0.4.1 sagemaker-2.232.2 sagemaker-mlflow-0.1.0 smmap-5.0.1 sqlalchemy-2.0.35 sqlparse-0.5.1 wrapt-1.16.0\n"
     ]
    }
   ],
   "source": [
    "!pip install boto3 sagemaker awscli sagemaker_ssh_helper -U"
   ]
  },
  {
   "cell_type": "code",
   "execution_count": 1,
   "id": "11514ade-df1c-4260-8797-83bfc5b279e7",
   "metadata": {
    "tags": []
   },
   "outputs": [
    {
     "name": "stdout",
     "output_type": "stream",
     "text": [
      "sagemaker.config INFO - Not applying SDK defaults from location: /etc/xdg/sagemaker/config.yaml\n",
      "sagemaker.config INFO - Not applying SDK defaults from location: /home/ec2-user/.config/sagemaker/config.yaml\n",
      "596899493901.dkr.ecr.us-east-1.amazonaws.com/gpt-sovits-inference-v2:latest\n"
     ]
    }
   ],
   "source": [
    "import boto3\n",
    "import sagemaker\n",
    "from sagemaker import Model, image_uris, serializers, deserializers\n",
    "\n",
    "role = sagemaker.get_execution_role()  # execution role for the endpoint\n",
    "sess = sagemaker.session.Session()  # sagemaker session for interacting with different AWS APIs\n",
    "region = sess._region_name  # region name of the current SageMaker Studio environment\n",
    "account_id = sess.account_id()  # account_id of the current SageMaker Studio environment\n",
    "bucket = sess.default_bucket()\n",
    "image=\"gpt-sovits-inference-v2\"\n",
    "s3_client = boto3.client(\"s3\")\n",
    "sm_client = boto3.client(\"sagemaker\")\n",
    "smr_client = boto3.client(\"sagemaker-runtime\")\n",
    "\n",
    "full_image_uri=f\"{account_id}.dkr.ecr.{region}.amazonaws.com/{image}:latest\"\n",
    "print(full_image_uri)\n"
   ]
  },
  {
   "cell_type": "markdown",
   "id": "349c0489",
   "metadata": {},
   "source": [
    "## Prepare and upload deploy codes"
   ]
  },
  {
   "cell_type": "code",
   "execution_count": 2,
   "id": "e01851bc",
   "metadata": {
    "tags": []
   },
   "outputs": [
    {
     "name": "stdout",
     "output_type": "stream",
     "text": [
      "./\n",
      "./Dockerfile\n",
      "./dockerbuild.sh\n",
      "./inference.py\n",
      "./tools/\n",
      "./tools/asr/\n",
      "./tools/asr/fasterwhisper_asr.py\n",
      "./tools/asr/config.py\n",
      "./tools/asr/funasr_asr.py\n",
      "./tools/asr/models/\n",
      "./tools/asr/models/.gitignore\n",
      "./tools/subfix_webui.py\n",
      "./tools/denoise-model/\n",
      "./tools/denoise-model/.gitignore\n",
      "./tools/slicer2.py\n",
      "./tools/my_utils.py\n",
      "./tools/slice_audio.py\n",
      "./tools/__init__.py\n",
      "./tools/cmd-denoise.py\n",
      "./tools/uvr5/\n",
      "./tools/uvr5/mdxnet.py\n",
      "./tools/uvr5/bsroformer.py\n",
      "./tools/uvr5/uvr5_weights/\n",
      "./tools/uvr5/uvr5_weights/.gitignore\n",
      "./tools/uvr5/vr.py\n",
      "./tools/uvr5/webui.py\n",
      "./tools/uvr5/lib/\n",
      "./tools/uvr5/lib/name_params.json\n",
      "./tools/uvr5/lib/utils.py\n",
      "./tools/uvr5/lib/lib_v5/\n",
      "./tools/uvr5/lib/lib_v5/layers.py\n",
      "./tools/uvr5/lib/lib_v5/nets_123812KB.py\n",
      "./tools/uvr5/lib/lib_v5/layers_537227KB.py\n",
      "./tools/uvr5/lib/lib_v5/modelparams/\n",
      "./tools/uvr5/lib/lib_v5/modelparams/1band_sr32000_hl512.json\n",
      "./tools/uvr5/lib/lib_v5/modelparams/1band_sr44100_hl512.json\n",
      "./tools/uvr5/lib/lib_v5/modelparams/4band_44100_msb.json\n",
      "./tools/uvr5/lib/lib_v5/modelparams/4band_v3.json\n",
      "./tools/uvr5/lib/lib_v5/modelparams/2band_44100_lofi.json\n",
      "./tools/uvr5/lib/lib_v5/modelparams/1band_sr33075_hl384.json\n",
      "./tools/uvr5/lib/lib_v5/modelparams/ensemble.json\n",
      "./tools/uvr5/lib/lib_v5/modelparams/1band_sr44100_hl512_cut.json\n",
      "./tools/uvr5/lib/lib_v5/modelparams/1band_sr16000_hl512.json\n",
      "./tools/uvr5/lib/lib_v5/modelparams/2band_48000.json\n",
      "./tools/uvr5/lib/lib_v5/modelparams/4band_44100_reverse.json\n",
      "./tools/uvr5/lib/lib_v5/modelparams/4band_44100_sw.json\n",
      "./tools/uvr5/lib/lib_v5/modelparams/1band_sr44100_hl256.json\n",
      "./tools/uvr5/lib/lib_v5/modelparams/4band_44100_mid.json\n",
      "./tools/uvr5/lib/lib_v5/modelparams/1band_sr44100_hl1024.json\n",
      "./tools/uvr5/lib/lib_v5/modelparams/3band_44100_mid.json\n",
      "./tools/uvr5/lib/lib_v5/modelparams/4band_44100.json\n",
      "./tools/uvr5/lib/lib_v5/modelparams/4band_v2_sn.json\n",
      "./tools/uvr5/lib/lib_v5/modelparams/2band_32000.json\n",
      "./tools/uvr5/lib/lib_v5/modelparams/4band_44100_msb2.json\n",
      "./tools/uvr5/lib/lib_v5/modelparams/4band_v2.json\n",
      "./tools/uvr5/lib/lib_v5/modelparams/3band_44100_msb2.json\n",
      "./tools/uvr5/lib/lib_v5/modelparams/3band_44100.json\n",
      "./tools/uvr5/lib/lib_v5/nets_61968KB.py\n",
      "./tools/uvr5/lib/lib_v5/layers_new.py\n",
      "./tools/uvr5/lib/lib_v5/spec_utils.py\n",
      "./tools/uvr5/lib/lib_v5/layers_123821KB.py\n",
      "./tools/uvr5/lib/lib_v5/nets_537227KB.py\n",
      "./tools/uvr5/lib/lib_v5/dataset.py\n",
      "./tools/uvr5/lib/lib_v5/model_param_init.py\n",
      "./tools/uvr5/lib/lib_v5/layers_537238KB.py\n",
      "./tools/uvr5/lib/lib_v5/nets_33966KB.py\n",
      "./tools/uvr5/lib/lib_v5/nets_123821KB.py\n",
      "./tools/uvr5/lib/lib_v5/layers_123812KB.py\n",
      "./tools/uvr5/lib/lib_v5/nets_537238KB.py\n",
      "./tools/uvr5/lib/lib_v5/nets.py\n",
      "./tools/uvr5/lib/lib_v5/nets_new.py\n",
      "./tools/uvr5/lib/lib_v5/layers_33966KB.py\n",
      "./tools/uvr5/bs_roformer/\n",
      "./tools/uvr5/bs_roformer/attend.py\n",
      "./tools/uvr5/bs_roformer/__init__.py\n",
      "./tools/uvr5/bs_roformer/bs_roformer.py\n",
      "./tools/i18n/\n",
      "./tools/i18n/locale/\n",
      "./tools/i18n/locale/ko_KR.json\n",
      "./tools/i18n/locale/it_IT.json\n",
      "./tools/i18n/locale/pt_BR.json\n",
      "./tools/i18n/locale/es_ES.json\n",
      "./tools/i18n/locale/zh_CN.json\n",
      "./tools/i18n/locale/ja_JP.json\n",
      "./tools/i18n/locale/zh_SG.json\n",
      "./tools/i18n/locale/tr_TR.json\n",
      "./tools/i18n/locale/en_US.json\n",
      "./tools/i18n/locale/zh_HK.json\n",
      "./tools/i18n/locale/fr_FR.json\n",
      "./tools/i18n/locale/ru_RU.json\n",
      "./tools/i18n/locale/zh_TW.json\n",
      "./tools/i18n/i18n.py\n",
      "./tools/i18n/scan_i18n.py\n",
      "./go-webui.ps1\n",
      "./build_and_push.sh\n",
      "./go-webui.bat\n",
      "./docker-compose.yaml\n",
      "./config.py\n",
      "./GPT_SoVITS/\n",
      "./GPT_SoVITS/process_ckpt.py\n",
      "./GPT_SoVITS/onnx_export.py\n",
      "./GPT_SoVITS/inference_webui.py\n",
      "./GPT_SoVITS/download.py\n",
      "./GPT_SoVITS/prepare_datasets/\n",
      "./GPT_SoVITS/prepare_datasets/3-get-semantic.py\n",
      "./GPT_SoVITS/prepare_datasets/2-get-hubert-wav32k.py\n",
      "./GPT_SoVITS/prepare_datasets/1-get-text.py\n",
      "./GPT_SoVITS/inference_cli.py\n",
      "./GPT_SoVITS/module/\n",
      "./GPT_SoVITS/module/attentions.py\n",
      "./GPT_SoVITS/module/attentions_onnx.py\n",
      "./GPT_SoVITS/module/losses.py\n",
      "./GPT_SoVITS/module/mel_processing.py\n",
      "./GPT_SoVITS/module/transforms.py\n",
      "./GPT_SoVITS/module/commons.py\n",
      "./GPT_SoVITS/module/models.py\n",
      "./GPT_SoVITS/module/models_onnx.py\n",
      "./GPT_SoVITS/module/core_vq.py\n",
      "./GPT_SoVITS/module/modules.py\n",
      "./GPT_SoVITS/module/mrte_model.py\n",
      "./GPT_SoVITS/module/data_utils.py\n",
      "./GPT_SoVITS/module/__init__.py\n",
      "./GPT_SoVITS/module/quantize.py\n",
      "./GPT_SoVITS/text/\n",
      "./GPT_SoVITS/text/engdict_cache.pickle\n",
      "./GPT_SoVITS/text/namedict_cache.pickle\n",
      "./GPT_SoVITS/text/cleaner.py\n",
      "./GPT_SoVITS/text/engdict-hot.rep\n",
      "./GPT_SoVITS/text/cmudict-fast.rep\n",
      "./GPT_SoVITS/text/ja_userdic/\n",
      "./GPT_SoVITS/text/ja_userdic/userdict.csv\n",
      "./GPT_SoVITS/text/tone_sandhi.py\n",
      "./GPT_SoVITS/text/cantonese.py\n",
      "./GPT_SoVITS/text/symbols.py\n",
      "./GPT_SoVITS/text/chinese.py\n",
      "./GPT_SoVITS/text/g2pw/\n",
      "./GPT_SoVITS/text/g2pw/g2pw.py\n",
      "./GPT_SoVITS/text/g2pw/onnx_api.py\n",
      "./GPT_SoVITS/text/g2pw/polyphonic.rep\n",
      "./GPT_SoVITS/text/g2pw/utils.py\n",
      "./GPT_SoVITS/text/g2pw/dataset.py\n",
      "./GPT_SoVITS/text/g2pw/polyphonic.pickle\n",
      "./GPT_SoVITS/text/g2pw/__init__.py\n",
      "./GPT_SoVITS/text/g2pw/polyphonic-fix.rep\n",
      "./GPT_SoVITS/text/korean.py\n",
      "./GPT_SoVITS/text/.gitignore\n",
      "./GPT_SoVITS/text/zh_normalization/\n",
      "./GPT_SoVITS/text/zh_normalization/num.py\n",
      "./GPT_SoVITS/text/zh_normalization/text_normlization.py\n",
      "./GPT_SoVITS/text/zh_normalization/phonecode.py\n",
      "./GPT_SoVITS/text/zh_normalization/README.md\n",
      "./GPT_SoVITS/text/zh_normalization/quantifier.py\n",
      "./GPT_SoVITS/text/zh_normalization/constants.py\n",
      "./GPT_SoVITS/text/zh_normalization/chronology.py\n",
      "./GPT_SoVITS/text/zh_normalization/char_convert.py\n",
      "./GPT_SoVITS/text/zh_normalization/__init__.py\n",
      "./GPT_SoVITS/text/chinese2.py\n",
      "./GPT_SoVITS/text/cmudict.rep\n",
      "./GPT_SoVITS/text/__init__.py\n",
      "./GPT_SoVITS/text/opencpop-strict.txt\n",
      "./GPT_SoVITS/text/japanese.py\n",
      "./GPT_SoVITS/text/symbols2.py\n",
      "./GPT_SoVITS/text/english.py\n",
      "./GPT_SoVITS/configs/\n",
      "./GPT_SoVITS/configs/tts_infer.yaml\n",
      "./GPT_SoVITS/configs/s1big2.yaml\n",
      "./GPT_SoVITS/configs/s1.yaml\n",
      "./GPT_SoVITS/configs/train.yaml\n",
      "./GPT_SoVITS/configs/s1longer-v2.yaml\n",
      "./GPT_SoVITS/configs/s1longer.yaml\n",
      "./GPT_SoVITS/configs/s1mq.yaml\n",
      "./GPT_SoVITS/configs/s1big.yaml\n",
      "./GPT_SoVITS/configs/s2.json\n",
      "./GPT_SoVITS/inference_gui.py\n",
      "./GPT_SoVITS/utils.py\n",
      "./GPT_SoVITS/inference_webui_fast.py\n",
      "./GPT_SoVITS/pretrained_models/\n",
      "./GPT_SoVITS/pretrained_models/.gitignore\n",
      "./GPT_SoVITS/feature_extractor/\n",
      "./GPT_SoVITS/feature_extractor/whisper_enc.py\n",
      "./GPT_SoVITS/feature_extractor/cnhubert.py\n",
      "./GPT_SoVITS/feature_extractor/__init__.py\n",
      "./GPT_SoVITS/s1_train.py\n",
      "./GPT_SoVITS/TTS_infer_pack/\n",
      "./GPT_SoVITS/TTS_infer_pack/TTS.py\n",
      "./GPT_SoVITS/TTS_infer_pack/TextPreprocessor.py\n",
      "./GPT_SoVITS/TTS_infer_pack/__init__.py\n",
      "./GPT_SoVITS/TTS_infer_pack/text_segmentation_method.py\n",
      "./GPT_SoVITS/AR/\n",
      "./GPT_SoVITS/AR/data/\n",
      "./GPT_SoVITS/AR/data/data_module.py\n",
      "./GPT_SoVITS/AR/data/bucket_sampler.py\n",
      "./GPT_SoVITS/AR/data/dataset.py\n",
      "./GPT_SoVITS/AR/data/__init__.py\n",
      "./GPT_SoVITS/AR/utils/\n",
      "./GPT_SoVITS/AR/utils/initialize.py\n",
      "./GPT_SoVITS/AR/utils/__init__.py\n",
      "./GPT_SoVITS/AR/utils/io.py\n",
      "./GPT_SoVITS/AR/text_processing/\n",
      "./GPT_SoVITS/AR/text_processing/symbols.py\n",
      "./GPT_SoVITS/AR/text_processing/phonemizer.py\n",
      "./GPT_SoVITS/AR/text_processing/__init__.py\n",
      "./GPT_SoVITS/AR/modules/\n",
      "./GPT_SoVITS/AR/modules/embedding.py\n",
      "./GPT_SoVITS/AR/modules/activation_onnx.py\n",
      "./GPT_SoVITS/AR/modules/optim.py\n",
      "./GPT_SoVITS/AR/modules/transformer.py\n",
      "./GPT_SoVITS/AR/modules/transformer_onnx.py\n",
      "./GPT_SoVITS/AR/modules/scaling.py\n",
      "./GPT_SoVITS/AR/modules/lr_schedulers.py\n",
      "./GPT_SoVITS/AR/modules/patched_mha_with_cache_onnx.py\n",
      "./GPT_SoVITS/AR/modules/patched_mha_with_cache.py\n",
      "./GPT_SoVITS/AR/modules/activation.py\n",
      "./GPT_SoVITS/AR/modules/__init__.py\n",
      "./GPT_SoVITS/AR/modules/embedding_onnx.py\n",
      "./GPT_SoVITS/AR/__init__.py\n",
      "./GPT_SoVITS/AR/models/\n",
      "./GPT_SoVITS/AR/models/t2s_lightning_module_onnx.py\n",
      "./GPT_SoVITS/AR/models/t2s_model.py\n",
      "./GPT_SoVITS/AR/models/utils.py\n",
      "./GPT_SoVITS/AR/models/t2s_lightning_module.py\n",
      "./GPT_SoVITS/AR/models/__init__.py\n",
      "./GPT_SoVITS/AR/models/t2s_model_onnx.py\n",
      "./GPT_SoVITS/s2_train.py\n",
      "./webui.py\n",
      "./api_v2.py\n",
      "./README.md\n",
      "./api.py\n",
      "./requirements.txt\n",
      "./Docker/\n",
      "./Docker/download.py\n",
      "./Docker/damo.sha256\n",
      "./Docker/links.sha256\n",
      "./Docker/download.sh\n",
      "./Docker/download_g2w_models.py\n",
      "./Docker/links.txt\n",
      "./ssh_helper_start.py\n",
      "./Dockerfile-sagemaker\n",
      "./LICENSE\n",
      "tar: .: file changed as we read it\n"
     ]
    }
   ],
   "source": [
    "!rm GPT-SoVITS.tar.gz\n",
    "!tar -czvf GPT-SoVITS.tar.gz --transform 's,^,GPT-SoVITS/,' . --exclude='*.ipynb' --exclude='serve' --exclude='docs' --exclude='GPT-SoVITS.*' --exclude='./.*'"
   ]
  },
  {
   "cell_type": "code",
   "execution_count": 3,
   "id": "c3e67daf",
   "metadata": {
    "tags": []
   },
   "outputs": [
    {
     "name": "stdout",
     "output_type": "stream",
     "text": [
      "S3 Code or Model tar ball uploaded to --- > s3://sagemaker-us-east-1-596899493901/gpt_sovits_codes/GPT-SoVITS.tar.gz\n"
     ]
    }
   ],
   "source": [
    "s3_code_prefix = \"gpt_sovits_codes\"\n",
    "bucket = sess.default_bucket()\n",
    "code_artifact = sess.upload_data(\"GPT-SoVITS.tar.gz\", bucket, s3_code_prefix)\n",
    "print(f\"S3 Code or Model tar ball uploaded to --- > {code_artifact}\")"
   ]
  },
  {
   "cell_type": "markdown",
   "id": "a54bf5b1",
   "metadata": {
    "tags": []
   },
   "source": [
    "## Remote debug test \n",
    "Since we are using the BYOC (Bring Your Own Container) method to deploy the GPT-SoVITS model, we can deploy and debug the code using [SSH Helper](https://github.com/aws-samples/sagemaker-ssh-helper/blob/main/README.md) after preparing the initial code. Once the debugging is successful, we can then deploy it using the regular method.\n",
    "\n",
    "1. Deploy the model using SageMaker SSH Helper([Setting up your AWS account with IAM and SSM configuration](https://github.com/aws-samples/sagemaker-ssh-helper/blob/main/IAM_SSM_Setup.md))\n",
    "2. After got the instance_id, ssh to the instance and debug."
   ]
  },
  {
   "cell_type": "code",
   "execution_count": 4,
   "id": "a9a45469-989b-4709-bc1f-8c6a59ac6fc0",
   "metadata": {
    "tags": []
   },
   "outputs": [],
   "source": [
    "from sagemaker_ssh_helper.wrapper import SSHModelWrapper\n",
    "model = Model(image_uri=full_image_uri, model_data=code_artifact, role=role,dependencies=[SSHModelWrapper.dependency_dir()] )"
   ]
  },
  {
   "cell_type": "code",
   "execution_count": 5,
   "id": "73e60433-09e8-449e-9fc5-6fbd639d98f2",
   "metadata": {
    "tags": []
   },
   "outputs": [],
   "source": [
    "from sagemaker_ssh_helper.wrapper import SSHModelWrapper\n",
    "from time import gmtime, strftime\n",
    "from sagemaker import Predictor\n",
    "instance_type = \"ml.g5.xlarge\"\n",
    "endpoint_name = sagemaker.utils.name_from_base(\"gpt-sovits-inference\")\n",
    "# endpointName=\"gpt-sovits-sagemaker-endpoint-v2-\"+strftime(\"%Y-%m-%d-%H-%M-%S\", gmtime())\n",
    "\n",
    "ssh_wrapper = SSHModelWrapper.create(model, connection_wait_time_seconds=0)  # <--NEW--\n",
    "\n",
    "predictor = model.deploy(\n",
    "    initial_instance_count=1,\n",
    "    instance_type=instance_type,\n",
    "    endpoint_name=endpoint_name,\n",
    "    wait=False\n",
    ")\n",
    "\n",
    "\n",
    "# instance_ids = ssh_wrapper.get_instance_ids(timeout_in_sec=900)  # <--NEW-- \n",
    "# print(f\"To connect over SSM run: aws ssm start-session --target {instance_ids[0]}\")"
   ]
  },
  {
   "cell_type": "code",
   "execution_count": 6,
   "id": "3e09b3b3-75e2-45d3-982d-98ad83ec3350",
   "metadata": {
    "tags": []
   },
   "outputs": [
    {
     "name": "stdout",
     "output_type": "stream",
     "text": [
      "Status: Creating\n",
      "Status: Creating\n",
      "Status: Creating\n",
      "Status: Creating\n",
      "Status: Creating\n",
      "Status: Creating\n",
      "Status: InService\n",
      "Arn: arn:aws:sagemaker:us-east-1:596899493901:endpoint/gpt-sovits-inference-2024-10-14-12-12-29-241\n",
      "Status: InService\n"
     ]
    }
   ],
   "source": [
    "import time\n",
    "sm_client = boto3.client(\"sagemaker\")\n",
    "resp = sm_client.describe_endpoint(EndpointName=endpoint_name)\n",
    "status = resp[\"EndpointStatus\"]\n",
    "print(\"Status: \" + status)\n",
    "\n",
    "while status == \"Creating\":\n",
    "    time.sleep(60)\n",
    "    resp = sm_client.describe_endpoint(EndpointName=endpoint_name)\n",
    "    status = resp[\"EndpointStatus\"]\n",
    "    print(\"Status: \" + status)\n",
    "\n",
    "print(\"Arn: \" + resp[\"EndpointArn\"])\n",
    "print(\"Status: \" + status)"
   ]
  },
  {
   "cell_type": "code",
   "execution_count": 7,
   "id": "0e11f9ac-aa83-4ecc-a2a5-afff1291e338",
   "metadata": {
    "tags": []
   },
   "outputs": [
    {
     "name": "stdout",
     "output_type": "stream",
     "text": [
      "mi-02ef9c5d53a7e83f0\n"
     ]
    }
   ],
   "source": [
    "# aws ssm start-session --target <Your_instance_ids>\n",
    "instance_ids = ssh_wrapper.get_instance_ids(timeout_in_sec=0)\n",
    "print(instance_ids[0])"
   ]
  },
  {
   "cell_type": "markdown",
   "id": "6abe8919-0bb9-43c0-8d03-4a2a2a1e9a2e",
   "metadata": {
    "tags": []
   },
   "source": [
    "## SM Endpoint deployment(Regular method for production)\n",
    "\n",
    "After debugging is completed using the SSH Helper, you can officially use the following code block for deployment.\n",
    "\n",
    "Remember to delete the node occupied by the SSH Helper in time! There is a command to delete the node at the end of this example code."
   ]
  },
  {
   "cell_type": "markdown",
   "id": "a1663aa2",
   "metadata": {
    "tags": []
   },
   "source": [
    "### create sagemaker model"
   ]
  },
  {
   "cell_type": "code",
   "execution_count": 4,
   "id": "3623fcd0",
   "metadata": {
    "tags": []
   },
   "outputs": [],
   "source": [
    "import boto3\n",
    "import re\n",
    "import os\n",
    "import json\n",
    "import uuid\n",
    "import boto3\n",
    "import sagemaker\n",
    "from time import strftime, gmtime\n",
    "\n",
    "## for debug only\n",
    "from sagemaker_ssh_helper.wrapper import SSHModelWrapper\n",
    "sm_client = boto3.client(service_name='sagemaker')\n",
    "\n",
    "\n",
    "def create_model():\n",
    "    model_name=\"gpt-sovits-sagemaker-\"+strftime(\"%Y-%m-%d-%H-%M-%S\", gmtime())\n",
    "    create_model_response = sm_client.create_model(\n",
    "        ModelName=model_name,\n",
    "        ExecutionRoleArn=role,\n",
    "        Containers=[{\"Image\": full_image_uri,\"ModelDataUrl\": code_artifact}],\n",
    "    )\n",
    "    print(create_model_response)\n",
    "    return model_name"
   ]
  },
  {
   "cell_type": "code",
   "execution_count": 5,
   "id": "e913d8d0",
   "metadata": {
    "tags": []
   },
   "outputs": [
    {
     "name": "stdout",
     "output_type": "stream",
     "text": [
      "{'ModelArn': 'arn:aws:sagemaker:us-east-1:596899493901:model/gpt-sovits-sagemaker-2024-10-14-13-16-17', 'ResponseMetadata': {'RequestId': '71087281-4cc0-4654-b3d3-a83d6d80f130', 'HTTPStatusCode': 200, 'HTTPHeaders': {'x-amzn-requestid': '71087281-4cc0-4654-b3d3-a83d6d80f130', 'content-type': 'application/x-amz-json-1.1', 'content-length': '102', 'date': 'Mon, 14 Oct 2024 13:16:16 GMT'}, 'RetryAttempts': 0}}\n"
     ]
    }
   ],
   "source": [
    "model_name=create_model()"
   ]
  },
  {
   "cell_type": "markdown",
   "id": "4159960d",
   "metadata": {
    "tags": []
   },
   "source": [
    "### create endpoint configuration"
   ]
  },
  {
   "cell_type": "code",
   "execution_count": 6,
   "id": "01b4ba47",
   "metadata": {
    "tags": []
   },
   "outputs": [],
   "source": [
    "endpoint_name=\"gpt-sovits-v2-\"+strftime(\"%Y-%m-%d-%H-%M-%S\", gmtime())\n",
    "def create_endpoint_configuration():\n",
    "    create_endpoint_config_response = sm_client.create_endpoint_config(     \n",
    "        EndpointConfigName=endpoint_name,\n",
    "        ProductionVariants=[\n",
    "            {\n",
    "                #\"ModelName\":\"gpt-sovits-sagemaker-012024-03-28-04-00-03\",\n",
    "                \"ModelName\":model_name,\n",
    "                \"VariantName\": \"gpt-sovits-sagemaker\"+\"-variant\",\n",
    "                \"InstanceType\": \"ml.g5.xlarge\",  # 指定 g5.xlarge 机器\n",
    "                \"InitialInstanceCount\": 1,\n",
    "                \"ModelDataDownloadTimeoutInSeconds\": 1200,\n",
    "                \"ContainerStartupHealthCheckTimeoutInSeconds\": 1200,\n",
    "            }\n",
    "        ],\n",
    "    )\n",
    "    print(create_endpoint_config_response)\n",
    "    return endpoint_name\n"
   ]
  },
  {
   "cell_type": "code",
   "execution_count": 7,
   "id": "d06fb9ae",
   "metadata": {
    "tags": []
   },
   "outputs": [
    {
     "name": "stdout",
     "output_type": "stream",
     "text": [
      "{'EndpointConfigArn': 'arn:aws:sagemaker:us-east-1:596899493901:endpoint-config/gpt-sovits-code-artifact-2024-10-14-13-16-19', 'ResponseMetadata': {'RequestId': '06ff9b7a-0daf-46bb-88eb-d5a767205abd', 'HTTPStatusCode': 200, 'HTTPHeaders': {'x-amzn-requestid': '06ff9b7a-0daf-46bb-88eb-d5a767205abd', 'content-type': 'application/x-amz-json-1.1', 'content-length': '125', 'date': 'Mon, 14 Oct 2024 13:16:22 GMT'}, 'RetryAttempts': 0}}\n"
     ]
    },
    {
     "data": {
      "text/plain": [
       "'gpt-sovits-code-artifact-2024-10-14-13-16-19'"
      ]
     },
     "execution_count": 7,
     "metadata": {},
     "output_type": "execute_result"
    }
   ],
   "source": [
    "create_endpoint_configuration()"
   ]
  },
  {
   "cell_type": "markdown",
   "id": "e6e35082",
   "metadata": {
    "tags": []
   },
   "source": [
    "### create endpoint"
   ]
  },
  {
   "cell_type": "code",
   "execution_count": 8,
   "id": "40abb7a9",
   "metadata": {
    "tags": []
   },
   "outputs": [],
   "source": [
    "# endpointName=\"gpt-sovits-sagemaker-endpoint-v2-\"+strftime(\"%Y-%m-%d-%H-%M-%S\", gmtime())\n",
    "def create_endpoint():\n",
    "    create_endpoint_response = sm_client.create_endpoint(\n",
    "        EndpointName=endpoint_name,\n",
    "        EndpointConfigName=endpoint_name\n",
    "    )\n",
    "    print(\"Endpoint Arn: \" + create_endpoint_response[\"EndpointArn\"])\n",
    "    resp = sm_client.describe_endpoint(EndpointName=endpoint_name)\n",
    "    print(\"Endpoint Status: \" + resp[\"EndpointStatus\"])\n",
    "    print(\"Waiting for {} endpoint to be in service\".format(\"gpt-sovits-sagemaker-endpoint\"))\n",
    "    waiter = sm_client.get_waiter(\"endpoint_in_service\")\n",
    "    waiter.wait(EndpointName=endpoint_name)"
   ]
  },
  {
   "cell_type": "code",
   "execution_count": 9,
   "id": "c7e6b443-321d-467b-99a8-6e60596f0332",
   "metadata": {
    "tags": []
   },
   "outputs": [
    {
     "data": {
      "text/plain": [
       "'gpt-sovits-code-artifact-2024-10-14-13-16-19'"
      ]
     },
     "execution_count": 9,
     "metadata": {},
     "output_type": "execute_result"
    }
   ],
   "source": [
    "endpoint_name"
   ]
  },
  {
   "cell_type": "code",
   "execution_count": 10,
   "id": "adeafb65",
   "metadata": {
    "tags": []
   },
   "outputs": [
    {
     "name": "stdout",
     "output_type": "stream",
     "text": [
      "Endpoint Arn: arn:aws:sagemaker:us-east-1:596899493901:endpoint/gpt-sovits-code-artifact-2024-10-14-13-16-19\n",
      "Endpoint Status: Creating\n",
      "Waiting for gpt-sovits-sagemaker-endpoint endpoint to be in service\n"
     ]
    }
   ],
   "source": [
    "create_endpoint()"
   ]
  },
  {
   "cell_type": "markdown",
   "id": "3594fc7d",
   "metadata": {
    "tags": []
   },
   "source": [
    "## Realtime inferecne with sagemaker endpoint\n",
    "\n",
    "Remember to replace the EndpointName passed into the invoke function with the actual endpoint name of your deployment."
   ]
  },
  {
   "cell_type": "code",
   "execution_count": 13,
   "id": "3a4dae12",
   "metadata": {
    "tags": []
   },
   "outputs": [],
   "source": [
    "import json\n",
    "import boto3\n",
    "runtime_sm_client = boto3.client(service_name=\"sagemaker-runtime\")\n",
    "def invoke_endpoint(request):\n",
    "    content_type = \"application/json\"\n",
    "    request_body = request\n",
    "    payload = json.dumps(request_body)\n",
    "    print(payload)\n",
    "    response = runtime_sm_client.invoke_endpoint(\n",
    "        EndpointName=endpoint_name,\n",
    "        ContentType=content_type,\n",
    "        Body=payload,\n",
    "    )\n",
    "    result = response['Body'].read().decode()\n",
    "    print('返回：',result)\n",
    "    return result"
   ]
  },
  {
   "cell_type": "code",
   "execution_count": 14,
   "id": "b01f4489",
   "metadata": {
    "tags": []
   },
   "outputs": [
    {
     "name": "stdout",
     "output_type": "stream",
     "text": [
      "{\"refer_wav_path\": \"s3://tts-xq/test-data/\\u97f3\\u8d28\\u597d.wav\", \"prompt_text\": \"\\u811a\\u4e0b\\u5f53\\u5fc3\\uff01\\u8fd9\\u4f4d\\u5ba2\\u5b98\\uff0c\\u60f3\\u7167\\u987e\\u6211\\u4eec\\u5f80\\u751f\\u5802\\u7684\\u751f\\u610f\\uff0c\\u4e5f\\u4e0d\\u5fc5\\u8fd9\\u4e48\\u5fc3\\u6025\\u561b\\uff1f\\u4f60\\u6ca1\\u4ec0\\u4e48\\u4e8b\\u5427\\uff1f\\u55ef\\uff1f\\u9ebb\\u70e6\\u7684\\u5bb6\\u4f19\\u3002\", \"prompt_language\": \"zh\", \"text\": \"\\u9003\\u8bfe\\u4e0a\\u7f51\\uff0c\\u6253\\u67b6\\u6597\\u6bb4\\uff0c\\u4e0a\\u8bfe\\u7761\\u89c9\\uff0c\\u6837\\u6837\\u4ff1\\u5168\\uff1b\\u4f60\\u3001\\u4f60\\u771f\\u662f\\u2026\\u5b7a\\u5b50\\u4e0d\\u53ef\\u6559\\u4e5f\\uff01\\uff01\\uff01\", \"text_language\": \"zh\", \"output_s3uri\": \"s3://tts-xq/gpt_sovits_output/wav/\"}\n",
      "返回： {\"result\": \"s3://tts-xq/gpt_sovits_output/wav/gpt_sovits_1728912464908.mp3\"}\n"
     ]
    }
   ],
   "source": [
    "\n",
    "request = {\"refer_wav_path\":\"s3://tts-xq/test-data/音质好.wav\",\n",
    "    \"prompt_text\": \"脚下当心！这位客官，想照顾我们往生堂的生意，也不必这么心急嘛？你没什么事吧？嗯？麻烦的家伙。\",\n",
    "    \"prompt_language\":\"zh\",\n",
    "    \"text\":\"逃课上网，打架斗殴，上课睡觉，样样俱全；你、你真是…孺子不可教也！！！\",\n",
    "    \"text_language\" :\"zh\",\n",
    "    \"output_s3uri\":\"s3://tts-xq/gpt_sovits_output/wav/\"}\n",
    "    \n",
    "result = invoke_endpoint(request)"
   ]
  },
  {
   "cell_type": "code",
   "execution_count": 15,
   "id": "8a8ea03c-e709-4888-ad44-b3ccbf3abcfd",
   "metadata": {
    "tags": []
   },
   "outputs": [
    {
     "data": {
      "text/plain": [
       "'{\"result\": \"s3://tts-xq/gpt_sovits_output/wav/gpt_sovits_1728912464908.mp3\"}'"
      ]
     },
     "execution_count": 15,
     "metadata": {},
     "output_type": "execute_result"
    }
   ],
   "source": [
    "result"
   ]
  },
  {
   "cell_type": "code",
   "execution_count": 16,
   "id": "d4f8d8e4-9920-4853-9621-a33d67ba8ef3",
   "metadata": {
    "tags": []
   },
   "outputs": [],
   "source": [
    "results_audio = eval(result)[\"result\"]"
   ]
  },
  {
   "cell_type": "code",
   "execution_count": 21,
   "id": "d7ae7796-8d05-47af-8979-19bdb8c35cfc",
   "metadata": {
    "tags": []
   },
   "outputs": [
    {
     "name": "stdout",
     "output_type": "stream",
     "text": [
      "download: s3://tts-xq/gpt_sovits_output/wav/gpt_sovits_1724428901895.mp3 to ./gpt_sovits_1724428901895.mp3\n"
     ]
    }
   ],
   "source": [
    "# you can download it from s3 console\n",
    "!aws s3 cp $results_audio ./"
   ]
  },
  {
   "cell_type": "markdown",
   "id": "bedb7abc",
   "metadata": {},
   "source": [
    "### 调用时替换基础 gpt 模型和 Sovits 模型"
   ]
  },
  {
   "cell_type": "code",
   "execution_count": null,
   "id": "e3a11e95",
   "metadata": {
    "tags": []
   },
   "outputs": [
    {
     "name": "stdout",
     "output_type": "stream",
     "text": [
      "{\"refer_wav_path\": \"s3://tts-xq/test-data/\\u97f3\\u8d28\\u597d.wav\", \"prompt_text\": \"\\u811a\\u4e0b\\u5f53\\u5fc3\\uff01\\u8fd9\\u4f4d\\u5ba2\\u5b98\\uff0c\\u60f3\\u7167\\u987e\\u6211\\u4eec\\u5f80\\u751f\\u5802\\u7684\\u751f\\u610f\\uff0c\\u4e5f\\u4e0d\\u5fc5\\u8fd9\\u4e48\\u5fc3\\u6025\\u561b\\uff1f\\u4f60\\u6ca1\\u4ec0\\u4e48\\u4e8b\\u5427\\uff1f\\u55ef\\uff1f\\u9ebb\\u70e6\\u7684\\u5bb6\\u4f19\\u3002\", \"prompt_language\": \"zh\", \"text\": \"\\u9003\\u8bfe\\u4e0a\\u7f51\\uff0c\\u6253\\u67b6\\u6597\\u6bb4\\uff0c\\u4e0a\\u8bfe\\u7761\\u89c9\\uff0c\\u6837\\u6837\\u4ff1\\u5168\\uff1b\\u4f60\\u3001\\u4f60\\u771f\\u662f\\u2026\\u5b7a\\u5b50\\u4e0d\\u53ef\\u6559\\u4e5f\\uff01\\uff01\\uff01\", \"text_language\": \"zh\", \"output_s3uri\": \"s3://tts-xq/gpt_sovits_output/wav/\", \"gpt_weights_path\": \"s3://asr-xq/gaoguai001-e15.ckpt\", \"sovits_weights_path\": \"s3://asr-xq/gaoguai001_e8_s96.pth\"}\n"
     ]
    }
   ],
   "source": [
    "# Change gpt_weights and sovits_weights\n",
    "\n",
    "request = {\"refer_wav_path\":\"s3://tts-xq/test-data/音质好.wav\",\n",
    "    \"prompt_text\": \"脚下当心！这位客官，想照顾我们往生堂的生意，也不必这么心急嘛？你没什么事吧？嗯？麻烦的家伙。\",\n",
    "    \"prompt_language\":\"zh\",\n",
    "    \"text\":\"逃课上网，打架斗殴，上课睡觉，样样俱全；你、你真是…孺子不可教也！！！\",\n",
    "    \"text_language\" :\"zh\",\n",
    "    \"output_s3uri\":\"s3://tts-xq/gpt_sovits_output/wav/\",\n",
    "    \"gpt_weights_path\":\"s3://asr-xq/gaoguai001-e15.ckpt\",\n",
    "    \"sovits_weights_path\":\"s3://asr-xq/gaoguai001_e8_s96.pth\"\n",
    "}\n",
    "\n",
    "result = invoke_endpoint(request)"
   ]
  },
  {
   "cell_type": "markdown",
   "id": "9e41b30b-e8f7-4c7f-853f-7d861c12c543",
   "metadata": {
    "tags": []
   },
   "source": [
    "## Streams test (only for stream branch deployment)"
   ]
  },
  {
   "cell_type": "code",
   "execution_count": 23,
   "id": "ac28f418-dd4f-4dab-a7cb-412b5048df28",
   "metadata": {
    "tags": []
   },
   "outputs": [],
   "source": [
    "import requests\n",
    "\n",
    "chunk_bytes=None\n",
    "\n",
    "def upsert(lst, new_dict):\n",
    "    for i, item in enumerate(lst):\n",
    "        if new_dict['index'] == i:\n",
    "            lst[i] = new_dict\n",
    "            return lst\n",
    "    lst.append(new_dict)\n",
    "    return lst\n",
    "\n",
    "def invoke_streams_endpoint(smr_client,endpointName, request):\n",
    "    global chunk_bytes\n",
    "    content_type = \"application/json\"\n",
    "    payload = json.dumps(request,ensure_ascii=False)\n",
    "\n",
    "    response_model = smr_client.invoke_endpoint_with_response_stream(\n",
    "        EndpointName=endpointName,\n",
    "        ContentType=content_type,\n",
    "        Body=payload,\n",
    "    )\n",
    "\n",
    "    result = []\n",
    "    print(response_model['ResponseMetadata'])\n",
    "    event_stream = iter(response_model['Body'])\n",
    "    index = 0\n",
    "    try: \n",
    "        while True:\n",
    "            event = next(event_stream)\n",
    "            eventChunk = event['PayloadPart']['Bytes']\n",
    "            chunk_dict = {}\n",
    "            if index == 0:\n",
    "                print(\"Received first chunk\")\n",
    "                chunk_dict['first_chunk'] = True\n",
    "                chunk_dict['bytes'] = eventChunk\n",
    "                chunk_bytes = eventChunk\n",
    "                chunk_dict['last_chunk'] = False\n",
    "                chunk_dict['index'] = index\n",
    "            else:\n",
    "                chunk_dict['first_chunk'] = False\n",
    "                chunk_dict['bytes'] = eventChunk\n",
    "                chunk_bytes = eventChunk\n",
    "                chunk_dict['last_chunk'] = False\n",
    "                chunk_dict['index'] = index\n",
    "            print(\"chunk len:\",len(chunk_dict['bytes']))\n",
    "            result.append(chunk_dict)    \n",
    "            index += 1\n",
    "            #print('返回chunk：', chunk_dict['bytes'])\n",
    "    except StopIteration:\n",
    "        print(\"All chunks processed\")\n",
    "        chunk_dict = {}\n",
    "        chunk_dict['first_chunk'] = False\n",
    "        chunk_dict['bytes'] = chunk_bytes\n",
    "        chunk_dict['last_chunk'] = True\n",
    "        chunk_dict['index'] = index-1\n",
    "        result = upsert(result,chunk_dict)\n",
    "    print(\"result\",result)\n",
    "    return result\n"
   ]
  },
  {
   "cell_type": "code",
   "execution_count": 27,
   "id": "da64eb21-35dd-49c0-9356-9b5833fee9d0",
   "metadata": {
    "tags": []
   },
   "outputs": [],
   "source": [
    "import json\n",
    "import boto3\n",
    "# endpointName=\"gpt-sovits-inference-2024-05-17-13-49-58-483\"\n",
    "runtime_sm_client = boto3.client(service_name=\"sagemaker-runtime\")\n",
    "#endpointName=\"gpt-sovits-sagemaker-endpoint2024-04-03-23-49-44\"\n",
    "\n",
    "\n",
    "\n",
    "request = {\"refer_wav_path\":\"s3://tts-xq/test-data/音质好.wav\",\n",
    "    \"prompt_text\": \"脚下当心！这位客官，想照顾我们往生堂的生意，也不必这么心急嘛？你没什么事吧？嗯？麻烦的家伙。\",\n",
    "    \"prompt_language\":\"ja\",\n",
    "    \"text\":\"『白夜行』はとても美しい小説で、私はとても夢中になって読んで、時には何時間も休まないで、私は中の主人公が大好きです\",\n",
    "    \"text_language\" :\"ja\",\n",
    "    \"output_s3uri\":\"s3://tts-xq/gpt_sovits_output/wav/\",\n",
    "    \"cut_punc\":\"、\"}\n"
   ]
  },
  {
   "cell_type": "code",
   "execution_count": 28,
   "id": "b206b8ed-1321-4963-b476-10bff2d985e4",
   "metadata": {
    "tags": []
   },
   "outputs": [
    {
     "name": "stdout",
     "output_type": "stream",
     "text": [
      "{'RequestId': 'bcf07c35-f3f1-40f9-b14f-0ff6bd1d0e3f', 'HTTPStatusCode': 200, 'HTTPHeaders': {'x-amzn-requestid': 'bcf07c35-f3f1-40f9-b14f-0ff6bd1d0e3f', 'x-amzn-invoked-production-variant': 'AllTraffic', 'x-amzn-sagemaker-content-type': 'application/json', 'date': 'Fri, 23 Aug 2024 16:05:13 GMT', 'content-type': 'application/vnd.amazon.eventstream', 'transfer-encoding': 'chunked', 'connection': 'keep-alive'}, 'RetryAttempts': 0}\n",
      "Received first chunk\n",
      "chunk len: 76\n",
      "chunk len: 76\n",
      "chunk len: 76\n",
      "chunk len: 76\n",
      "All chunks processed\n",
      "result [{'first_chunk': True, 'bytes': b'{\"result\": \"s3://tts-xq/gpt_sovits_output/wav/gpt_sovits_1724429115196.mp3\"}', 'last_chunk': False, 'index': 0}, {'first_chunk': False, 'bytes': b'{\"result\": \"s3://tts-xq/gpt_sovits_output/wav/gpt_sovits_1724429116106.mp3\"}', 'last_chunk': False, 'index': 1}, {'first_chunk': False, 'bytes': b'{\"result\": \"s3://tts-xq/gpt_sovits_output/wav/gpt_sovits_1724429117000.mp3\"}', 'last_chunk': False, 'index': 2}, {'first_chunk': False, 'bytes': b'{\"result\": \"s3://tts-xq/gpt_sovits_output/wav/gpt_sovits_1724429117951.mp3\"}', 'last_chunk': True, 'index': 3}]\n"
     ]
    }
   ],
   "source": [
    "response=invoke_streams_endpoint(runtime_sm_client,endpoint_name,request)"
   ]
  },
  {
   "cell_type": "code",
   "execution_count": 11,
   "id": "3ba2ade1-5bbe-49b5-b3b7-1568641353a6",
   "metadata": {
    "tags": []
   },
   "outputs": [],
   "source": [
    "# endpoint_name=\"gpt-sovits-sagemaker-endpoint-v2-2024-10-14-10-07-45\"\n",
    "sess.delete_endpoint(endpoint_name)\n",
    "sess.delete_endpoint_config(endpoint_name)\n",
    "try:\n",
    "    model.delete_model()\n",
    "except Exception as e:\n",
    "    sm_client.delete_model(ModelName=model_name)"
   ]
  }
 ],
 "metadata": {
  "kernelspec": {
   "display_name": "conda_pytorch_p310",
   "language": "python",
   "name": "conda_pytorch_p310"
  },
  "language_info": {
   "codemirror_mode": {
    "name": "ipython",
    "version": 3
   },
   "file_extension": ".py",
   "mimetype": "text/x-python",
   "name": "python",
   "nbconvert_exporter": "python",
   "pygments_lexer": "ipython3",
   "version": "3.10.14"
  }
 },
 "nbformat": 4,
 "nbformat_minor": 5
}
