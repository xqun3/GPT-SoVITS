{
 "cells": [
  {
   "cell_type": "markdown",
   "id": "096b3004",
   "metadata": {},
   "source": [
    "# GPT-SoVITS on Sagemaker"
   ]
  },
  {
   "cell_type": "markdown",
   "id": "21ec2e51",
   "metadata": {},
   "source": [
    "## build image\n",
    "\n",
    "**Note**\n",
    "- The better way to build the Docker image is to use the notebook terminal !\"\n",
    "- Sometimes the download gets stuck when downloading models from Modelscope. You can try re-executing the command to build the Docker image."
   ]
  },
  {
   "cell_type": "code",
   "execution_count": null,
   "id": "a90a721b-1b07-49a9-b3cb-f823b30b4be4",
   "metadata": {
    "collapsed": true,
    "jupyter": {
     "outputs_hidden": true
    },
    "tags": []
   },
   "outputs": [],
   "source": [
    "# please copy and excute this commend in terminal\n",
    "# !chmod +x ./*.sh && ./build_and_push.sh "
   ]
  },
  {
   "cell_type": "code",
   "execution_count": 16,
   "id": "f02aaa95-fd05-4c92-babf-16894272da62",
   "metadata": {
    "tags": []
   },
   "outputs": [
    {
     "name": "stdout",
     "output_type": "stream",
     "text": [
      "Name: sagemaker\n",
      "Version: 2.229.0\n",
      "Summary: UNKNOWN\n",
      "Home-page: UNKNOWN\n",
      "Author: \n",
      "Author-email: \n",
      "License: UNKNOWN\n",
      "Location: /home/ec2-user/anaconda3/envs/pytorch_p310/lib/python3.10/site-packages\n",
      "Requires: attrs, boto3, cloudpickle, docker, google-pasta, importlib-metadata, jsonschema, numpy, packaging, pandas, pathos, platformdirs, protobuf, psutil, PyYAML, requests, schema, smdebug-rulesconfig, tblib, tqdm, urllib3\n",
      "Required-by: sagemaker-ssh-helper\n",
      "Note: you may need to restart the kernel to use updated packages.\n"
     ]
    }
   ],
   "source": [
    "pip show sagemaker"
   ]
  },
  {
   "cell_type": "code",
   "execution_count": 2,
   "id": "7f122b49",
   "metadata": {
    "collapsed": true,
    "jupyter": {
     "outputs_hidden": true
    },
    "tags": []
   },
   "outputs": [
    {
     "name": "stdout",
     "output_type": "stream",
     "text": [
      "Requirement already satisfied: boto3 in /home/ec2-user/anaconda3/envs/pytorch_p310/lib/python3.10/site-packages (1.34.155)\n",
      "Collecting boto3\n",
      "  Downloading boto3-1.35.2-py3-none-any.whl.metadata (6.6 kB)\n",
      "Requirement already satisfied: sagemaker in /home/ec2-user/anaconda3/envs/pytorch_p310/lib/python3.10/site-packages (2.228.0)\n",
      "Collecting sagemaker\n",
      "  Using cached sagemaker-2.229.0-py3-none-any.whl.metadata (4.1 kB)\n",
      "Collecting sagemaker_ssh_helper\n",
      "  Using cached sagemaker_ssh_helper-2.2.0-py3-none-any.whl.metadata (3.1 kB)\n",
      "Collecting botocore<1.36.0,>=1.35.2 (from boto3)\n",
      "  Downloading botocore-1.35.2-py3-none-any.whl.metadata (5.7 kB)\n",
      "Requirement already satisfied: jmespath<2.0.0,>=0.7.1 in /home/ec2-user/anaconda3/envs/pytorch_p310/lib/python3.10/site-packages (from boto3) (1.0.1)\n",
      "Requirement already satisfied: s3transfer<0.11.0,>=0.10.0 in /home/ec2-user/anaconda3/envs/pytorch_p310/lib/python3.10/site-packages (from boto3) (0.10.1)\n",
      "Requirement already satisfied: attrs<24,>=23.1.0 in /home/ec2-user/anaconda3/envs/pytorch_p310/lib/python3.10/site-packages (from sagemaker) (23.2.0)\n",
      "Requirement already satisfied: cloudpickle==2.2.1 in /home/ec2-user/anaconda3/envs/pytorch_p310/lib/python3.10/site-packages (from sagemaker) (2.2.1)\n",
      "Requirement already satisfied: docker in /home/ec2-user/anaconda3/envs/pytorch_p310/lib/python3.10/site-packages (from sagemaker) (7.1.0)\n",
      "Requirement already satisfied: google-pasta in /home/ec2-user/anaconda3/envs/pytorch_p310/lib/python3.10/site-packages (from sagemaker) (0.2.0)\n",
      "Requirement already satisfied: importlib-metadata<7.0,>=1.4.0 in /home/ec2-user/anaconda3/envs/pytorch_p310/lib/python3.10/site-packages (from sagemaker) (6.11.0)\n",
      "Requirement already satisfied: jsonschema in /home/ec2-user/anaconda3/envs/pytorch_p310/lib/python3.10/site-packages (from sagemaker) (4.22.0)\n",
      "Requirement already satisfied: numpy<2.0,>=1.9.0 in /home/ec2-user/anaconda3/envs/pytorch_p310/lib/python3.10/site-packages (from sagemaker) (1.26.4)\n",
      "Requirement already satisfied: packaging>=20.0 in /home/ec2-user/anaconda3/envs/pytorch_p310/lib/python3.10/site-packages (from sagemaker) (21.3)\n",
      "Requirement already satisfied: pandas in /home/ec2-user/anaconda3/envs/pytorch_p310/lib/python3.10/site-packages (from sagemaker) (1.5.3)\n",
      "Requirement already satisfied: pathos in /home/ec2-user/anaconda3/envs/pytorch_p310/lib/python3.10/site-packages (from sagemaker) (0.3.2)\n",
      "Requirement already satisfied: platformdirs in /home/ec2-user/anaconda3/envs/pytorch_p310/lib/python3.10/site-packages (from sagemaker) (4.2.2)\n",
      "Requirement already satisfied: protobuf<5.0,>=3.12 in /home/ec2-user/anaconda3/envs/pytorch_p310/lib/python3.10/site-packages (from sagemaker) (4.25.3)\n",
      "Requirement already satisfied: psutil in /home/ec2-user/anaconda3/envs/pytorch_p310/lib/python3.10/site-packages (from sagemaker) (5.9.8)\n",
      "Requirement already satisfied: PyYAML~=6.0 in /home/ec2-user/anaconda3/envs/pytorch_p310/lib/python3.10/site-packages (from sagemaker) (6.0.1)\n",
      "Requirement already satisfied: requests in /home/ec2-user/anaconda3/envs/pytorch_p310/lib/python3.10/site-packages (from sagemaker) (2.32.3)\n",
      "Requirement already satisfied: schema in /home/ec2-user/anaconda3/envs/pytorch_p310/lib/python3.10/site-packages (from sagemaker) (0.7.7)\n",
      "Requirement already satisfied: smdebug-rulesconfig==1.0.1 in /home/ec2-user/anaconda3/envs/pytorch_p310/lib/python3.10/site-packages (from sagemaker) (1.0.1)\n",
      "Requirement already satisfied: tblib<4,>=1.7.0 in /home/ec2-user/anaconda3/envs/pytorch_p310/lib/python3.10/site-packages (from sagemaker) (3.0.0)\n",
      "Requirement already satisfied: tqdm in /home/ec2-user/anaconda3/envs/pytorch_p310/lib/python3.10/site-packages (from sagemaker) (4.66.4)\n",
      "Requirement already satisfied: urllib3<3.0.0,>=1.26.8 in /home/ec2-user/anaconda3/envs/pytorch_p310/lib/python3.10/site-packages (from sagemaker) (2.2.1)\n",
      "Requirement already satisfied: python-dateutil<3.0.0,>=2.1 in /home/ec2-user/anaconda3/envs/pytorch_p310/lib/python3.10/site-packages (from botocore<1.36.0,>=1.35.2->boto3) (2.9.0)\n",
      "Requirement already satisfied: zipp>=0.5 in /home/ec2-user/anaconda3/envs/pytorch_p310/lib/python3.10/site-packages (from importlib-metadata<7.0,>=1.4.0->sagemaker) (3.17.0)\n",
      "Requirement already satisfied: pyparsing!=3.0.5,>=2.0.2 in /home/ec2-user/anaconda3/envs/pytorch_p310/lib/python3.10/site-packages (from packaging>=20.0->sagemaker) (3.1.2)\n",
      "Requirement already satisfied: charset-normalizer<4,>=2 in /home/ec2-user/anaconda3/envs/pytorch_p310/lib/python3.10/site-packages (from requests->sagemaker) (3.3.2)\n",
      "Requirement already satisfied: idna<4,>=2.5 in /home/ec2-user/anaconda3/envs/pytorch_p310/lib/python3.10/site-packages (from requests->sagemaker) (3.7)\n",
      "Requirement already satisfied: certifi>=2017.4.17 in /home/ec2-user/anaconda3/envs/pytorch_p310/lib/python3.10/site-packages (from requests->sagemaker) (2024.2.2)\n",
      "Requirement already satisfied: six in /home/ec2-user/anaconda3/envs/pytorch_p310/lib/python3.10/site-packages (from google-pasta->sagemaker) (1.16.0)\n",
      "Requirement already satisfied: jsonschema-specifications>=2023.03.6 in /home/ec2-user/anaconda3/envs/pytorch_p310/lib/python3.10/site-packages (from jsonschema->sagemaker) (2023.12.1)\n",
      "Requirement already satisfied: referencing>=0.28.4 in /home/ec2-user/anaconda3/envs/pytorch_p310/lib/python3.10/site-packages (from jsonschema->sagemaker) (0.35.1)\n",
      "Requirement already satisfied: rpds-py>=0.7.1 in /home/ec2-user/anaconda3/envs/pytorch_p310/lib/python3.10/site-packages (from jsonschema->sagemaker) (0.18.1)\n",
      "Requirement already satisfied: pytz>=2020.1 in /home/ec2-user/anaconda3/envs/pytorch_p310/lib/python3.10/site-packages (from pandas->sagemaker) (2024.1)\n",
      "Requirement already satisfied: ppft>=1.7.6.8 in /home/ec2-user/anaconda3/envs/pytorch_p310/lib/python3.10/site-packages (from pathos->sagemaker) (1.7.6.8)\n",
      "Requirement already satisfied: dill>=0.3.8 in /home/ec2-user/anaconda3/envs/pytorch_p310/lib/python3.10/site-packages (from pathos->sagemaker) (0.3.8)\n",
      "Requirement already satisfied: pox>=0.3.4 in /home/ec2-user/anaconda3/envs/pytorch_p310/lib/python3.10/site-packages (from pathos->sagemaker) (0.3.4)\n",
      "Requirement already satisfied: multiprocess>=0.70.16 in /home/ec2-user/anaconda3/envs/pytorch_p310/lib/python3.10/site-packages (from pathos->sagemaker) (0.70.16)\n",
      "Downloading boto3-1.35.2-py3-none-any.whl (139 kB)\n",
      "\u001b[2K   \u001b[90m━━━━━━━━━━━━━━━━━━━━━━━━━━━━━━━━━━━━━━━━\u001b[0m \u001b[32m139.1/139.1 kB\u001b[0m \u001b[31m11.3 MB/s\u001b[0m eta \u001b[36m0:00:00\u001b[0m\n",
      "\u001b[?25hUsing cached sagemaker-2.229.0-py3-none-any.whl (1.5 MB)\n",
      "Using cached sagemaker_ssh_helper-2.2.0-py3-none-any.whl (98 kB)\n",
      "Downloading botocore-1.35.2-py3-none-any.whl (12.5 MB)\n",
      "\u001b[2K   \u001b[90m━━━━━━━━━━━━━━━━━━━━━━━━━━━━━━━━━━━━━━━━\u001b[0m \u001b[32m12.5/12.5 MB\u001b[0m \u001b[31m105.2 MB/s\u001b[0m eta \u001b[36m0:00:00\u001b[0m00:01\u001b[0m0:01\u001b[0m\n",
      "\u001b[?25hInstalling collected packages: botocore, boto3, sagemaker, sagemaker_ssh_helper\n",
      "  Attempting uninstall: botocore\n",
      "    Found existing installation: botocore 1.34.155\n",
      "    Uninstalling botocore-1.34.155:\n",
      "      Successfully uninstalled botocore-1.34.155\n",
      "  Attempting uninstall: boto3\n",
      "    Found existing installation: boto3 1.34.155\n",
      "    Uninstalling boto3-1.34.155:\n",
      "      Successfully uninstalled boto3-1.34.155\n",
      "  Attempting uninstall: sagemaker\n",
      "    Found existing installation: sagemaker 2.228.0\n",
      "    Uninstalling sagemaker-2.228.0:\n",
      "      Successfully uninstalled sagemaker-2.228.0\n",
      "\u001b[31mERROR: pip's dependency resolver does not currently take into account all the packages that are installed. This behaviour is the source of the following dependency conflicts.\n",
      "awscli 1.33.37 requires botocore==1.34.155, but you have botocore 1.35.2 which is incompatible.\u001b[0m\u001b[31m\n",
      "\u001b[0mSuccessfully installed boto3-1.35.2 botocore-1.35.2 sagemaker-2.229.0 sagemaker_ssh_helper-2.2.0\n"
     ]
    }
   ],
   "source": [
    "!pip install boto3 sagemaker awscli sagemaker_ssh_helper -U"
   ]
  },
  {
   "cell_type": "code",
   "execution_count": 4,
   "id": "11514ade-df1c-4260-8797-83bfc5b279e7",
   "metadata": {
    "tags": []
   },
   "outputs": [
    {
     "name": "stdout",
     "output_type": "stream",
     "text": [
      "sagemaker.config INFO - Not applying SDK defaults from location: /etc/xdg/sagemaker/config.yaml\n",
      "sagemaker.config INFO - Not applying SDK defaults from location: /home/ec2-user/.config/sagemaker/config.yaml\n",
      "596899493901.dkr.ecr.us-east-1.amazonaws.com/gpt-sovits-inference-v2:latest\n"
     ]
    }
   ],
   "source": [
    "import boto3\n",
    "import sagemaker\n",
    "from sagemaker import Model, image_uris, serializers, deserializers\n",
    "\n",
    "role = sagemaker.get_execution_role()  # execution role for the endpoint\n",
    "sess = sagemaker.session.Session()  # sagemaker session for interacting with different AWS APIs\n",
    "region = sess._region_name  # region name of the current SageMaker Studio environment\n",
    "account_id = sess.account_id()  # account_id of the current SageMaker Studio environment\n",
    "bucket = sess.default_bucket()\n",
    "image=\"gpt-sovits-inference-v2\"\n",
    "s3_client = boto3.client(\"s3\")\n",
    "sm_client = boto3.client(\"sagemaker\")\n",
    "smr_client = boto3.client(\"sagemaker-runtime\")\n",
    "\n",
    "full_image_uri=f\"{account_id}.dkr.ecr.{region}.amazonaws.com/{image}:latest\"\n",
    "print(full_image_uri)\n"
   ]
  },
  {
   "cell_type": "markdown",
   "id": "349c0489",
   "metadata": {},
   "source": [
    "## Prepare and upload deploy codes"
   ]
  },
  {
   "cell_type": "code",
   "execution_count": null,
   "id": "e01851bc",
   "metadata": {},
   "outputs": [],
   "source": [
    "!rm GPT-SoVITS.tar.gz\n",
    "!tar -czvf GPT-SoVITS.tar.gz --transform 's,^,GPT-SoVITS/,' . --exclude='*.ipynb' --exclude='serve' --exclude='docs' --exclude='GPT-SoVITS.*' --exclude='./.*'"
   ]
  },
  {
   "cell_type": "code",
   "execution_count": null,
   "id": "c3e67daf",
   "metadata": {},
   "outputs": [],
   "source": [
    "s3_code_prefix = \"gpt_sovits_codes\"\n",
    "bucket = sess.default_bucket()\n",
    "code_artifact = sess.upload_data(\"GPT-SoVITS.tar.gz\", bucket, s3_code_prefix)\n",
    "print(f\"S3 Code or Model tar ball uploaded to --- > {code_artifact}\")"
   ]
  },
  {
   "cell_type": "markdown",
   "id": "a54bf5b1",
   "metadata": {
    "tags": []
   },
   "source": [
    "## Remote debug test \n",
    "Since we are using the BYOC (Bring Your Own Container) method to deploy the GPT-SoVITS model, we can deploy and debug the code using [SSH Helper](https://github.com/aws-samples/sagemaker-ssh-helper/blob/main/README.md) after preparing the initial code. Once the debugging is successful, we can then deploy it using the regular method.\n",
    "\n",
    "1. Deploy the model using SageMaker SSH Helper([Setting up your AWS account with IAM and SSM configuration](https://github.com/aws-samples/sagemaker-ssh-helper/blob/main/IAM_SSM_Setup.md))\n",
    "2. After got the instance_id, ssh to the instance and debug."
   ]
  },
  {
   "cell_type": "code",
   "execution_count": 6,
   "id": "a9a45469-989b-4709-bc1f-8c6a59ac6fc0",
   "metadata": {
    "tags": []
   },
   "outputs": [],
   "source": [
    "from sagemaker_ssh_helper.wrapper import SSHModelWrapper\n",
    "model = Model(image_uri=full_image_uri, model_data=model_data, role=role,dependencies=[SSHModelWrapper.dependency_dir()] )"
   ]
  },
  {
   "cell_type": "code",
   "execution_count": 7,
   "id": "73e60433-09e8-449e-9fc5-6fbd639d98f2",
   "metadata": {
    "tags": []
   },
   "outputs": [],
   "source": [
    "from sagemaker_ssh_helper.wrapper import SSHModelWrapper\n",
    "from time import gmtime, strftime\n",
    "from sagemaker import Predictor\n",
    "instance_type = \"ml.g5.xlarge\"\n",
    "endpoint_name = sagemaker.utils.name_from_base(\"gpt-sovits-inference\")\n",
    "# endpointName=\"gpt-sovits-sagemaker-endpoint-v2-\"+strftime(\"%Y-%m-%d-%H-%M-%S\", gmtime())\n",
    "\n",
    "ssh_wrapper = SSHModelWrapper.create(model, connection_wait_time_seconds=0)  # <--NEW--\n",
    "\n",
    "predictor = model.deploy(\n",
    "    initial_instance_count=1,\n",
    "    instance_type=instance_type,\n",
    "    endpoint_name=endpoint_name,\n",
    "    wait=False\n",
    ")\n",
    "\n",
    "\n",
    "# instance_ids = ssh_wrapper.get_instance_ids(timeout_in_sec=900)  # <--NEW-- \n",
    "# print(f\"To connect over SSM run: aws ssm start-session --target {instance_ids[0]}\")"
   ]
  },
  {
   "cell_type": "code",
   "execution_count": null,
   "id": "3e09b3b3-75e2-45d3-982d-98ad83ec3350",
   "metadata": {},
   "outputs": [],
   "source": [
    "import time\n",
    "sm_client = boto3.client(\"sagemaker\")\n",
    "resp = sm_client.describe_endpoint(EndpointName=endpoint_name)\n",
    "status = resp[\"EndpointStatus\"]\n",
    "print(\"Status: \" + status)\n",
    "\n",
    "while status == \"Creating\":\n",
    "    time.sleep(60)\n",
    "    resp = sm_client.describe_endpoint(EndpointName=endpoint_name)\n",
    "    status = resp[\"EndpointStatus\"]\n",
    "    print(\"Status: \" + status)\n",
    "\n",
    "print(\"Arn: \" + resp[\"EndpointArn\"])\n",
    "print(\"Status: \" + status)"
   ]
  },
  {
   "cell_type": "code",
   "execution_count": 10,
   "id": "0e11f9ac-aa83-4ecc-a2a5-afff1291e338",
   "metadata": {
    "tags": []
   },
   "outputs": [
    {
     "name": "stdout",
     "output_type": "stream",
     "text": [
      "mi-0f428d4597ece3b03\n"
     ]
    }
   ],
   "source": [
    "# aws ssm start-session --target <Your_instance_ids>\n",
    "instance_ids = ssh_wrapper.get_instance_ids(timeout_in_sec=0)\n",
    "print(instance_ids[0])"
   ]
  },
  {
   "cell_type": "markdown",
   "id": "6abe8919-0bb9-43c0-8d03-4a2a2a1e9a2e",
   "metadata": {
    "jp-MarkdownHeadingCollapsed": true,
    "tags": []
   },
   "source": [
    "## SM Endpoint deployment(Regular method for production)\n",
    "\n",
    "After debugging is completed using the SSH Helper, you can officially use the following code block for deployment.\n",
    "\n",
    "Remember to delete the node occupied by the SSH Helper in time! There is a command to delete the node at the end of this example code."
   ]
  },
  {
   "cell_type": "markdown",
   "id": "a1663aa2",
   "metadata": {
    "tags": []
   },
   "source": [
    "### create sagemaker model"
   ]
  },
  {
   "cell_type": "code",
   "execution_count": 8,
   "id": "3623fcd0",
   "metadata": {},
   "outputs": [],
   "source": [
    "import boto3\n",
    "import re\n",
    "import os\n",
    "import json\n",
    "import uuid\n",
    "import boto3\n",
    "import sagemaker\n",
    "from time import strftime\n",
    "\n",
    "## for debug only\n",
    "from sagemaker_ssh_helper.wrapper import SSHModelWrapper\n",
    "sm_client = boto3.client(service_name='sagemaker')\n",
    "\n",
    "\n",
    "def create_model():\n",
    "    image=full_image_uri\n",
    "    model_name=\"gpt-sovits-sagemaker-\"+strftime(\"%Y-%m-%d-%H-%M-%S\", gmtime())\n",
    "    create_model_response = sm_client.create_model(\n",
    "        ModelName=model_name,\n",
    "        ExecutionRoleArn=role,\n",
    "        Containers=[{\"Image\": image}],\n",
    "    )\n",
    "    print(create_model_response)\n",
    "    return model_name"
   ]
  },
  {
   "cell_type": "code",
   "execution_count": 9,
   "id": "e913d8d0",
   "metadata": {},
   "outputs": [
    {
     "name": "stdout",
     "output_type": "stream",
     "text": [
      "{'ModelArn': 'arn:aws:sagemaker:us-east-1:596899493901:model/gpt-sovits-sagemaker-2024-08-22-15-37-26', 'ResponseMetadata': {'RequestId': '6e4fcfb7-47fa-4d18-8abb-5126cfe53a6f', 'HTTPStatusCode': 200, 'HTTPHeaders': {'x-amzn-requestid': '6e4fcfb7-47fa-4d18-8abb-5126cfe53a6f', 'content-type': 'application/x-amz-json-1.1', 'content-length': '102', 'date': 'Thu, 22 Aug 2024 15:37:26 GMT'}, 'RetryAttempts': 0}}\n"
     ]
    }
   ],
   "source": [
    "model_name=create_model()"
   ]
  },
  {
   "cell_type": "markdown",
   "id": "4159960d",
   "metadata": {
    "tags": []
   },
   "source": [
    "### create endpoint configuration"
   ]
  },
  {
   "cell_type": "code",
   "execution_count": 10,
   "id": "01b4ba47",
   "metadata": {},
   "outputs": [],
   "source": [
    "endpoint_name=\"gpt-sovits-sagemaker-endpoint-v2-\"+strftime(\"%Y-%m-%d-%H-%M-%S\", gmtime())\n",
    "def create_endpoint_configuration():\n",
    "    create_endpoint_config_response = sm_client.create_endpoint_config(     \n",
    "        EndpointConfigName=endpoint_name,\n",
    "        ProductionVariants=[\n",
    "            {\n",
    "                #\"ModelName\":\"gpt-sovits-sagemaker-012024-03-28-04-00-03\",\n",
    "                \"ModelName\":model_name,\n",
    "                \"VariantName\": \"gpt-sovits-sagemaker\"+\"-variant\",\n",
    "                \"InstanceType\": \"ml.g5.xlarge\",  # 指定 g5.xlarge 机器\n",
    "                \"InitialInstanceCount\": 1,\n",
    "                \"ModelDataDownloadTimeoutInSeconds\": 1200,\n",
    "                \"ContainerStartupHealthCheckTimeoutInSeconds\": 1200,\n",
    "            }\n",
    "        ],\n",
    "    )\n",
    "    print(create_endpoint_config_response)\n",
    "    return endpoint_name\n"
   ]
  },
  {
   "cell_type": "code",
   "execution_count": null,
   "id": "d06fb9ae",
   "metadata": {},
   "outputs": [],
   "source": [
    "create_endpoint_configuration()"
   ]
  },
  {
   "cell_type": "markdown",
   "id": "e6e35082",
   "metadata": {
    "tags": []
   },
   "source": [
    "### create endpoint"
   ]
  },
  {
   "cell_type": "code",
   "execution_count": 14,
   "id": "40abb7a9",
   "metadata": {},
   "outputs": [],
   "source": [
    "# endpointName=\"gpt-sovits-sagemaker-endpoint-v2-\"+strftime(\"%Y-%m-%d-%H-%M-%S\", gmtime())\n",
    "def create_endpoint():\n",
    "    create_endpoint_response = sm_client.create_endpoint(\n",
    "        EndpointName=endpoint_name,\n",
    "        #EndpointConfigName=\"gpt-sovits-sagemaker-configuration2024-03-28-04-03-53\",\n",
    "        EndpointConfigName=endpoint_name\n",
    "    )\n",
    "    print(\"Endpoint Arn: \" + create_endpoint_response[\"EndpointArn\"])\n",
    "    resp = sm_client.describe_endpoint(EndpointName=endpoint_name)\n",
    "    print(\"Endpoint Status: \" + resp[\"EndpointStatus\"])\n",
    "    print(\"Waiting for {} endpoint to be in service\".format(\"gpt-sovits-sagemaker-endpoint\"))\n",
    "    waiter = sm_client.get_waiter(\"endpoint_in_service\")\n",
    "    waiter.wait(EndpointName=endpoint_name)"
   ]
  },
  {
   "cell_type": "code",
   "execution_count": 15,
   "id": "c7e6b443-321d-467b-99a8-6e60596f0332",
   "metadata": {
    "tags": []
   },
   "outputs": [
    {
     "data": {
      "text/plain": [
       "'gpt-sovits-sagemaker-endpoint-v2-2024-08-22-11-20-45'"
      ]
     },
     "execution_count": 15,
     "metadata": {},
     "output_type": "execute_result"
    }
   ],
   "source": [
    "endpoint_name"
   ]
  },
  {
   "cell_type": "code",
   "execution_count": 16,
   "id": "adeafb65",
   "metadata": {},
   "outputs": [
    {
     "name": "stdout",
     "output_type": "stream",
     "text": [
      "Endpoint Arn: arn:aws:sagemaker:us-east-1:596899493901:endpoint/gpt-sovits-sagemaker-endpoint-v2-2024-08-22-11-20-45\n",
      "Endpoint Status: Creating\n",
      "Waiting for gpt-sovits-sagemaker-endpoint endpoint to be in service\n"
     ]
    }
   ],
   "source": [
    "create_endpoint()"
   ]
  },
  {
   "cell_type": "markdown",
   "id": "3594fc7d",
   "metadata": {
    "tags": []
   },
   "source": [
    "## Realtime inferecne with sagemaker endpoint\n",
    "\n",
    "Remember to replace the EndpointName passed into the invoke function with the actual endpoint name of your deployment."
   ]
  },
  {
   "cell_type": "code",
   "execution_count": 16,
   "id": "3a4dae12",
   "metadata": {},
   "outputs": [],
   "source": [
    "import json\n",
    "import boto3\n",
    "runtime_sm_client = boto3.client(service_name=\"sagemaker-runtime\")\n",
    "\n",
    "def invoke_endpoint(request):\n",
    "    content_type = \"application/json\"\n",
    "    request_body = request\n",
    "    payload = json.dumps(request_body)\n",
    "    print(payload)\n",
    "    response = runtime_sm_client.invoke_endpoint(\n",
    "        EndpointName=endpoint_name,\n",
    "        ContentType=content_type,\n",
    "        Body=payload,\n",
    "    )\n",
    "    result = response['Body'].read().decode()\n",
    "    print('返回：',result)\n",
    "    return result"
   ]
  },
  {
   "cell_type": "code",
   "execution_count": 17,
   "id": "b01f4489",
   "metadata": {
    "tags": []
   },
   "outputs": [
    {
     "name": "stdout",
     "output_type": "stream",
     "text": [
      "{\"refer_wav_path\": \"s3://tts-xq/test-data/\\u97f3\\u8d28\\u597d.wav\", \"prompt_text\": \"\\u811a\\u4e0b\\u5f53\\u5fc3\\uff01\\u8fd9\\u4f4d\\u5ba2\\u5b98\\uff0c\\u60f3\\u7167\\u987e\\u6211\\u4eec\\u5f80\\u751f\\u5802\\u7684\\u751f\\u610f\\uff0c\\u4e5f\\u4e0d\\u5fc5\\u8fd9\\u4e48\\u5fc3\\u6025\\u561b\\uff1f\\u4f60\\u6ca1\\u4ec0\\u4e48\\u4e8b\\u5427\\uff1f\\u55ef\\uff1f\\u9ebb\\u70e6\\u7684\\u5bb6\\u4f19\", \"prompt_language\": \"zh\", \"text\": \"\\u9003\\u8bfe\\u4e0a\\u7f51\\uff0c\\u6253\\u67b6\\u6597\\u6bb4\\uff0c\\u4e0a\\u8bfe\\u7761\\u89c9\\uff0c\\u6837\\u6837\\u4ff1\\u5168\\uff1b\\u4f60\\u3001\\u4f60\\u771f\\u662f\\u2026\\u5b7a\\u5b50\\u4e0d\\u53ef\\u6559\\u4e5f\\uff01\\uff01\\uff01\", \"text_language\": \"zh\", \"output_s3uri\": \"s3://tts-xq/gpt_sovits_output/wav/\"}\n",
      "返回： {\"result\": \"s3://tts-xq/gpt_sovits_output/wav/gpt_sovits_1724428901895.mp3\"}\n"
     ]
    }
   ],
   "source": [
    "\n",
    "request = {\"refer_wav_path\":\"s3://tts-xq/test-data/音质好.wav\",\n",
    "    \"prompt_text\": \"脚下当心！这位客官，想照顾我们往生堂的生意，也不必这么心急嘛？你没什么事吧？嗯？麻烦的家伙。\",\n",
    "    \"prompt_language\":\"zh\",\n",
    "    \"text\":\"逃课上网，打架斗殴，上课睡觉，样样俱全；你、你真是…孺子不可教也！！！\",\n",
    "    \"text_language\" :\"zh\",\n",
    "    \"output_s3uri\":\"s3://tts-xq/gpt_sovits_output/wav/\"}\n",
    "    \n",
    "result = invoke_endpoint(request)"
   ]
  },
  {
   "cell_type": "code",
   "execution_count": 18,
   "id": "8a8ea03c-e709-4888-ad44-b3ccbf3abcfd",
   "metadata": {
    "tags": []
   },
   "outputs": [
    {
     "data": {
      "text/plain": [
       "'{\"result\": \"s3://tts-xq/gpt_sovits_output/wav/gpt_sovits_1724428901895.mp3\"}'"
      ]
     },
     "execution_count": 18,
     "metadata": {},
     "output_type": "execute_result"
    }
   ],
   "source": [
    "result"
   ]
  },
  {
   "cell_type": "code",
   "execution_count": 20,
   "id": "d4f8d8e4-9920-4853-9621-a33d67ba8ef3",
   "metadata": {
    "tags": []
   },
   "outputs": [],
   "source": [
    "results_audio = eval(result)[\"result\"]"
   ]
  },
  {
   "cell_type": "code",
   "execution_count": 21,
   "id": "d7ae7796-8d05-47af-8979-19bdb8c35cfc",
   "metadata": {
    "tags": []
   },
   "outputs": [
    {
     "name": "stdout",
     "output_type": "stream",
     "text": [
      "download: s3://tts-xq/gpt_sovits_output/wav/gpt_sovits_1724428901895.mp3 to ./gpt_sovits_1724428901895.mp3\n"
     ]
    }
   ],
   "source": [
    "# you can download it from s3 console\n",
    "!aws s3 cp $results_audio ./"
   ]
  },
  {
   "cell_type": "markdown",
   "id": "bedb7abc",
   "metadata": {},
   "source": [
    "### 调用时替换基础 gpt 模型和 Sovits 模型"
   ]
  },
  {
   "cell_type": "code",
   "execution_count": null,
   "id": "e3a11e95",
   "metadata": {},
   "outputs": [],
   "source": [
    "# Change gpt_weights and sovits_weights\n",
    "\n",
    "request = {\"refer_wav_path\":\"s3://tts-xq/test-data/音质好.wav\",\n",
    "    \"prompt_text\": \"脚下当心！这位客官，想照顾我们往生堂的生意，也不必这么心急嘛？你没什么事吧？嗯？麻烦的家伙。\",\n",
    "    \"prompt_language\":\"zh\",\n",
    "    \"text\":\"逃课上网，打架斗殴，上课睡觉，样样俱全；你、你真是…孺子不可教也！！！\",\n",
    "    \"text_language\" :\"zh\",\n",
    "    \"output_s3uri\":\"s3://tts-xq/gpt_sovits_output/wav/\",\n",
    "    \"gpt_weights_path\":\"s3://asr-xq/gaoguai001-e15.ckpt\",\n",
    "    \"sovits_weights_path\":\"s3://asr-xq/gaoguai001_e8_s96.pth\"\n",
    "}\n",
    "\n",
    "result = invoke_endpoint(request)"
   ]
  },
  {
   "cell_type": "markdown",
   "id": "9e41b30b-e8f7-4c7f-853f-7d861c12c543",
   "metadata": {
    "tags": []
   },
   "source": [
    "## Streams test (only for stream branch deployment)"
   ]
  },
  {
   "cell_type": "code",
   "execution_count": 23,
   "id": "ac28f418-dd4f-4dab-a7cb-412b5048df28",
   "metadata": {
    "tags": []
   },
   "outputs": [],
   "source": [
    "import requests\n",
    "\n",
    "chunk_bytes=None\n",
    "\n",
    "def upsert(lst, new_dict):\n",
    "    for i, item in enumerate(lst):\n",
    "        if new_dict['index'] == i:\n",
    "            lst[i] = new_dict\n",
    "            return lst\n",
    "    lst.append(new_dict)\n",
    "    return lst\n",
    "\n",
    "def invoke_streams_endpoint(smr_client,endpointName, request):\n",
    "    global chunk_bytes\n",
    "    content_type = \"application/json\"\n",
    "    payload = json.dumps(request,ensure_ascii=False)\n",
    "\n",
    "    response_model = smr_client.invoke_endpoint_with_response_stream(\n",
    "        EndpointName=endpointName,\n",
    "        ContentType=content_type,\n",
    "        Body=payload,\n",
    "    )\n",
    "\n",
    "    result = []\n",
    "    print(response_model['ResponseMetadata'])\n",
    "    event_stream = iter(response_model['Body'])\n",
    "    index = 0\n",
    "    try: \n",
    "        while True:\n",
    "            event = next(event_stream)\n",
    "            eventChunk = event['PayloadPart']['Bytes']\n",
    "            chunk_dict = {}\n",
    "            if index == 0:\n",
    "                print(\"Received first chunk\")\n",
    "                chunk_dict['first_chunk'] = True\n",
    "                chunk_dict['bytes'] = eventChunk\n",
    "                chunk_bytes = eventChunk\n",
    "                chunk_dict['last_chunk'] = False\n",
    "                chunk_dict['index'] = index\n",
    "            else:\n",
    "                chunk_dict['first_chunk'] = False\n",
    "                chunk_dict['bytes'] = eventChunk\n",
    "                chunk_bytes = eventChunk\n",
    "                chunk_dict['last_chunk'] = False\n",
    "                chunk_dict['index'] = index\n",
    "            print(\"chunk len:\",len(chunk_dict['bytes']))\n",
    "            result.append(chunk_dict)    \n",
    "            index += 1\n",
    "            #print('返回chunk：', chunk_dict['bytes'])\n",
    "    except StopIteration:\n",
    "        print(\"All chunks processed\")\n",
    "        chunk_dict = {}\n",
    "        chunk_dict['first_chunk'] = False\n",
    "        chunk_dict['bytes'] = chunk_bytes\n",
    "        chunk_dict['last_chunk'] = True\n",
    "        chunk_dict['index'] = index-1\n",
    "        result = upsert(result,chunk_dict)\n",
    "    print(\"result\",result)\n",
    "    return result\n"
   ]
  },
  {
   "cell_type": "code",
   "execution_count": 27,
   "id": "da64eb21-35dd-49c0-9356-9b5833fee9d0",
   "metadata": {
    "tags": []
   },
   "outputs": [],
   "source": [
    "import json\n",
    "import boto3\n",
    "# endpointName=\"gpt-sovits-inference-2024-05-17-13-49-58-483\"\n",
    "runtime_sm_client = boto3.client(service_name=\"sagemaker-runtime\")\n",
    "#endpointName=\"gpt-sovits-sagemaker-endpoint2024-04-03-23-49-44\"\n",
    "\n",
    "\n",
    "\n",
    "request = {\"refer_wav_path\":\"s3://tts-xq/test-data/音质好.wav\",\n",
    "    \"prompt_text\": \"脚下当心！这位客官，想照顾我们往生堂的生意，也不必这么心急嘛？你没什么事吧？嗯？麻烦的家伙。\",\n",
    "    \"prompt_language\":\"ja\",\n",
    "    \"text\":\"『白夜行』はとても美しい小説で、私はとても夢中になって読んで、時には何時間も休まないで、私は中の主人公が大好きです\",\n",
    "    \"text_language\" :\"ja\",\n",
    "    \"output_s3uri\":\"s3://tts-xq/gpt_sovits_output/wav/\",\n",
    "    \"cut_punc\":\"、\"}\n"
   ]
  },
  {
   "cell_type": "code",
   "execution_count": 28,
   "id": "b206b8ed-1321-4963-b476-10bff2d985e4",
   "metadata": {
    "tags": []
   },
   "outputs": [
    {
     "name": "stdout",
     "output_type": "stream",
     "text": [
      "{'RequestId': 'bcf07c35-f3f1-40f9-b14f-0ff6bd1d0e3f', 'HTTPStatusCode': 200, 'HTTPHeaders': {'x-amzn-requestid': 'bcf07c35-f3f1-40f9-b14f-0ff6bd1d0e3f', 'x-amzn-invoked-production-variant': 'AllTraffic', 'x-amzn-sagemaker-content-type': 'application/json', 'date': 'Fri, 23 Aug 2024 16:05:13 GMT', 'content-type': 'application/vnd.amazon.eventstream', 'transfer-encoding': 'chunked', 'connection': 'keep-alive'}, 'RetryAttempts': 0}\n",
      "Received first chunk\n",
      "chunk len: 76\n",
      "chunk len: 76\n",
      "chunk len: 76\n",
      "chunk len: 76\n",
      "All chunks processed\n",
      "result [{'first_chunk': True, 'bytes': b'{\"result\": \"s3://tts-xq/gpt_sovits_output/wav/gpt_sovits_1724429115196.mp3\"}', 'last_chunk': False, 'index': 0}, {'first_chunk': False, 'bytes': b'{\"result\": \"s3://tts-xq/gpt_sovits_output/wav/gpt_sovits_1724429116106.mp3\"}', 'last_chunk': False, 'index': 1}, {'first_chunk': False, 'bytes': b'{\"result\": \"s3://tts-xq/gpt_sovits_output/wav/gpt_sovits_1724429117000.mp3\"}', 'last_chunk': False, 'index': 2}, {'first_chunk': False, 'bytes': b'{\"result\": \"s3://tts-xq/gpt_sovits_output/wav/gpt_sovits_1724429117951.mp3\"}', 'last_chunk': True, 'index': 3}]\n"
     ]
    }
   ],
   "source": [
    "response=invoke_streams_endpoint(runtime_sm_client,endpoint_name,request)"
   ]
  },
  {
   "cell_type": "code",
   "execution_count": 29,
   "id": "3ba2ade1-5bbe-49b5-b3b7-1568641353a6",
   "metadata": {
    "tags": []
   },
   "outputs": [],
   "source": [
    "# endpointName=\"gpt-sovits-sagemaker-endpoint-v2-2024-08-22-04-37-40\"\n",
    "sess.delete_endpoint(endpoint_name)\n",
    "sess.delete_endpoint_config(endpoint_name)\n",
    "model.delete_model()"
   ]
  }
 ],
 "metadata": {
  "kernelspec": {
   "display_name": "tts",
   "language": "python",
   "name": "python3"
  },
  "language_info": {
   "codemirror_mode": {
    "name": "ipython",
    "version": 3
   },
   "file_extension": ".py",
   "mimetype": "text/x-python",
   "name": "python",
   "nbconvert_exporter": "python",
   "pygments_lexer": "ipython3",
   "version": "3.10.14"
  }
 },
 "nbformat": 4,
 "nbformat_minor": 5
}
