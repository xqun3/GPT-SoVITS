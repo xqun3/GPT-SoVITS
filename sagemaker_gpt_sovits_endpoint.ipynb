{
 "cells": [
  {
   "cell_type": "markdown",
   "id": "096b3004",
   "metadata": {},
   "source": [
    "# GPT-SoVITS on Sagemaker"
   ]
  },
  {
   "cell_type": "markdown",
   "id": "21ec2e51",
   "metadata": {},
   "source": [
    "## build image\n",
    "\n",
    "**Note**\n",
    "Sometimes the download gets stuck when downloading models from Modelscope. You can try re-executing the command to build the Docker image."
   ]
  },
  {
   "cell_type": "code",
   "execution_count": 3,
   "id": "a90a721b-1b07-49a9-b3cb-f823b30b4be4",
   "metadata": {
    "collapsed": true,
    "jupyter": {
     "outputs_hidden": true
    },
    "tags": []
   },
   "outputs": [
    {
     "name": "stdout",
     "output_type": "stream",
     "text": [
      "WARNING! Using --password via the CLI is insecure. Use --password-stdin.\n",
      "WARNING! Your password will be stored unencrypted in /home/ec2-user/.docker/config.json.\n",
      "Configure a credential helper to remove this warning. See\n",
      "https://docs.docker.com/engine/reference/commandline/login/#credentials-store\n",
      "\n",
      "Login Succeeded\n",
      "fatal: destination path 'GPT-SoVITS' already exists and is not an empty directory.\n",
      "Sending build context to Docker daemon   46.4MB\n",
      "Step 1/19 : FROM cnstark/pytorch:2.0.1-py3.9.17-cuda11.8.0-ubuntu20.04\n",
      " ---> 8fd9e4c5e7bc\n",
      "Step 2/19 : ARG IMAGE_TYPE=sagemaker-byoc\n",
      " ---> Using cache\n",
      " ---> b62a8f3aca20\n",
      "Step 3/19 : RUN mkdir -p /opt/program\n",
      " ---> Using cache\n",
      " ---> 6d47b8d683dd\n",
      "Step 4/19 : RUN chmod 777 /opt/program\n",
      " ---> Using cache\n",
      " ---> d4e343cc1992\n",
      "Step 5/19 : RUN pip install --no-cache-dir sagemaker &&     pip install sagemaker-ssh-helper &&     pip install boto3 &&     pip install pydantic;\n",
      " ---> Using cache\n",
      " ---> c9f4fc56fe76\n",
      "Step 6/19 : ENV PYTHONUNBUFFERED=TRUE\n",
      " ---> Using cache\n",
      " ---> 8a80fa29b373\n",
      "Step 7/19 : ENV PYTHONDONTWRITEBYTECODE=TRUE\n",
      " ---> Using cache\n",
      " ---> b52576a3f717\n",
      "Step 8/19 : ENV PATH=\"/opt/program:${PATH}\"\n",
      " ---> Using cache\n",
      " ---> 471d63c7d99b\n",
      "Step 9/19 : ENV DEBIAN_FRONTEND=noninteractive\n",
      " ---> Using cache\n",
      " ---> 9dff55dc81d0\n",
      "Step 10/19 : ENV TZ=Etc/UTC\n",
      " ---> Using cache\n",
      " ---> 040c2071fe87\n",
      "Step 11/19 : RUN apt-get update &&     apt-get install -y --no-install-recommends tzdata ffmpeg libsox-dev parallel aria2 git git-lfs &&     git lfs install &&     rm -rf /var/lib/apt/lists/*\n",
      " ---> Using cache\n",
      " ---> 13b18b7ea00d\n",
      "Step 12/19 : COPY ./GPT-SoVITS /opt/program/\n",
      " ---> Using cache\n",
      " ---> 939d5e4127b3\n",
      "Step 13/19 : WORKDIR /opt/program\n",
      " ---> Using cache\n",
      " ---> 8b3578b3127c\n",
      "Step 14/19 : RUN pip install --no-cache-dir -r /opt/program/requirements.txt\n",
      " ---> Using cache\n",
      " ---> 584b247559a9\n",
      "Step 15/19 : ARG IMAGE_TYPE=full\n",
      " ---> Using cache\n",
      " ---> 12d7ecc69837\n",
      "Step 16/19 : COPY ./Docker /workspace/Docker\n",
      " ---> Using cache\n",
      " ---> 7c9cf2587f71\n",
      "Step 17/19 : RUN if [ \"$IMAGE_TYPE\" != \"elite\" ]; then         chmod +x /opt/program/Docker/download.sh &&         /opt/program/Docker/download.sh &&         python /opt/program/Docker/download.py &&         python -m nltk.downloader all;    fi\n",
      " ---> Running in 9e109b753fa9\n",
      "Downloading models...\n",
      "\n",
      "08/23 15:36:22 [\u001b[1;32mNOTICE\u001b[0m] Downloading 19 item(s)\n",
      "\n",
      "08/23 15:36:22 [\u001b[1;32mNOTICE\u001b[0m] CUID#7 - Redirecting to https://cdn-lfs-us-1.huggingface.co/repos/a9/22/a9225f66b963d0dfd3e76607486a1893b4901205e2142bb8803d119f38304b21/b1c1e17e9c99547a89388f72048cd6e1b41b5a18b170e86a46dfde0324d63eb1?response-content-disposition=inline%3B+filename*%3DUTF-8%27%27s1bert25hz-2kh-longer-epoch%253D68e-step%253D50232.ckpt%3B+filename%3D%22s1bert25hz-2kh-longer-epoch%3D68e-step%3D50232.ckpt%22%3B&Expires=1724686582&Policy=eyJTdGF0ZW1lbnQiOlt7IkNvbmRpdGlvbiI6eyJEYXRlTGVzc1RoYW4iOnsiQVdTOkVwb2NoVGltZSI6MTcyNDY4NjU4Mn19LCJSZXNvdXJjZSI6Imh0dHBzOi8vY2RuLWxmcy11cy0xLmh1Z2dpbmdmYWNlLmNvL3JlcG9zL2E5LzIyL2E5MjI1ZjY2Yjk2M2QwZGZkM2U3NjYwNzQ4NmExODkzYjQ5MDEyMDVlMjE0MmJiODgwM2QxMTlmMzgzMDRiMjEvYjFjMWUxN2U5Yzk5NTQ3YTg5Mzg4ZjcyMDQ4Y2Q2ZTFiNDFiNWExOGIxNzBlODZhNDZkZmRlMDMyNGQ2M2ViMT9yZXNwb25zZS1jb250ZW50LWRpc3Bvc2l0aW9uPSoifV19&Signature=nEuroQJxtHLbgtoAwfnms5EXxguH-LF90ZqmwzqzArWDTEUtBo9oZs2uv7prz8DAcTHLu8ZzdSqbOqabAH56CZhnV5JYM-2qPr4jef5Q8jfFz5SsLUqQZPAao5gfl%7EWm6LBSOXMIytPn9yCeublOe5-d6F2AFB68eSQpbmNpYfZklUnh1Yx%7EUxQjN9ziHBqlMZ2Zn3tat4AjeNe7RVGi1MthQkysa8vEogU%7EfmmyOVyKVtS50Yqjb4ut%7EsBdJWN3tPQrZDvUHhtiXA4xPNDLjk6sXk%7EL64Pvp-yIJm9BCaSn4apICfZdZO%7EGkq4medZ1SQj4cOuP0ZQAdIjROPReAQ__&Key-Pair-Id=K24J24Z295AEI9\n",
      "\n",
      "08/23 15:36:22 [\u001b[1;32mNOTICE\u001b[0m] CUID#10 - Redirecting to https://cdn-lfs-us-1.huggingface.co/repos/a9/22/a9225f66b963d0dfd3e76607486a1893b4901205e2142bb8803d119f38304b21/732f94e63b148066e24c7f9d2637f3374083e637635f07fbdb695dee20ddbe1f?response-content-disposition=inline%3B+filename*%3DUTF-8%27%27s1bert25hz-5kh-longer-epoch%253D12-step%253D369668.ckpt%3B+filename%3D%22s1bert25hz-5kh-longer-epoch%3D12-step%3D369668.ckpt%22%3B&Expires=1724686582&Policy=eyJTdGF0ZW1lbnQiOlt7IkNvbmRpdGlvbiI6eyJEYXRlTGVzc1RoYW4iOnsiQVdTOkVwb2NoVGltZSI6MTcyNDY4NjU4Mn19LCJSZXNvdXJjZSI6Imh0dHBzOi8vY2RuLWxmcy11cy0xLmh1Z2dpbmdmYWNlLmNvL3JlcG9zL2E5LzIyL2E5MjI1ZjY2Yjk2M2QwZGZkM2U3NjYwNzQ4NmExODkzYjQ5MDEyMDVlMjE0MmJiODgwM2QxMTlmMzgzMDRiMjEvNzMyZjk0ZTYzYjE0ODA2NmUyNGM3ZjlkMjYzN2YzMzc0MDgzZTYzNzYzNWYwN2ZiZGI2OTVkZWUyMGRkYmUxZj9yZXNwb25zZS1jb250ZW50LWRpc3Bvc2l0aW9uPSoifV19&Signature=JS8oRXYdrJ0wC6nzIJlqAWhE3MpRnKV1xXWaYuJIpF9K%7EMzRcZePrdDeRBT5sQ67ix8OyuZwXG01CLyvOqXlWhPAL6I2uDXp33VC5mv82BGOrjnGJ%7E3UWDF71wWabvIudmLLYR8Q1oy0y57fFVaL1MbduxRRAulQ9Sh2%7E3A4MBOfeY2whM9ayPC9jjl8fzJa5Ni5UCQbKnXkH1C2FJVkeGxczJCMKVTfhebmO8F3eucjP5tJT77mBDmI0g-hQHKaqxjBEcmlwIWk%7EmQivG-ixCe4uZDkWeTxn0Po5Q9g05dIpJ9IwNP6vk7ebWaXkyAQebgcOYkhTQOwB0k9mbVF%7Eg__&Key-Pair-Id=K24J24Z295AEI9\n",
      "\n",
      "08/23 15:36:22 [\u001b[1;32mNOTICE\u001b[0m] CUID#9 - Redirecting to https://cdn-lfs-us-1.huggingface.co/repos/a9/22/a9225f66b963d0dfd3e76607486a1893b4901205e2142bb8803d119f38304b21/020a014e1e01e550e510f2f61fae5e5f5b6aab40f15c22f1f12f724df507e835?response-content-disposition=inline%3B+filename*%3DUTF-8%27%27s2G488k.pth%3B+filename%3D%22s2G488k.pth%22%3B&Expires=1724686582&Policy=eyJTdGF0ZW1lbnQiOlt7IkNvbmRpdGlvbiI6eyJEYXRlTGVzc1RoYW4iOnsiQVdTOkVwb2NoVGltZSI6MTcyNDY4NjU4Mn19LCJSZXNvdXJjZSI6Imh0dHBzOi8vY2RuLWxmcy11cy0xLmh1Z2dpbmdmYWNlLmNvL3JlcG9zL2E5LzIyL2E5MjI1ZjY2Yjk2M2QwZGZkM2U3NjYwNzQ4NmExODkzYjQ5MDEyMDVlMjE0MmJiODgwM2QxMTlmMzgzMDRiMjEvMDIwYTAxNGUxZTAxZTU1MGU1MTBmMmY2MWZhZTVlNWY1YjZhYWI0MGYxNWMyMmYxZjEyZjcyNGRmNTA3ZTgzNT9yZXNwb25zZS1jb250ZW50LWRpc3Bvc2l0aW9uPSoifV19&Signature=ckneoOvLex6kpKBUl8BvsT366LYioonLtEqfhwbiila%7E5653BYV-kwf1s1jmD%7Eculd68sRhWjVB2uD0PzQWZz5sgviLoqO1eTmxh9T0ZctUTI%7Ehi7rBDuLUvVoNaWgqXN4z7wwQSpNNh9EQ5oxSAKbr%7EYHPMH8mydkUZXioO3iVqQvIEShHFfdbg6I1A-GmEhfoVPG5n4sCNR1TRA5sM%7ECU3hxINIxaQttTuewYs7btxvgqabCth7V4vPjVxJajUBgJ1mtuP4F2ZwHsaDaZUVoDOm-X4AyWjCuwre1o0qVYCzfTU5UcDo90uiVBMIn9ag8zc-du7uZW3HWbZiN6Rhg__&Key-Pair-Id=K24J24Z295AEI9\n",
      "\n",
      "08/23 15:36:22 [\u001b[1;32mNOTICE\u001b[0m] CUID#11 - Redirecting to https://cdn-lfs-us-1.huggingface.co/repos/a9/22/a9225f66b963d0dfd3e76607486a1893b4901205e2142bb8803d119f38304b21/8ae7fe8dd8c8f2e718de359e00edac88b0c71ab2fd10b07ad4cc45070eb8a836?response-content-disposition=inline%3B+filename*%3DUTF-8%27%27s2D2333k.pth%3B+filename%3D%22s2D2333k.pth%22%3B&Expires=1724686582&Policy=eyJTdGF0ZW1lbnQiOlt7IkNvbmRpdGlvbiI6eyJEYXRlTGVzc1RoYW4iOnsiQVdTOkVwb2NoVGltZSI6MTcyNDY4NjU4Mn19LCJSZXNvdXJjZSI6Imh0dHBzOi8vY2RuLWxmcy11cy0xLmh1Z2dpbmdmYWNlLmNvL3JlcG9zL2E5LzIyL2E5MjI1ZjY2Yjk2M2QwZGZkM2U3NjYwNzQ4NmExODkzYjQ5MDEyMDVlMjE0MmJiODgwM2QxMTlmMzgzMDRiMjEvOGFlN2ZlOGRkOGM4ZjJlNzE4ZGUzNTllMDBlZGFjODhiMGM3MWFiMmZkMTBiMDdhZDRjYzQ1MDcwZWI4YTgzNj9yZXNwb25zZS1jb250ZW50LWRpc3Bvc2l0aW9uPSoifV19&Signature=cV4cZhfPvnIh3BYJRVivLb6uVeum4HkA0PMiNAs3PPR-PbI%7ET1XXGajFFFUDJjJSOPieODl2Dv%7E%7EgxHDmEKvwPXnGy9iaqhOwNnMi-Z%7EjhRjpeLsfprFRP7lr4cjnAuHpO5eUT-gfM52VpMLsCFh07qBd5n9M9tEXDx%7Ep08SSx-6qkcdzGmM9PjPIAUWkA9vSC1VZ3SjbHZlxP0qz5JT%7EJvRo88AXsXYSY2nzYPOuXYjjDUdPwNno%7Ewjl0CzPfkUkBH3mpaJStbt-mKj9f4sOqjiEJGcJmZsJ%7E7MaYKYvcNaotDjRgOnHvlKbGadAZrXtAbDPaSNqboeGU9mO0xToA__&Key-Pair-Id=K24J24Z295AEI9\n",
      "\n",
      "08/23 15:36:22 [\u001b[1;32mNOTICE\u001b[0m] CUID#8 - Redirecting to https://cdn-lfs-us-1.huggingface.co/repos/a9/22/a9225f66b963d0dfd3e76607486a1893b4901205e2142bb8803d119f38304b21/fc579c1db3c1e21b721001cf99d7a584214280df19b002e200b630a34fa06eb8?response-content-disposition=inline%3B+filename*%3DUTF-8%27%27s2D488k.pth%3B+filename%3D%22s2D488k.pth%22%3B&Expires=1724686582&Policy=eyJTdGF0ZW1lbnQiOlt7IkNvbmRpdGlvbiI6eyJEYXRlTGVzc1RoYW4iOnsiQVdTOkVwb2NoVGltZSI6MTcyNDY4NjU4Mn19LCJSZXNvdXJjZSI6Imh0dHBzOi8vY2RuLWxmcy11cy0xLmh1Z2dpbmdmYWNlLmNvL3JlcG9zL2E5LzIyL2E5MjI1ZjY2Yjk2M2QwZGZkM2U3NjYwNzQ4NmExODkzYjQ5MDEyMDVlMjE0MmJiODgwM2QxMTlmMzgzMDRiMjEvZmM1NzljMWRiM2MxZTIxYjcyMTAwMWNmOTlkN2E1ODQyMTQyODBkZjE5YjAwMmUyMDBiNjMwYTM0ZmEwNmViOD9yZXNwb25zZS1jb250ZW50LWRpc3Bvc2l0aW9uPSoifV19&Signature=cfQgAO8vIwRjnXlGtD9UBXysFbiJ4vajbmlIPX9Tut5G7odpf14u9gOCnVjpyMB6zkpFbF0qmBC5scl-Wx9HYMv%7E89gjYHafEiM3vutK2om0U-gssP9EeZqlUi9wl2y1nMqqymasZvywrEWu%7Esm8N3yhI7lZFpb4PgjqwA9uhHAQIIu6OZgo%7EFKoVxT1ITQ8g1bEPoDCrpCFxZzm1cTLgC2a2r9yOJWe84y6Ihz9cHuXwziPbJ2XCG698A-ifGPS3L-KRIXHxZD4PwIwNRHKEWU4ZdxNZ-eidS2opcYkSCJo6PhMHJpeDt18IWBpDXquGI8LWUILcxf4AChRF7Na7g__&Key-Pair-Id=K24J24Z295AEI9\n",
      "[DL:428MiB][#7c369e 83MiB/147MiB(56%)][#271dbd 82MiB/89MiB(92%)][#ce4f1c 82MiB/101MiB(81%)][#702b45 77MiB/148MiB(52%)][#0f0300 83MiB/89MiB(93%)]\n",
      "\n",
      "08/23 15:36:23 [\u001b[1;32mNOTICE\u001b[0m] Download complete: /workspace/GPT_SoVITS/pretrained_models/gsv-v2final-pretrained/s2D2333k.pth\n",
      "\n",
      "08/23 15:36:23 [\u001b[1;32mNOTICE\u001b[0m] Download complete: /workspace/GPT_SoVITS/pretrained_models/s2D488k.pth\n",
      "\n",
      "08/23 15:36:23 [\u001b[1;32mNOTICE\u001b[0m] CUID#42 - Redirecting to https://cdn-lfs-us-1.huggingface.co/repos/a9/22/a9225f66b963d0dfd3e76607486a1893b4901205e2142bb8803d119f38304b21/924fdccaa3c574bf139c25c9759aa1ed3b3f99e19a7c529ee996c2bc17663695?response-content-disposition=inline%3B+filename*%3DUTF-8%27%27s2G2333k.pth%3B+filename%3D%22s2G2333k.pth%22%3B&Expires=1724686583&Policy=eyJTdGF0ZW1lbnQiOlt7IkNvbmRpdGlvbiI6eyJEYXRlTGVzc1RoYW4iOnsiQVdTOkVwb2NoVGltZSI6MTcyNDY4NjU4M319LCJSZXNvdXJjZSI6Imh0dHBzOi8vY2RuLWxmcy11cy0xLmh1Z2dpbmdmYWNlLmNvL3JlcG9zL2E5LzIyL2E5MjI1ZjY2Yjk2M2QwZGZkM2U3NjYwNzQ4NmExODkzYjQ5MDEyMDVlMjE0MmJiODgwM2QxMTlmMzgzMDRiMjEvOTI0ZmRjY2FhM2M1NzRiZjEzOWMyNWM5NzU5YWExZWQzYjNmOTllMTlhN2M1MjllZTk5NmMyYmMxNzY2MzY5NT9yZXNwb25zZS1jb250ZW50LWRpc3Bvc2l0aW9uPSoifV19&Signature=Z5XWvBYn83JOQsrtJr2SiGBw4IkMDCWL8JduNdywhmkQn0cSGKc3fF%7EZ4%7Eav8gsHlN6K7fJy8iSStab9mNdKzd0aTa1Ylh9CBeaejT-JQpyFYaEDsyzD-Eg3qBQGwNn2V0kDO1ZJWb-GoCynwlnj-eoEPKCS1L%7EnlH-z0wGBYl8rawVO3dKq7T2jdNt8%7E9o-NP8-2ATV-jvRU0g3xEKZQaXwFAVMkgjBUed3l%7E%7EFtyQxTFKKv6Fc6yX%7EJDg1kDchRbjwxr3CfETYgSVRkFlM6MOLxa7YWYWEWwSniEoV82wQu4VUVCOHV%7Ey3c7cBQxtHasJBjmioCdkDxem-bSBxaQ__&Key-Pair-Id=K24J24Z295AEI9\n",
      "\n",
      "08/23 15:36:23 [\u001b[1;32mNOTICE\u001b[0m] Download complete: /workspace/GPT_SoVITS/pretrained_models/chinese-hubert-base/config.json\n",
      "\n",
      "08/23 15:36:23 [\u001b[1;32mNOTICE\u001b[0m] Download complete: /workspace/GPT_SoVITS/pretrained_models/chinese-hubert-base/preprocessor_config.json\n",
      "\n",
      "08/23 15:36:23 [\u001b[1;32mNOTICE\u001b[0m] CUID#51 - Redirecting to https://cdn-lfs-us-1.huggingface.co/repos/a9/22/a9225f66b963d0dfd3e76607486a1893b4901205e2142bb8803d119f38304b21/24164f129c66499d1346e2aa55f183250c223161ec2770c0da3d3b08cf432d3c?response-content-disposition=inline%3B+filename*%3DUTF-8%27%27pytorch_model.bin%3B+filename%3D%22pytorch_model.bin%22%3B&response-content-type=application%2Foctet-stream&Expires=1724686583&Policy=eyJTdGF0ZW1lbnQiOlt7IkNvbmRpdGlvbiI6eyJEYXRlTGVzc1RoYW4iOnsiQVdTOkVwb2NoVGltZSI6MTcyNDY4NjU4M319LCJSZXNvdXJjZSI6Imh0dHBzOi8vY2RuLWxmcy11cy0xLmh1Z2dpbmdmYWNlLmNvL3JlcG9zL2E5LzIyL2E5MjI1ZjY2Yjk2M2QwZGZkM2U3NjYwNzQ4NmExODkzYjQ5MDEyMDVlMjE0MmJiODgwM2QxMTlmMzgzMDRiMjEvMjQxNjRmMTI5YzY2NDk5ZDEzNDZlMmFhNTVmMTgzMjUwYzIyMzE2MWVjMjc3MGMwZGEzZDNiMDhjZjQzMmQzYz9yZXNwb25zZS1jb250ZW50LWRpc3Bvc2l0aW9uPSomcmVzcG9uc2UtY29udGVudC10eXBlPSoifV19&Signature=fT1MNvEeT1dRvOJqrz0LmARiZZrItkJQLFulaviQXTlWznQvC0%7EMyvRlFRomJ0r5dDvmaXjqzC%7Ecvuu63FjPOHSqRe6NTSNMOI1OM9H0eoe8PU-T0SYKznVyolZ-Ief06KCJHyiYuwpzL9aQryO0R-lLemIBZLARs8zm1zt%7EIiYOuK2u9%7ElkSq%7E17PwfY2vJMTSZHOfk8SSBSzYqjVdbP-IzlHRIRLIunOfsWfw7jGHvoQxLrUz4AW89gV2i7-9qnvpo6EK62-nf0mMyFYLtZRUKwKbzgD7sCVKJC2KaH8NmeJtRHE5SbM8nzheFS-ylOCScdiwUHOJZlNGoCxEI2A__&Key-Pair-Id=K24J24Z295AEI9\n",
      "\n",
      "08/23 15:36:23 [\u001b[1;32mNOTICE\u001b[0m] Download complete: /workspace/GPT_SoVITS/pretrained_models/s2G488k.pth\n",
      "\n",
      "08/23 15:36:23 [\u001b[1;32mNOTICE\u001b[0m] Download complete: /workspace/GPT_SoVITS/pretrained_models/chinese-roberta-wwm-ext-large/config.json\n",
      "\n",
      "08/23 15:36:23 [\u001b[1;32mNOTICE\u001b[0m] CUID#59 - Redirecting to https://cdn-lfs-us-1.huggingface.co/repos/a9/22/a9225f66b963d0dfd3e76607486a1893b4901205e2142bb8803d119f38304b21/e53a693acc59ace251d143d068096ae0d7b79e4b1b503fa84c9dcf576448c1d8?response-content-disposition=inline%3B+filename*%3DUTF-8%27%27pytorch_model.bin%3B+filename%3D%22pytorch_model.bin%22%3B&response-content-type=application%2Foctet-stream&Expires=1724686583&Policy=eyJTdGF0ZW1lbnQiOlt7IkNvbmRpdGlvbiI6eyJEYXRlTGVzc1RoYW4iOnsiQVdTOkVwb2NoVGltZSI6MTcyNDY4NjU4M319LCJSZXNvdXJjZSI6Imh0dHBzOi8vY2RuLWxmcy11cy0xLmh1Z2dpbmdmYWNlLmNvL3JlcG9zL2E5LzIyL2E5MjI1ZjY2Yjk2M2QwZGZkM2U3NjYwNzQ4NmExODkzYjQ5MDEyMDVlMjE0MmJiODgwM2QxMTlmMzgzMDRiMjEvZTUzYTY5M2FjYzU5YWNlMjUxZDE0M2QwNjgwOTZhZTBkN2I3OWU0YjFiNTAzZmE4NGM5ZGNmNTc2NDQ4YzFkOD9yZXNwb25zZS1jb250ZW50LWRpc3Bvc2l0aW9uPSomcmVzcG9uc2UtY29udGVudC10eXBlPSoifV19&Signature=EA0d%7EU%7EJEhKk5KjW7dNuLC05m7eVuwW8Q56vgNIRUhkDvdY2AM4tYKFaa2ipLxZgWwZxe9%7EbT809TNuALM2RbZuMFfs%7ElxYlNzrtDwrxt7cW102AKwlfd5XFfr3RcptPgmiOArd27La38L9nGC%7EzITA148fCcv9SQvUddV9n91S8tVp9kAMJ2ML4EUw%7EoUjEnXoqulKVBNCYjj-aJsi0xXpnmcNtf86R1gIN8cGovOpYj6QOnNdolBjVuwxPUMneF7Gbmd2IaYKvubosFS%7EkCofizw-DUehgIGFdfw0fc78zoACSTspd18UUFXo5OTK2jXzZf3QepCjXce3pBPX65w__&Key-Pair-Id=K24J24Z295AEI9\n",
      "\n",
      "08/23 15:36:24 [\u001b[1;32mNOTICE\u001b[0m] Download complete: /workspace/GPT_SoVITS/pretrained_models/s1bert25hz-2kh-longer-epoch=68e-step=50232.ckpt\n",
      "\n",
      "08/23 15:36:24 [\u001b[1;32mNOTICE\u001b[0m] Download complete: /workspace/GPT_SoVITS/pretrained_models/chinese-roberta-wwm-ext-large/tokenizer.json\n",
      "\n",
      "08/23 15:36:24 [\u001b[1;32mNOTICE\u001b[0m] CUID#67 - Redirecting to https://cdn-lfs.huggingface.co/repos/ef/97/ef977053f017cde1fc0f89ac7ef0b33172a3d8fb8a840bb24e78b1c0f35f1e72/39796caa5db18d7f9382d8ac997ac967bfd85f7761014bb807d2543cc844ef05?response-content-disposition=inline%3B+filename*%3DUTF-8%27%27HP2_all_vocals.pth%3B+filename%3D%22HP2_all_vocals.pth%22%3B&Expires=1724686584&Policy=eyJTdGF0ZW1lbnQiOlt7IkNvbmRpdGlvbiI6eyJEYXRlTGVzc1RoYW4iOnsiQVdTOkVwb2NoVGltZSI6MTcyNDY4NjU4NH19LCJSZXNvdXJjZSI6Imh0dHBzOi8vY2RuLWxmcy5odWdnaW5nZmFjZS5jby9yZXBvcy9lZi85Ny9lZjk3NzA1M2YwMTdjZGUxZmMwZjg5YWM3ZWYwYjMzMTcyYTNkOGZiOGE4NDBiYjI0ZTc4YjFjMGYzNWYxZTcyLzM5Nzk2Y2FhNWRiMThkN2Y5MzgyZDhhYzk5N2FjOTY3YmZkODVmNzc2MTAxNGJiODA3ZDI1NDNjYzg0NGVmMDU%7EcmVzcG9uc2UtY29udGVudC1kaXNwb3NpdGlvbj0qIn1dfQ__&Signature=TjA1okrBGX9JGXL6nz1nKZKqFceJUOMKJrVgp7Ty7Y%7ELMJTxtZihnO2r8Urph4nd1LcNh55q2aq20WN6BlmGOx870tNATi1zcvlImQV0slOpOTsEwxmyzuoELKQo6QkpgoM4q3cx5R0nbxI09M4p1FEJcn9goECa0Q4sbdij9FYEzu2TsTSF5oRjOAbB3jgB8b1ka3AV%7EUE%7EjqfSCGSHVjzV5CNDUtTECSqwWhEclHHo4SyR6pQ3xF1TxTG5lOvxNBxHmWNfNhbL0oYlNzbjLkS1gKltGBt0wHYArwPHPmSG3R0GSiQ2qGX-bvjOnb8%7EC2SvZhjQd8z9nqGqd0vSuA__&Key-Pair-Id=K3ESJI6DHPFC7\n",
      "\n",
      "08/23 15:36:24 [\u001b[1;32mNOTICE\u001b[0m] Download complete: /workspace/GPT_SoVITS/pretrained_models/gsv-v2final-pretrained/s1bert25hz-5kh-longer-epoch=12-step=369668.ckpt\n",
      "\n",
      "08/23 15:36:24 [\u001b[1;32mNOTICE\u001b[0m] CUID#68 - Redirecting to https://cdn-lfs.huggingface.co/repos/ef/97/ef977053f017cde1fc0f89ac7ef0b33172a3d8fb8a840bb24e78b1c0f35f1e72/45e6b65199e781b4a6542002699be9f19cd3d1cb7d1558bc2bfbcd84674dfe28?response-content-disposition=inline%3B+filename*%3DUTF-8%27%27HP3_all_vocals.pth%3B+filename%3D%22HP3_all_vocals.pth%22%3B&Expires=1724686584&Policy=eyJTdGF0ZW1lbnQiOlt7IkNvbmRpdGlvbiI6eyJEYXRlTGVzc1RoYW4iOnsiQVdTOkVwb2NoVGltZSI6MTcyNDY4NjU4NH19LCJSZXNvdXJjZSI6Imh0dHBzOi8vY2RuLWxmcy5odWdnaW5nZmFjZS5jby9yZXBvcy9lZi85Ny9lZjk3NzA1M2YwMTdjZGUxZmMwZjg5YWM3ZWYwYjMzMTcyYTNkOGZiOGE4NDBiYjI0ZTc4YjFjMGYzNWYxZTcyLzQ1ZTZiNjUxOTllNzgxYjRhNjU0MjAwMjY5OWJlOWYxOWNkM2QxY2I3ZDE1NThiYzJiZmJjZDg0Njc0ZGZlMjg%7EcmVzcG9uc2UtY29udGVudC1kaXNwb3NpdGlvbj0qIn1dfQ__&Signature=TAJMCUbgKa1j9NO4tY0HXHG3qdifkR1It42as5H-Ixl5IleLPpJxUl0pzvY5Ct%7E8REU6UANn-mA789rssD50zrLtznCE53Ex0NAj8MeGgFBknvHa1D-tqAs38vGS154l%7EtOUyY%7E5UoHQq-IKaxm7zOOO%7E36trvrlO0fgGxTXgMVDtzqb4A8wx9-LFI4ZTkAbk1cVwLEZGeVEnZ1Bq0FT8Wwbo1Vy40B99BK8-IttfsAJZ56igkc3asTkl4aV5JXoqKEodYKXG6jDXHu8xmhhj-2J0bMBvx1Am2vN0%7Ep6ONQraVce9mUPmKafs3N%7EidGiV9k70lom2Su6rkIE1N6xOA__&Key-Pair-Id=K3ESJI6DHPFC7\n",
      "[DL:432MiB][#fa97bc 83MiB/101MiB(82%)][#927c5e 76MiB/180MiB(42%)][#621f94 70MiB/621MiB(11%)][#e28314 21MiB/60MiB(35%)][#f46e50 14MiB/60MiB(23%)]\n",
      "\n",
      "08/23 15:36:24 [\u001b[1;32mNOTICE\u001b[0m] Download complete: /workspace/GPT_SoVITS/pretrained_models/gsv-v2final-pretrained/s2G2333k.pth\n",
      "\n",
      "08/23 15:36:24 [\u001b[1;32mNOTICE\u001b[0m] CUID#81 - Redirecting to https://cdn-lfs.huggingface.co/repos/ef/97/ef977053f017cde1fc0f89ac7ef0b33172a3d8fb8a840bb24e78b1c0f35f1e72/5908891829634926119720241e8573d97cbeb8277110a7512bdb0bd7563258ee?response-content-disposition=inline%3B+filename*%3DUTF-8%27%27HP5_only_main_vocal.pth%3B+filename%3D%22HP5_only_main_vocal.pth%22%3B&Expires=1724686584&Policy=eyJTdGF0ZW1lbnQiOlt7IkNvbmRpdGlvbiI6eyJEYXRlTGVzc1RoYW4iOnsiQVdTOkVwb2NoVGltZSI6MTcyNDY4NjU4NH19LCJSZXNvdXJjZSI6Imh0dHBzOi8vY2RuLWxmcy5odWdnaW5nZmFjZS5jby9yZXBvcy9lZi85Ny9lZjk3NzA1M2YwMTdjZGUxZmMwZjg5YWM3ZWYwYjMzMTcyYTNkOGZiOGE4NDBiYjI0ZTc4YjFjMGYzNWYxZTcyLzU5MDg4OTE4Mjk2MzQ5MjYxMTk3MjAyNDFlODU3M2Q5N2NiZWI4Mjc3MTEwYTc1MTJiZGIwYmQ3NTYzMjU4ZWU%7EcmVzcG9uc2UtY29udGVudC1kaXNwb3NpdGlvbj0qIn1dfQ__&Signature=Aqb5rQAs7ktwLZo%7E89QpC348J0gUzzNzgBGz4zyT1tswxT3IvjXOcyoVJa5NnCGAzvqiKq3lrgF3Ua5KqJvyWNTGTQds%7EdK0uTeR2ifpqKQ9jk9RcqIjiin0cL6asI7j4HSshEpSt6w-H%7E5orjXHwT9HcMTrsn1UeYvVCyXbV6pAJc65of8vBs51iX%7EnPgnBk1C7AYiTKECfgHXFdGdSRSTH88BwKppTvkLgzYH7V74k9NMi29aGgpSMy07BQ-ALXyrM-TUIYgXqlbYlhgfN4375oGvUir7mpuUGuBwMiv9V-tgDvzta2LeG461zsgOuHS4cSOvYMqpopUA7hJsBMw__&Key-Pair-Id=K3ESJI6DHPFC7\n",
      "\n",
      "08/23 15:36:24 [\u001b[1;32mNOTICE\u001b[0m] Download complete: /workspace/tools/uvr5/uvr5_weights/HP2_all_vocals.pth\n",
      "\n",
      "08/23 15:36:24 [\u001b[1;32mNOTICE\u001b[0m] CUID#88 - Redirecting to https://cdn-lfs.huggingface.co/repos/ef/97/ef977053f017cde1fc0f89ac7ef0b33172a3d8fb8a840bb24e78b1c0f35f1e72/8c8fd1582f9aabc363e47af62ddb88df6cae7e064cae75bbf041a067a5e0aee2?response-content-disposition=inline%3B+filename*%3DUTF-8%27%27VR-DeEchoAggressive.pth%3B+filename%3D%22VR-DeEchoAggressive.pth%22%3B&Expires=1724686584&Policy=eyJTdGF0ZW1lbnQiOlt7IkNvbmRpdGlvbiI6eyJEYXRlTGVzc1RoYW4iOnsiQVdTOkVwb2NoVGltZSI6MTcyNDY4NjU4NH19LCJSZXNvdXJjZSI6Imh0dHBzOi8vY2RuLWxmcy5odWdnaW5nZmFjZS5jby9yZXBvcy9lZi85Ny9lZjk3NzA1M2YwMTdjZGUxZmMwZjg5YWM3ZWYwYjMzMTcyYTNkOGZiOGE4NDBiYjI0ZTc4YjFjMGYzNWYxZTcyLzhjOGZkMTU4MmY5YWFiYzM2M2U0N2FmNjJkZGI4OGRmNmNhZTdlMDY0Y2FlNzViYmYwNDFhMDY3YTVlMGFlZTI%7EcmVzcG9uc2UtY29udGVudC1kaXNwb3NpdGlvbj0qIn1dfQ__&Signature=BaZW0H-u3GeBGyDDqbnBB39o%7EB58jKhocSnItehSLdP1HqMhAWQYYTleE26%7EJ58dzhCp2FmNao9lIxUYFHuk98IF5CHxC4T9wSrJO-KGQtGhPyeNbjW5MZsZa%7EOihYokM0cQBpJpU1sNAYscOvKPcrpo6p6iHM8LtTEmkSHgY%7EH98ubQdCamay7KO9InvD2ZJ3wwfz3ZkkkTWyxGy9xe9VwOpwxRM8zKkG2twb21nCRWGgI8cMCLdhZh2K01nHcqmGCXbHrTnw3Wr93YPZPCQFHlDBY8B8ChoC1-uDLGe28P0xeZKSoIdcGhIbezxTVeygqLrvbtknV8O4hXeP2LrQ__&Key-Pair-Id=K3ESJI6DHPFC7\n",
      "\n",
      "08/23 15:36:24 [\u001b[1;32mNOTICE\u001b[0m] Download complete: /workspace/tools/uvr5/uvr5_weights/HP3_all_vocals.pth\n",
      "\n",
      "08/23 15:36:24 [\u001b[1;32mNOTICE\u001b[0m] CUID#95 - Redirecting to https://cdn-lfs.huggingface.co/repos/ef/97/ef977053f017cde1fc0f89ac7ef0b33172a3d8fb8a840bb24e78b1c0f35f1e72/01376dd2a571bf3cb9cced680732726d2d732609d09216a610b0d110f133febe?response-content-disposition=inline%3B+filename*%3DUTF-8%27%27VR-DeEchoDeReverb.pth%3B+filename%3D%22VR-DeEchoDeReverb.pth%22%3B&Expires=1724685521&Policy=eyJTdGF0ZW1lbnQiOlt7IkNvbmRpdGlvbiI6eyJEYXRlTGVzc1RoYW4iOnsiQVdTOkVwb2NoVGltZSI6MTcyNDY4NTUyMX19LCJSZXNvdXJjZSI6Imh0dHBzOi8vY2RuLWxmcy5odWdnaW5nZmFjZS5jby9yZXBvcy9lZi85Ny9lZjk3NzA1M2YwMTdjZGUxZmMwZjg5YWM3ZWYwYjMzMTcyYTNkOGZiOGE4NDBiYjI0ZTc4YjFjMGYzNWYxZTcyLzAxMzc2ZGQyYTU3MWJmM2NiOWNjZWQ2ODA3MzI3MjZkMmQ3MzI2MDlkMDkyMTZhNjEwYjBkMTEwZjEzM2ZlYmU%7EcmVzcG9uc2UtY29udGVudC1kaXNwb3NpdGlvbj0qIn1dfQ__&Signature=LYD2adgkQDEqVcamFQBpqgEdzUwx%7EDsWwMKgbMo6-dTjEooRJ-neeDCxtSRc05N8MVJVqDPXsi%7Eh1yawmG3abSH%7EUYdw5UysgOcB6WjRS5uOFA5B8t9L8hzyixSMpWtMQcWewxikreLmdQKEOeLK-TYg4wWoEnIUqQlNYUtn%7EPfIplydGxt9JgIxZtn7bVpjaXk9hwdAGOa6CvbRXPj%7EMrhN268ZW2kAqPACAUI1dZ4R1QccGyiR%7EfZP6MHfLPzIDHVKXRpaBbSqXuLnunRxRHzLiKoRB0R-YuHp4qhG3F4KoAHGuBGYYAv3KJgLfuiCjF3W2HTIrMQZAyN3dJzvHw__&Key-Pair-Id=K3ESJI6DHPFC7\n",
      "\n",
      "08/23 15:36:25 [\u001b[1;32mNOTICE\u001b[0m] Download complete: /workspace/tools/uvr5/uvr5_weights/HP5_only_main_vocal.pth\n",
      "\n",
      "08/23 15:36:25 [\u001b[1;32mNOTICE\u001b[0m] CUID#102 - Redirecting to https://cdn-lfs.huggingface.co/repos/ef/97/ef977053f017cde1fc0f89ac7ef0b33172a3d8fb8a840bb24e78b1c0f35f1e72/56aba59db3bcdd14a14464e62f3129698ecdea62eee0f003b9360923eb3ac79e?response-content-disposition=inline%3B+filename*%3DUTF-8%27%27VR-DeEchoNormal.pth%3B+filename%3D%22VR-DeEchoNormal.pth%22%3B&Expires=1724686585&Policy=eyJTdGF0ZW1lbnQiOlt7IkNvbmRpdGlvbiI6eyJEYXRlTGVzc1RoYW4iOnsiQVdTOkVwb2NoVGltZSI6MTcyNDY4NjU4NX19LCJSZXNvdXJjZSI6Imh0dHBzOi8vY2RuLWxmcy5odWdnaW5nZmFjZS5jby9yZXBvcy9lZi85Ny9lZjk3NzA1M2YwMTdjZGUxZmMwZjg5YWM3ZWYwYjMzMTcyYTNkOGZiOGE4NDBiYjI0ZTc4YjFjMGYzNWYxZTcyLzU2YWJhNTlkYjNiY2RkMTRhMTQ0NjRlNjJmMzEyOTY5OGVjZGVhNjJlZWUwZjAwM2I5MzYwOTIzZWIzYWM3OWU%7EcmVzcG9uc2UtY29udGVudC1kaXNwb3NpdGlvbj0qIn1dfQ__&Signature=FHFd3XGQIp6k2zBKcLEo7hdFYQITUgrAdpb054cdEtnkDyGgi8tMjAeK45KumyxZ6RH15S19O63gzBnZHIzZz7nZ7eQUPwcl9vHwnENmPA31Uu7mQfn85ykustNipn5xWjfxzET-X7%7EJvf-fn2Q982bk6lj54NF87MpvIiViO4h-wICW52ScdERvemjy7%7ETrptWm4X6kdHAMBZlm5AY639uKd9r%7ElqwEQWuFNwKlKJT%7EBtguEby81PF66IU6S16vpeY3UjCODTF6YS2Ocm9d1JYZj71zfO1Y2wTMNAyQJ0CXfVnvm8uN43jBnnPMuHLAz24mO3katPOEsvE87X3OJQ__&Key-Pair-Id=K3ESJI6DHPFC7\n",
      "[DL:443MiB][#927c5e 172MiB/180MiB(95%)][#621f94 166MiB/621MiB(26%)][#052d8f 53MiB/60MiB(87%)][#83fdd8 40MiB/106MiB(37%)][#0a2357 12MiB/60MiB(20%)]\n",
      "\n",
      "08/23 15:36:25 [\u001b[1;32mNOTICE\u001b[0m] Download complete: /workspace/tools/uvr5/uvr5_weights/VR-DeEchoAggressive.pth\n",
      "\n",
      "08/23 15:36:25 [\u001b[1;32mNOTICE\u001b[0m] Download complete: /workspace/GPT_SoVITS/pretrained_models/chinese-hubert-base/pytorch_model.bin\n",
      "\n",
      "08/23 15:36:25 [\u001b[1;32mNOTICE\u001b[0m] CUID#109 - Redirecting to https://cdn-lfs.huggingface.co/repos/ef/97/ef977053f017cde1fc0f89ac7ef0b33172a3d8fb8a840bb24e78b1c0f35f1e72/233bb5c6aaa365e568659a0a81211746fa881f8f47f82d9e864fce1f7692db80?response-content-disposition=inline%3B+filename*%3DUTF-8%27%27vocals.onnx%3B+filename%3D%22vocals.onnx%22%3B&Expires=1724686585&Policy=eyJTdGF0ZW1lbnQiOlt7IkNvbmRpdGlvbiI6eyJEYXRlTGVzc1RoYW4iOnsiQVdTOkVwb2NoVGltZSI6MTcyNDY4NjU4NX19LCJSZXNvdXJjZSI6Imh0dHBzOi8vY2RuLWxmcy5odWdnaW5nZmFjZS5jby9yZXBvcy9lZi85Ny9lZjk3NzA1M2YwMTdjZGUxZmMwZjg5YWM3ZWYwYjMzMTcyYTNkOGZiOGE4NDBiYjI0ZTc4YjFjMGYzNWYxZTcyLzIzM2JiNWM2YWFhMzY1ZTU2ODY1OWEwYTgxMjExNzQ2ZmE4ODFmOGY0N2Y4MmQ5ZTg2NGZjZTFmNzY5MmRiODA%7EcmVzcG9uc2UtY29udGVudC1kaXNwb3NpdGlvbj0qIn1dfQ__&Signature=EYr%7E2KI2F-XZ1fXTcLjkuBf2%7E7KkR2OcvJjvan48FacDHo%7ETNCM7XDf3-wONk-CHvIXMq44izwgHwDBn%7EEll4u4vavaW3Epld37zMHzN1JZGHe%7Etfg8vynPo2rnMhH5DnGwl81uc-jfi8GPWlXrH98LZmkf%7ErwuPD3x9xF4WbnGyjltTYOGH1mH46CR1PauLGl07mQMs7GX1-Ui7CdWj1JMhRNha23jn7bi40NSF8XbMQW3wTE1S4V9JToIPK7EEv6VUtntkL0zZCnBwyki1RvmsNXmTETqIP04sRFV9Y-ayo6HE1%7EgLNSL2z5f2BX37Pj0oF%7E6spn1cDJaUrBNJrg__&Key-Pair-Id=K3ESJI6DHPFC7\n",
      "\n",
      "08/23 15:36:25 [\u001b[1;32mNOTICE\u001b[0m] Download complete: /workspace/tools/uvr5/uvr5_weights/VR-DeEchoNormal.pth\n",
      "\n",
      "08/23 15:36:25 [\u001b[1;32mNOTICE\u001b[0m] Download complete: /workspace/tools/uvr5/uvr5_weights/VR-DeEchoDeReverb.pth\n",
      "\n",
      "08/23 15:36:26 [\u001b[1;32mNOTICE\u001b[0m] Download complete: /workspace/tools/uvr5/uvr5_weights/onnx_dereverb_By_FoxJoy/vocals.onnx\n",
      "[#621f94 473MiB/621MiB(76%) CN:1 DL:172MiB]\n",
      "\n",
      "08/23 15:36:26 [\u001b[1;32mNOTICE\u001b[0m] Download complete: /workspace/GPT_SoVITS/pretrained_models/chinese-roberta-wwm-ext-large/pytorch_model.bin\n",
      "\n",
      "Download Results:\n",
      "gid   |stat|avg speed  |path/URI\n",
      "======+====+===========+=======================================================\n",
      "0f0300|OK  |    87MiB/s|/workspace/GPT_SoVITS/pretrained_models/gsv-v2final-pretrained/s2D2333k.pth\n",
      "271dbd|OK  |    87MiB/s|/workspace/GPT_SoVITS/pretrained_models/s2D488k.pth\n",
      "62a004|OK  |   1.3MiB/s|/workspace/GPT_SoVITS/pretrained_models/chinese-hubert-base/config.json\n",
      "3f8165|OK  |   207KiB/s|/workspace/GPT_SoVITS/pretrained_models/chinese-hubert-base/preprocessor_config.json\n",
      "ce4f1c|OK  |    88MiB/s|/workspace/GPT_SoVITS/pretrained_models/s2G488k.pth\n",
      "23166a|OK  |   0.9MiB/s|/workspace/GPT_SoVITS/pretrained_models/chinese-roberta-wwm-ext-large/config.json\n",
      "7c369e|OK  |    88MiB/s|/workspace/GPT_SoVITS/pretrained_models/s1bert25hz-2kh-longer-epoch=68e-step=50232.ckpt\n",
      "839a47|OK  |    36MiB/s|/workspace/GPT_SoVITS/pretrained_models/chinese-roberta-wwm-ext-large/tokenizer.json\n",
      "702b45|OK  |    85MiB/s|/workspace/GPT_SoVITS/pretrained_models/gsv-v2final-pretrained/s1bert25hz-5kh-longer-epoch=12-step=369668.ckpt\n",
      "fa97bc|OK  |    92MiB/s|/workspace/GPT_SoVITS/pretrained_models/gsv-v2final-pretrained/s2G2333k.pth\n",
      "e28314|OK  |    97MiB/s|/workspace/tools/uvr5/uvr5_weights/HP2_all_vocals.pth\n",
      "f46e50|OK  |    97MiB/s|/workspace/tools/uvr5/uvr5_weights/HP3_all_vocals.pth\n",
      "f147aa|OK  |    98MiB/s|/workspace/tools/uvr5/uvr5_weights/HP5_only_main_vocal.pth\n",
      "052d8f|OK  |    95MiB/s|/workspace/tools/uvr5/uvr5_weights/VR-DeEchoAggressive.pth\n",
      "927c5e|OK  |    94MiB/s|/workspace/GPT_SoVITS/pretrained_models/chinese-hubert-base/pytorch_model.bin\n",
      "0a2357|OK  |   109MiB/s|/workspace/tools/uvr5/uvr5_weights/VR-DeEchoNormal.pth\n",
      "83fdd8|OK  |   103MiB/s|/workspace/tools/uvr5/uvr5_weights/VR-DeEchoDeReverb.pth\n",
      "83cddb|OK  |   138MiB/s|/workspace/tools/uvr5/uvr5_weights/onnx_dereverb_By_FoxJoy/vocals.onnx\n",
      "621f94|OK  |   189MiB/s|/workspace/GPT_SoVITS/pretrained_models/chinese-roberta-wwm-ext-large/pytorch_model.bin\n",
      "\n",
      "Status Legend:\n",
      "(OK):download completed.\n",
      "Checking SHA256...\n",
      "/workspace/GPT_SoVITS/pretrained_models/s2D488k.pth: OK\n",
      "/workspace/GPT_SoVITS/pretrained_models/gsv-v2final-pretrained/s2D2333k.pth: OK\n",
      "/workspace/GPT_SoVITS/pretrained_models/s2G488k.pth: OK\n",
      "/workspace/GPT_SoVITS/pretrained_models/gsv-v2final-pretrained/s2G2333k.pth: OK\n",
      "/workspace/GPT_SoVITS/pretrained_models/s1bert25hz-2kh-longer-epoch=68e-step=50232.ckpt: OK\n",
      "/workspace/GPT_SoVITS/pretrained_models/gsv-v2final-pretrained/s1bert25hz-5kh-longer-epoch=12-step=369668.ckpt: OK\n",
      "/workspace/tools/uvr5/uvr5_weights/HP2_all_vocals.pth: OK\n",
      "/workspace/tools/uvr5/uvr5_weights/HP3_all_vocals.pth: OK\n",
      "/workspace/tools/uvr5/uvr5_weights/HP5_only_main_vocal.pth: OK\n",
      "/workspace/tools/uvr5/uvr5_weights/VR-DeEchoAggressive.pth: OK\n",
      "/workspace/GPT_SoVITS/pretrained_models/chinese-hubert-base/pytorch_model.bin: OK\n",
      "/workspace/tools/uvr5/uvr5_weights/onnx_dereverb_By_FoxJoy/vocals.onnx: OK\n",
      "/workspace/tools/uvr5/uvr5_weights/VR-DeEchoNormal.pth: OK\n",
      "/workspace/tools/uvr5/uvr5_weights/VR-DeEchoDeReverb.pth: OK\n",
      "/workspace/GPT_SoVITS/pretrained_models/chinese-roberta-wwm-ext-large/pytorch_model.bin: OK\n",
      "\u001b[91m2024-08-23 15:36:32,169 - modelscope - INFO - PyTorch version 2.0.1+cu118 Found.\n",
      "\u001b[0m\u001b[91m2024-08-23 15:36:32,169 - modelscope - INFO - Loading ast index from /root/.cache/modelscope/ast_indexer\n",
      "\u001b[0m\u001b[91m2024-08-23 15:36:32,169 - modelscope - INFO - No valid ast index found from /root/.cache/modelscope/ast_indexer, generating ast index from prebuilt!\n",
      "\u001b[0m\u001b[91m2024-08-23 15:36:32,293 - modelscope - INFO - Loading done! Current index file version is 1.10.0, with md5 9cd17bcf3ee76ba8bcfaccbfa7789369 and a total number of 946 components indexed\n",
      "\u001b[0m\u001b[91m2024-08-23 15:36:34,198 - modelscope - INFO - Use user-specified model revision: v2.0.4\n",
      "Downloading: 100%|██████████| 10.9k/10.9k [00:00<00:00, 1.34MB/s]\n",
      "Downloading: 100%|██████████| 173k/173k [00:00<00:00, 642kB/s]\u001b[0m\u001b[91m\n",
      "Downloading: 100%|██████████| 2.45k/2.45k [00:00<00:00, 2.04MB/s]\n",
      "Downloading: 100%|██████████| 472/472 [00:00<00:00, 388kB/s]91m\n",
      "Downloading: 100%|█████████▉| 840M/840M [00:10<00:00, 82.7MB/s]\u001b[0m\u001b[91m\u001b[91m\u001b[91m\u001b[91m\n",
      "Downloading: 100%|██████████| 19.1k/19.1k [00:00<00:00, 281kB/s]m\n",
      "Downloading: 100%|██████████| 7.90M/7.90M [00:00<00:00, 11.4MB/s]\u001b[0m\u001b[91m\n",
      "Downloading: 100%|██████████| 48.7k/48.7k [00:00<00:00, 352kB/s]\u001b[0m\u001b[91m\n",
      "Downloading: 100%|██████████| 91.5k/91.5k [00:00<00:00, 659kB/s]\u001b[0m\u001b[91m\n",
      "\u001b[0m\u001b[91m2024-08-23 15:36:57,832 - modelscope - INFO - Use user-specified model revision: v2.0.4\n",
      "Downloading: 100%|██████████| 7.85k/7.85k [00:00<00:00, 5.93MB/s]\n",
      "Downloading: 100%|██████████| 1.19k/1.19k [00:00<00:00, 1.00MB/s]\n",
      "Downloading: 100%|██████████| 365/365 [00:00<00:00, 296kB/s]91m\n",
      "Downloading: 100%|██████████| 1.64M/1.64M [00:00<00:00, 3.48MB/s]\u001b[0m\u001b[91m\n",
      "Downloading: 100%|██████████| 8.45k/8.45k [00:00<00:00, 6.45MB/s]\n",
      "Downloading: 100%|██████████| 27.3k/27.3k [00:00<00:00, 404kB/s]m\n",
      "Downloading: 100%|██████████| 2.16M/2.16M [00:00<00:00, 3.98MB/s]\u001b[0m\u001b[91m\n",
      "\u001b[0m\u001b[91m2024-08-23 15:37:07,603 - modelscope - INFO - Use user-specified model revision: v2.0.4\n",
      "Downloading: 100%|██████████| 6.00k/6.00k [00:00<00:00, 4.57MB/s]\n",
      "Downloading: 100%|██████████| 810/810 [00:00<00:00, 622kB/s]91m\n",
      "Downloading: 100%|██████████| 373/373 [00:00<00:00, 303kB/s]91m\n",
      "Downloading: 100%|██████████| 278M/278M [00:07<00:00, 40.2MB/s]\u001b[0m\u001b[91mm\u001b[91m\u001b[91m\u001b[91m\u001b[91m\u001b[91m\u001b[91m\u001b[91m\u001b[91m\u001b[91m\u001b[91m\u001b[91m\u001b[91m\u001b[91m\u001b[91m\u001b[91m\u001b[91m\n",
      "Downloading: 100%|██████████| 863/863 [00:00<00:00, 134kB/s]91m\n",
      "Downloading: 100%|██████████| 11.2k/11.2k [00:00<00:00, 8.43MB/s]\n",
      "Downloading: 100%|██████████| 151k/151k [00:00<00:00, 552kB/s]\u001b[0m\u001b[91m\n",
      "Downloading: 100%|██████████| 4.01M/4.01M [00:00<00:00, 6.74MB/s]\u001b[0m\u001b[91m\n",
      "\u001b[0m\u001b[91m/usr/local/lib/python3.9/runpy.py:127: RuntimeWarning: 'nltk.downloader' found in sys.modules after import of package 'nltk', but prior to execution of 'nltk.downloader'; this may result in unpredictable behaviour\n",
      "  warn(RuntimeWarning(msg))\n",
      "\u001b[0m\u001b[91m[nltk_data] Downloading collection 'all'\n",
      "[nltk_data]    | \n",
      "\u001b[0m\u001b[91m[nltk_data]    | Downloading package abc to /root/nltk_data...\n",
      "\u001b[0m\u001b[91m[nltk_data]    |   Unzipping corpora/abc.zip.\n",
      "\u001b[0m\u001b[91m[nltk_data]    | Downloading package alpino to /root/nltk_data...\n",
      "\u001b[0m\u001b[91m[nltk_data]    |   Unzipping corpora/alpino.zip.\n",
      "\u001b[0m\u001b[91m[nltk_data]    | Downloading package averaged_perceptron_tagger to\n",
      "[nltk_data]    |     /root/nltk_data...\n",
      "\u001b[0m\u001b[91m[nltk_data]    |   Unzipping taggers/averaged_perceptron_tagger.zip.\n",
      "\u001b[0m\u001b[91m[nltk_data]    | Downloading package averaged_perceptron_tagger_eng to\n",
      "[nltk_data]    |     /root/nltk_data...\n",
      "\u001b[0m\u001b[91m[nltk_data]    |   Unzipping\n",
      "[nltk_data]    |       taggers/averaged_perceptron_tagger_eng.zip.\n",
      "\u001b[0m\u001b[91m[nltk_data]    | Downloading package averaged_perceptron_tagger_ru to\n",
      "[nltk_data]    |     /root/nltk_data...\n",
      "\u001b[0m\u001b[91m[nltk_data]    |   Unzipping\n",
      "[nltk_data]    |       taggers/averaged_perceptron_tagger_ru.zip.\n",
      "\u001b[0m\u001b[91m[nltk_data]    | Downloading package averaged_perceptron_tagger_rus to\n",
      "[nltk_data]    |     /root/nltk_data...\n",
      "\u001b[0m\u001b[91m[nltk_data]    |   Unzipping\n",
      "[nltk_data]    |       taggers/averaged_perceptron_tagger_rus.zip.\n",
      "\u001b[0m\u001b[91m[nltk_data]    | Downloading package basque_grammars to\n",
      "[nltk_data]    |     /root/nltk_data...\n",
      "\u001b[0m\u001b[91m[nltk_data]    |   Unzipping grammars/basque_grammars.zip.\n",
      "\u001b[0m\u001b[91m[nltk_data]    | Downloading package bcp47 to /root/nltk_data...\n",
      "\u001b[0m\u001b[91m[nltk_data]    | Downloading package biocreative_ppi to\n",
      "[nltk_data]    |     /root/nltk_data...\n",
      "\u001b[0m\u001b[91m[nltk_data]    |   Unzipping corpora/biocreative_ppi.zip.\n",
      "\u001b[0m\u001b[91m[nltk_data]    | Downloading package bllip_wsj_no_aux to\n",
      "[nltk_data]    |     /root/nltk_data...\n",
      "\u001b[0m\u001b[91m[nltk_data]    |   Unzipping models/bllip_wsj_no_aux.zip.\n",
      "\u001b[0m\u001b[91m[nltk_data]    | Downloading package book_grammars to\n",
      "[nltk_data]    |     /root/nltk_data...\n",
      "\u001b[0m\u001b[91m[nltk_data]    |   Unzipping grammars/book_grammars.zip.\n",
      "\u001b[0m\u001b[91m[nltk_data]    | Downloading package brown to /root/nltk_data...\n",
      "\u001b[0m\u001b[91m[nltk_data]    |   Unzipping corpora/brown.zip.\n",
      "\u001b[0m\u001b[91m[nltk_data]    | Downloading package brown_tei to /root/nltk_data...\n",
      "\u001b[0m\u001b[91m[nltk_data]    |   Unzipping corpora/brown_tei.zip.\n",
      "\u001b[0m\u001b[91m[nltk_data]    | Downloading package cess_cat to /root/nltk_data...\n",
      "\u001b[0m\u001b[91m[nltk_data]    |   Unzipping corpora/cess_cat.zip.\n",
      "\u001b[0m\u001b[91m[nltk_data]    | Downloading package cess_esp to /root/nltk_data...\n",
      "\u001b[0m\u001b[91m[nltk_data]    |   Unzipping corpora/cess_esp.zip.\n",
      "\u001b[0m\u001b[91m[nltk_data]    | Downloading package chat80 to /root/nltk_data...\n",
      "\u001b[0m\u001b[91m[nltk_data]    |   Unzipping corpora/chat80.zip.\n",
      "\u001b[0m\u001b[91m[nltk_data]    | Downloading package city_database to\n",
      "[nltk_data]    |     /root/nltk_data...\n",
      "\u001b[0m\u001b[91m[nltk_data]    |   Unzipping corpora/city_database.zip.\n",
      "\u001b[0m\u001b[91m[nltk_data]    | Downloading package cmudict to /root/nltk_data...\n",
      "\u001b[0m\u001b[91m[nltk_data]    |   Unzipping corpora/cmudict.zip.\n",
      "\u001b[0m\u001b[91m[nltk_data]    | Downloading package comparative_sentences to\n",
      "[nltk_data]    |     /root/nltk_data...\n",
      "\u001b[0m\u001b[91m[nltk_data]    |   Unzipping corpora/comparative_sentences.zip.\n",
      "\u001b[0m\u001b[91m[nltk_data]    | Downloading package comtrans to /root/nltk_data...\n",
      "\u001b[0m\u001b[91m[nltk_data]    | Downloading package conll2000 to /root/nltk_data...\n",
      "\u001b[0m\u001b[91m[nltk_data]    |   Unzipping corpora/conll2000.zip.\n",
      "\u001b[0m\u001b[91m[nltk_data]    | Downloading package conll2002 to /root/nltk_data...\n",
      "\u001b[0m\u001b[91m[nltk_data]    |   Unzipping corpora/conll2002.zip.\n",
      "\u001b[0m\u001b[91m[nltk_data]    | Downloading package conll2007 to /root/nltk_data...\n",
      "\u001b[0m\u001b[91m[nltk_data]    | Downloading package crubadan to /root/nltk_data...\n",
      "\u001b[0m\u001b[91m[nltk_data]    |   Unzipping corpora/crubadan.zip.\n",
      "\u001b[0m\u001b[91m[nltk_data]    | Downloading package dependency_treebank to\n",
      "[nltk_data]    |     /root/nltk_data...\n",
      "\u001b[0m\u001b[91m[nltk_data]    |   Unzipping corpora/dependency_treebank.zip.\n",
      "\u001b[0m\u001b[91m[nltk_data]    | Downloading package dolch to /root/nltk_data...\n",
      "\u001b[0m\u001b[91m[nltk_data]    |   Unzipping corpora/dolch.zip.\n",
      "\u001b[0m\u001b[91m[nltk_data]    | Downloading package europarl_raw to\n",
      "[nltk_data]    |     /root/nltk_data...\n",
      "\u001b[0m\u001b[91m[nltk_data]    |   Unzipping corpora/europarl_raw.zip.\n",
      "\u001b[0m\u001b[91m[nltk_data]    | Downloading package extended_omw to\n",
      "[nltk_data]    |     /root/nltk_data...\n",
      "\u001b[0m\u001b[91m[nltk_data]    | Downloading package floresta to /root/nltk_data...\n",
      "\u001b[0m\u001b[91m[nltk_data]    |   Unzipping corpora/floresta.zip.\n",
      "\u001b[0m\u001b[91m[nltk_data]    | Downloading package framenet_v15 to\n",
      "[nltk_data]    |     /root/nltk_data...\n",
      "\u001b[0m\u001b[91m[nltk_data]    |   Unzipping corpora/framenet_v15.zip.\n",
      "\u001b[0m\u001b[91m[nltk_data]    | Downloading package framenet_v17 to\n",
      "[nltk_data]    |     /root/nltk_data...\n",
      "\u001b[0m\u001b[91m[nltk_data]    |   Unzipping corpora/framenet_v17.zip.\n",
      "\u001b[0m\u001b[91m[nltk_data]    | Downloading package gazetteers to /root/nltk_data...\n",
      "\u001b[0m\u001b[91m[nltk_data]    |   Unzipping corpora/gazetteers.zip.\n",
      "\u001b[0m\u001b[91m[nltk_data]    | Downloading package genesis to /root/nltk_data...\n",
      "\u001b[0m\u001b[91m[nltk_data]    |   Unzipping corpora/genesis.zip.\n",
      "\u001b[0m\u001b[91m[nltk_data]    | Downloading package gutenberg to /root/nltk_data...\n",
      "\u001b[0m\u001b[91m[nltk_data]    |   Unzipping corpora/gutenberg.zip.\n",
      "\u001b[0m\u001b[91m[nltk_data]    | Downloading package ieer to /root/nltk_data...\n",
      "\u001b[0m\u001b[91m[nltk_data]    |   Unzipping corpora/ieer.zip.\n",
      "\u001b[0m\u001b[91m[nltk_data]    | Downloading package inaugural to /root/nltk_data...\n",
      "\u001b[0m\u001b[91m[nltk_data]    |   Unzipping corpora/inaugural.zip.\n",
      "\u001b[0m\u001b[91m[nltk_data]    | Downloading package indian to /root/nltk_data...\n",
      "\u001b[0m\u001b[91m[nltk_data]    |   Unzipping corpora/indian.zip.\n",
      "\u001b[0m\u001b[91m[nltk_data]    | Downloading package jeita to /root/nltk_data...\n",
      "\u001b[0m\u001b[91m[nltk_data]    | Downloading package kimmo to /root/nltk_data...\n",
      "\u001b[0m\u001b[91m[nltk_data]    |   Unzipping corpora/kimmo.zip.\n",
      "\u001b[0m\u001b[91m[nltk_data]    | Downloading package knbc to /root/nltk_data...\n",
      "\u001b[0m\u001b[91m[nltk_data]    | Downloading package large_grammars to\n",
      "[nltk_data]    |     /root/nltk_data...\n",
      "\u001b[0m\u001b[91m[nltk_data]    |   Unzipping grammars/large_grammars.zip.\n",
      "\u001b[0m\u001b[91m[nltk_data]    | Downloading package lin_thesaurus to\n",
      "[nltk_data]    |     /root/nltk_data...\n",
      "\u001b[0m\u001b[91m[nltk_data]    |   Unzipping corpora/lin_thesaurus.zip.\n",
      "\u001b[0m\u001b[91m[nltk_data]    | Downloading package mac_morpho to /root/nltk_data...\n",
      "\u001b[0m\u001b[91m[nltk_data]    |   Unzipping corpora/mac_morpho.zip.\n",
      "\u001b[0m\u001b[91m[nltk_data]    | Downloading package machado to /root/nltk_data...\n",
      "\u001b[0m\u001b[91m[nltk_data]    | Downloading package masc_tagged to /root/nltk_data...\n",
      "\u001b[0m\u001b[91m[nltk_data]    | Downloading package maxent_ne_chunker to\n",
      "[nltk_data]    |     /root/nltk_data...\n",
      "\u001b[0m\u001b[91m[nltk_data]    |   Unzipping chunkers/maxent_ne_chunker.zip.\n",
      "\u001b[0m\u001b[91m[nltk_data]    | Downloading package maxent_ne_chunker_tab to\n",
      "[nltk_data]    |     /root/nltk_data...\n",
      "\u001b[0m\u001b[91m[nltk_data]    |   Unzipping chunkers/maxent_ne_chunker_tab.zip.\n",
      "\u001b[0m\u001b[91m[nltk_data]    | Downloading package maxent_treebank_pos_tagger to\n",
      "[nltk_data]    |     /root/nltk_data...\n",
      "\u001b[0m\u001b[91m[nltk_data]    |   Unzipping taggers/maxent_treebank_pos_tagger.zip.\n",
      "\u001b[0m\u001b[91m[nltk_data]    | Downloading package maxent_treebank_pos_tagger_tab to\n",
      "[nltk_data]    |     /root/nltk_data...\n",
      "\u001b[0m\u001b[91m[nltk_data]    |   Unzipping\n",
      "[nltk_data]    |       taggers/maxent_treebank_pos_tagger_tab.zip.\n",
      "\u001b[0m\u001b[91m[nltk_data]    | Downloading package moses_sample to\n",
      "[nltk_data]    |     /root/nltk_data...\n",
      "\u001b[0m\u001b[91m[nltk_data]    |   Unzipping models/moses_sample.zip.\n",
      "\u001b[0m\u001b[91m[nltk_data]    | Downloading package movie_reviews to\n",
      "[nltk_data]    |     /root/nltk_data...\n",
      "\u001b[0m\u001b[91m[nltk_data]    |   Unzipping corpora/movie_reviews.zip.\n",
      "\u001b[0m\u001b[91m[nltk_data]    | Downloading package mte_teip5 to /root/nltk_data...\n",
      "\u001b[0m\u001b[91m[nltk_data]    |   Unzipping corpora/mte_teip5.zip.\n",
      "\u001b[0m\u001b[91m[nltk_data]    | Downloading package mwa_ppdb to /root/nltk_data...\n",
      "\u001b[0m\u001b[91m[nltk_data]    |   Unzipping misc/mwa_ppdb.zip.\n",
      "\u001b[0m\u001b[91m[nltk_data]    | Downloading package names to /root/nltk_data...\n",
      "\u001b[0m\u001b[91m[nltk_data]    |   Unzipping corpora/names.zip.\n",
      "\u001b[0m\u001b[91m[nltk_data]    | Downloading package nombank.1.0 to /root/nltk_data...\n",
      "\u001b[0m\u001b[91m[nltk_data]    | Downloading package nonbreaking_prefixes to\n",
      "[nltk_data]    |     /root/nltk_data...\n",
      "\u001b[0m\u001b[91m[nltk_data]    |   Unzipping corpora/nonbreaking_prefixes.zip.\n",
      "\u001b[0m\u001b[91m[nltk_data]    | Downloading package nps_chat to /root/nltk_data...\n",
      "\u001b[0m\u001b[91m[nltk_data]    |   Unzipping corpora/nps_chat.zip.\n",
      "\u001b[0m\u001b[91m[nltk_data]    | Downloading package omw to /root/nltk_data...\n",
      "\u001b[0m\u001b[91m[nltk_data]    | Downloading package omw-1.4 to /root/nltk_data...\n",
      "\u001b[0m\u001b[91m[nltk_data]    | Downloading package opinion_lexicon to\n",
      "[nltk_data]    |     /root/nltk_data...\n",
      "\u001b[0m\u001b[91m[nltk_data]    |   Unzipping corpora/opinion_lexicon.zip.\n",
      "\u001b[0m\u001b[91m[nltk_data]    | Downloading package panlex_swadesh to\n",
      "[nltk_data]    |     /root/nltk_data...\n",
      "\u001b[0m\u001b[91m[nltk_data]    | Downloading package paradigms to /root/nltk_data...\n",
      "\u001b[0m\u001b[91m[nltk_data]    |   Unzipping corpora/paradigms.zip.\n",
      "\u001b[0m\u001b[91m[nltk_data]    | Downloading package pe08 to /root/nltk_data...\n",
      "\u001b[0m\u001b[91m[nltk_data]    |   Unzipping corpora/pe08.zip.\n",
      "\u001b[0m\u001b[91m[nltk_data]    | Downloading package perluniprops to\n",
      "[nltk_data]    |     /root/nltk_data...\n",
      "\u001b[0m\u001b[91m[nltk_data]    |   Unzipping misc/perluniprops.zip.\n",
      "\u001b[0m\u001b[91m[nltk_data]    | Downloading package pil to /root/nltk_data...\n",
      "\u001b[0m\u001b[91m[nltk_data]    |   Unzipping corpora/pil.zip.\n",
      "\u001b[0m\u001b[91m[nltk_data]    | Downloading package pl196x to /root/nltk_data...\n",
      "\u001b[0m\u001b[91m[nltk_data]    |   Unzipping corpora/pl196x.zip.\n",
      "\u001b[0m\u001b[91m[nltk_data]    | Downloading package porter_test to /root/nltk_data...\n",
      "\u001b[0m\u001b[91m[nltk_data]    |   Unzipping stemmers/porter_test.zip.\n",
      "\u001b[0m\u001b[91m[nltk_data]    | Downloading package ppattach to /root/nltk_data...\n",
      "\u001b[0m\u001b[91m[nltk_data]    |   Unzipping corpora/ppattach.zip.\n",
      "\u001b[0m\u001b[91m[nltk_data]    | Downloading package problem_reports to\n",
      "[nltk_data]    |     /root/nltk_data...\n",
      "\u001b[0m\u001b[91m[nltk_data]    |   Unzipping corpora/problem_reports.zip.\n",
      "\u001b[0m\u001b[91m[nltk_data]    | Downloading package product_reviews_1 to\n",
      "[nltk_data]    |     /root/nltk_data...\n",
      "\u001b[0m\u001b[91m[nltk_data]    |   Unzipping corpora/product_reviews_1.zip.\n",
      "\u001b[0m\u001b[91m[nltk_data]    | Downloading package product_reviews_2 to\n",
      "[nltk_data]    |     /root/nltk_data...\n",
      "\u001b[0m\u001b[91m[nltk_data]    |   Unzipping corpora/product_reviews_2.zip.\n",
      "\u001b[0m\u001b[91m[nltk_data]    | Downloading package propbank to /root/nltk_data...\n",
      "\u001b[0m\u001b[91m[nltk_data]    | Downloading package pros_cons to /root/nltk_data...\n",
      "\u001b[0m\u001b[91m[nltk_data]    |   Unzipping corpora/pros_cons.zip.\n",
      "\u001b[0m\u001b[91m[nltk_data]    | Downloading package ptb to /root/nltk_data...\n",
      "\u001b[0m\u001b[91m[nltk_data]    |   Unzipping corpora/ptb.zip.\n",
      "\u001b[0m\u001b[91m[nltk_data]    | Downloading package punkt to /root/nltk_data...\n",
      "\u001b[0m\u001b[91m[nltk_data]    |   Unzipping tokenizers/punkt.zip.\n",
      "\u001b[0m\u001b[91m[nltk_data]    | Downloading package punkt_tab to /root/nltk_data...\n",
      "\u001b[0m\u001b[91m[nltk_data]    |   Unzipping tokenizers/punkt_tab.zip.\n",
      "\u001b[0m\u001b[91m[nltk_data]    | Downloading package qc to /root/nltk_data...\n",
      "\u001b[0m\u001b[91m[nltk_data]    |   Unzipping corpora/qc.zip.\n",
      "\u001b[0m\u001b[91m[nltk_data]    | Downloading package reuters to /root/nltk_data...\n",
      "\u001b[0m\u001b[91m[nltk_data]    | Downloading package rslp to /root/nltk_data...\n",
      "\u001b[0m\u001b[91m[nltk_data]    |   Unzipping stemmers/rslp.zip.\n",
      "\u001b[0m\u001b[91m[nltk_data]    | Downloading package rte to /root/nltk_data...\n",
      "\u001b[0m\u001b[91m[nltk_data]    |   Unzipping corpora/rte.zip.\n",
      "\u001b[0m\u001b[91m[nltk_data]    | Downloading package sample_grammars to\n",
      "[nltk_data]    |     /root/nltk_data...\n",
      "\u001b[0m\u001b[91m[nltk_data]    |   Unzipping grammars/sample_grammars.zip.\n",
      "\u001b[0m\u001b[91m[nltk_data]    | Downloading package semcor to /root/nltk_data...\n",
      "\u001b[0m\u001b[91m[nltk_data]    | Downloading package senseval to /root/nltk_data...\n",
      "\u001b[0m\u001b[91m[nltk_data]    |   Unzipping corpora/senseval.zip.\n",
      "\u001b[0m\u001b[91m[nltk_data]    | Downloading package sentence_polarity to\n",
      "[nltk_data]    |     /root/nltk_data...\n",
      "\u001b[0m\u001b[91m[nltk_data]    |   Unzipping corpora/sentence_polarity.zip.\n",
      "\u001b[0m\u001b[91m[nltk_data]    | Downloading package sentiwordnet to\n",
      "[nltk_data]    |     /root/nltk_data...\n",
      "\u001b[0m\u001b[91m[nltk_data]    |   Unzipping corpora/sentiwordnet.zip.\n",
      "\u001b[0m\u001b[91m[nltk_data]    | Downloading package shakespeare to /root/nltk_data...\n",
      "\u001b[0m\u001b[91m[nltk_data]    |   Unzipping corpora/shakespeare.zip.\n",
      "\u001b[0m\u001b[91m[nltk_data]    | Downloading package sinica_treebank to\n",
      "[nltk_data]    |     /root/nltk_data...\n",
      "\u001b[0m\u001b[91m[nltk_data]    |   Unzipping corpora/sinica_treebank.zip.\n",
      "\u001b[0m\u001b[91m[nltk_data]    | Downloading package smultron to /root/nltk_data...\n",
      "\u001b[0m\u001b[91m[nltk_data]    |   Unzipping corpora/smultron.zip.\n",
      "\u001b[0m\u001b[91m[nltk_data]    | Downloading package snowball_data to\n",
      "[nltk_data]    |     /root/nltk_data...\n",
      "\u001b[0m\u001b[91m[nltk_data]    | Downloading package spanish_grammars to\n",
      "[nltk_data]    |     /root/nltk_data...\n",
      "\u001b[0m\u001b[91m[nltk_data]    |   Unzipping grammars/spanish_grammars.zip.\n",
      "\u001b[0m\u001b[91m[nltk_data]    | Downloading package state_union to /root/nltk_data...\n",
      "\u001b[0m\u001b[91m[nltk_data]    |   Unzipping corpora/state_union.zip.\n",
      "\u001b[0m\u001b[91m[nltk_data]    | Downloading package stopwords to /root/nltk_data...\n",
      "\u001b[0m\u001b[91m[nltk_data]    |   Unzipping corpora/stopwords.zip.\n",
      "\u001b[0m\u001b[91m[nltk_data]    | Downloading package subjectivity to\n",
      "[nltk_data]    |     /root/nltk_data...\n",
      "\u001b[0m\u001b[91m[nltk_data]    |   Unzipping corpora/subjectivity.zip.\n",
      "\u001b[0m\u001b[91m[nltk_data]    | Downloading package swadesh to /root/nltk_data...\n",
      "\u001b[0m\u001b[91m[nltk_data]    |   Unzipping corpora/swadesh.zip.\n",
      "\u001b[0m\u001b[91m[nltk_data]    | Downloading package switchboard to /root/nltk_data...\n",
      "\u001b[0m\u001b[91m[nltk_data]    |   Unzipping corpora/switchboard.zip.\n",
      "\u001b[0m\u001b[91m[nltk_data]    | Downloading package tagsets to /root/nltk_data...\n",
      "\u001b[0m\u001b[91m[nltk_data]    |   Unzipping help/tagsets.zip.\n",
      "\u001b[0m\u001b[91m[nltk_data]    | Downloading package tagsets_json to\n",
      "[nltk_data]    |     /root/nltk_data...\n",
      "\u001b[0m\u001b[91m[nltk_data]    |   Unzipping help/tagsets_json.zip.\n",
      "\u001b[0m\u001b[91m[nltk_data]    | Downloading package timit to /root/nltk_data...\n",
      "\u001b[0m\u001b[91m[nltk_data]    |   Unzipping corpora/timit.zip.\n",
      "\u001b[0m\u001b[91m[nltk_data]    | Downloading package toolbox to /root/nltk_data...\n",
      "\u001b[0m\u001b[91m[nltk_data]    |   Unzipping corpora/toolbox.zip.\n",
      "\u001b[0m\u001b[91m[nltk_data]    | Downloading package treebank to /root/nltk_data...\n",
      "\u001b[0m\u001b[91m[nltk_data]    |   Unzipping corpora/treebank.zip.\n",
      "\u001b[0m\u001b[91m[nltk_data]    | Downloading package twitter_samples to\n",
      "[nltk_data]    |     /root/nltk_data...\n",
      "\u001b[0m\u001b[91m[nltk_data]    |   Unzipping corpora/twitter_samples.zip.\n",
      "\u001b[0m\u001b[91m[nltk_data]    | Downloading package udhr to /root/nltk_data...\n",
      "\u001b[0m\u001b[91m[nltk_data]    |   Unzipping corpora/udhr.zip.\n",
      "\u001b[0m\u001b[91m[nltk_data]    | Downloading package udhr2 to /root/nltk_data...\n",
      "\u001b[0m\u001b[91m[nltk_data]    |   Unzipping corpora/udhr2.zip.\n",
      "\u001b[0m\u001b[91m[nltk_data]    | Downloading package unicode_samples to\n",
      "[nltk_data]    |     /root/nltk_data...\n",
      "\u001b[0m\u001b[91m[nltk_data]    |   Unzipping corpora/unicode_samples.zip.\n",
      "\u001b[0m\u001b[91m[nltk_data]    | Downloading package universal_tagset to\n",
      "[nltk_data]    |     /root/nltk_data...\n",
      "\u001b[0m\u001b[91m[nltk_data]    |   Unzipping taggers/universal_tagset.zip.\n",
      "\u001b[0m\u001b[91m[nltk_data]    | Downloading package universal_treebanks_v20 to\n",
      "[nltk_data]    |     /root/nltk_data...\n",
      "\u001b[0m\u001b[91m[nltk_data]    | Downloading package vader_lexicon to\n",
      "[nltk_data]    |     /root/nltk_data...\n",
      "\u001b[0m\u001b[91m[nltk_data]    | Downloading package verbnet to /root/nltk_data...\n",
      "\u001b[0m\u001b[91m[nltk_data]    |   Unzipping corpora/verbnet.zip.\n",
      "\u001b[0m\u001b[91m[nltk_data]    | Downloading package verbnet3 to /root/nltk_data...\n",
      "\u001b[0m\u001b[91m[nltk_data]    |   Unzipping corpora/verbnet3.zip.\n",
      "\u001b[0m\u001b[91m[nltk_data]    | Downloading package webtext to /root/nltk_data...\n",
      "\u001b[0m\u001b[91m[nltk_data]    |   Unzipping corpora/webtext.zip.\n",
      "\u001b[0m\u001b[91m[nltk_data]    | Downloading package wmt15_eval to /root/nltk_data...\n",
      "\u001b[0m\u001b[91m[nltk_data]    |   Unzipping models/wmt15_eval.zip.\n",
      "\u001b[0m\u001b[91m[nltk_data]    | Downloading package word2vec_sample to\n",
      "[nltk_data]    |     /root/nltk_data...\n",
      "\u001b[0m\u001b[91m[nltk_data]    |   Unzipping models/word2vec_sample.zip.\n",
      "\u001b[0m\u001b[91m[nltk_data]    | Downloading package wordnet to /root/nltk_data...\n",
      "\u001b[0m\u001b[91m[nltk_data]    | Downloading package wordnet2021 to /root/nltk_data...\n",
      "\u001b[0m\u001b[91m[nltk_data]    | Downloading package wordnet2022 to /root/nltk_data...\n",
      "\u001b[0m\u001b[91m[nltk_data]    |   Unzipping corpora/wordnet2022.zip.\n",
      "\u001b[0m\u001b[91m[nltk_data]    | Downloading package wordnet31 to /root/nltk_data...\n",
      "\u001b[0m\u001b[91m[nltk_data]    | Downloading package wordnet_ic to /root/nltk_data...\n",
      "\u001b[0m\u001b[91m[nltk_data]    |   Unzipping corpora/wordnet_ic.zip.\n",
      "\u001b[0m\u001b[91m[nltk_data]    | Downloading package words to /root/nltk_data...\n",
      "\u001b[0m\u001b[91m[nltk_data]    |   Unzipping corpora/words.zip.\n",
      "\u001b[0m\u001b[91m[nltk_data]    | Downloading package ycoe to /root/nltk_data...\n",
      "\u001b[0m\u001b[91m[nltk_data]    |   Unzipping corpora/ycoe.zip.\n",
      "\u001b[0m\u001b[91m[nltk_data]    | \n",
      "[nltk_data]  Done downloading collection all\n",
      "\u001b[0mRemoving intermediate container 9e109b753fa9\n",
      " ---> d0c5257d6cee\n",
      "Step 18/19 : RUN chmod 755 /opt/program\n",
      " ---> Running in 70d28dfe2fff\n",
      "Removing intermediate container 70d28dfe2fff\n",
      " ---> 7fdf064b4e79\n",
      "Step 19/19 : RUN chmod 755 /opt/program/serve\n",
      " ---> Running in eeb753208fff\n",
      "Removing intermediate container eeb753208fff\n",
      " ---> 4786c866a983\n",
      "Successfully built 4786c866a983\n",
      "Successfully tagged gpt-sovits-inference-v2:latest\n",
      "The push refers to repository [596899493901.dkr.ecr.us-east-1.amazonaws.com/gpt-sovits-inference-v2]\n",
      "\n",
      "\u001b[1Bae91bdba: Preparing \n",
      "\u001b[1B47aa77fc: Preparing \n",
      "\u001b[1B82406101: Preparing \n",
      "\u001b[1Bdc846da0: Preparing \n",
      "\u001b[1B8e187615: Preparing \n",
      "\u001b[1B8f3d4f5d: Preparing \n",
      "\u001b[1Be314d61e: Preparing \n",
      "\u001b[1Bfbb92cb8: Preparing \n",
      "\u001b[1B208003e2: Preparing \n",
      "\u001b[1Bc3abb7bc: Preparing \n",
      "\u001b[1B86f0d46c: Preparing \n",
      "\u001b[1B9cfd8b57: Preparing \n",
      "\u001b[1Bca569554: Preparing \n",
      "\u001b[1B23280269: Preparing \n",
      "\u001b[13B2406101: Pushed   6.835GB/6.806GB\u001b[11A\u001b[2K\u001b[13A\u001b[2K\u001b[13A\u001b[2K\u001b[12A\u001b[2K\u001b[13A\u001b[2K\u001b[10A\u001b[2K\u001b[13A\u001b[2K\u001b[10A\u001b[2K\u001b[13A\u001b[2K\u001b[10A\u001b[2K\u001b[8A\u001b[2K\u001b[13A\u001b[2K\u001b[8A\u001b[2K\u001b[10A\u001b[2K\u001b[8A\u001b[2K\u001b[9A\u001b[2K\u001b[8A\u001b[2K\u001b[9A\u001b[2K\u001b[8A\u001b[2K\u001b[10A\u001b[2K\u001b[8A\u001b[2K\u001b[9A\u001b[2K\u001b[8A\u001b[2K\u001b[13A\u001b[2K\u001b[8A\u001b[2K\u001b[13A\u001b[2K\u001b[8A\u001b[2K\u001b[13A\u001b[2K\u001b[10A\u001b[2K\u001b[8A\u001b[2K\u001b[9A\u001b[2K\u001b[8A\u001b[2K\u001b[10A\u001b[2K\u001b[8A\u001b[2K\u001b[11A\u001b[2K\u001b[9A\u001b[2K\u001b[11A\u001b[2K\u001b[8A\u001b[2K\u001b[13A\u001b[2K\u001b[8A\u001b[2K\u001b[8A\u001b[2K\u001b[11A\u001b[2K\u001b[8A\u001b[2K\u001b[9A\u001b[2K\u001b[8A\u001b[2K\u001b[9A\u001b[2K\u001b[13A\u001b[2K\u001b[8A\u001b[2K\u001b[9A\u001b[2K\u001b[8A\u001b[2K\u001b[9A\u001b[2K\u001b[8A\u001b[2K\u001b[11A\u001b[2K\u001b[13A\u001b[2K\u001b[8A\u001b[2K\u001b[13A\u001b[2K\u001b[8A\u001b[2K\u001b[13A\u001b[2K\u001b[5A\u001b[2K\u001b[13A\u001b[2K\u001b[3A\u001b[2K\u001b[2A\u001b[2K\u001b[1A\u001b[2K\u001b[13A\u001b[2K\u001b[8A\u001b[2K\u001b[11A\u001b[2K\u001b[9A\u001b[2K\u001b[11A\u001b[2K\u001b[9A\u001b[2K\u001b[8A\u001b[2K\u001b[9A\u001b[2K\u001b[8A\u001b[2K\u001b[9A\u001b[2K\u001b[9A\u001b[2K\u001b[11A\u001b[2K\u001b[9A\u001b[2K\u001b[8A\u001b[2K\u001b[9A\u001b[2K\u001b[8A\u001b[2K\u001b[11A\u001b[2K\u001b[8A\u001b[2K\u001b[11A\u001b[2K\u001b[8A\u001b[2K\u001b[9A\u001b[2K\u001b[8A\u001b[2K\u001b[8A\u001b[2K\u001b[9A\u001b[2K\u001b[11A\u001b[2K\u001b[9A\u001b[2K\u001b[11A\u001b[2K\u001b[8A\u001b[2K\u001b[13A\u001b[2K\u001b[11A\u001b[2K\u001b[13A\u001b[2K\u001b[8A\u001b[2K\u001b[13A\u001b[2K\u001b[8A\u001b[2K\u001b[13A\u001b[2K\u001b[11A\u001b[2K\u001b[13A\u001b[2K\u001b[11A\u001b[2K\u001b[13A\u001b[2K\u001b[11A\u001b[2K\u001b[13A\u001b[2K\u001b[8A\u001b[2K\u001b[13A\u001b[2K\u001b[8A\u001b[2K\u001b[13A\u001b[2K\u001b[8A\u001b[2K\u001b[11A\u001b[2K\u001b[8A\u001b[2K\u001b[11A\u001b[2K\u001b[11A\u001b[2K\u001b[13A\u001b[2K\u001b[9A\u001b[2K\u001b[11A\u001b[2K\u001b[11A\u001b[2K\u001b[8A\u001b[2K\u001b[11A\u001b[2K\u001b[11A\u001b[2K\u001b[13A\u001b[2K\u001b[11A\u001b[2K\u001b[9A\u001b[2K\u001b[9A\u001b[2K\u001b[11A\u001b[2K\u001b[11A\u001b[2K\u001b[13A\u001b[2K\u001b[9A\u001b[2K\u001b[13A\u001b[2K\u001b[9A\u001b[2K\u001b[13A\u001b[2K\u001b[9A\u001b[2K\u001b[11A\u001b[2K\u001b[9A\u001b[2K\u001b[11A\u001b[2K\u001b[13A\u001b[2K\u001b[11A\u001b[2K\u001b[13A\u001b[2K\u001b[9A\u001b[2K\u001b[13A\u001b[2K\u001b[9A\u001b[2K\u001b[11A\u001b[2K\u001b[9A\u001b[2K\u001b[11A\u001b[2K\u001b[13A\u001b[2K\u001b[11A\u001b[2K\u001b[13A\u001b[2K\u001b[11A\u001b[2K\u001b[13A\u001b[2K\u001b[11A\u001b[2K\u001b[11A\u001b[2K\u001b[9A\u001b[2K\u001b[11A\u001b[2K\u001b[9A\u001b[2K\u001b[11A\u001b[2K\u001b[9A\u001b[2K\u001b[11A\u001b[2K\u001b[11A\u001b[2K\u001b[13A\u001b[2K\u001b[11A\u001b[2K\u001b[13A\u001b[2K\u001b[11A\u001b[2K\u001b[13A\u001b[2K\u001b[9A\u001b[2K\u001b[11A\u001b[2K\u001b[9A\u001b[2K\u001b[9A\u001b[2K\u001b[13A\u001b[2K\u001b[9A\u001b[2K\u001b[13A\u001b[2K\u001b[9A\u001b[2K\u001b[11A\u001b[2K\u001b[9A\u001b[2K\u001b[9A\u001b[2K\u001b[13A\u001b[2K\u001b[9A\u001b[2KPushing  260.3MB/2.331GB\u001b[11A\u001b[2K\u001b[9A\u001b[2K\u001b[11A\u001b[2K\u001b[11A\u001b[2K\u001b[13A\u001b[2K\u001b[11A\u001b[2K\u001b[13A\u001b[2K\u001b[11A\u001b[2K\u001b[9A\u001b[2K\u001b[11A\u001b[2K\u001b[9A\u001b[2K\u001b[13A\u001b[2K\u001b[9A\u001b[2K\u001b[11A\u001b[2K\u001b[9A\u001b[2K\u001b[11A\u001b[2K\u001b[9A\u001b[2K\u001b[13A\u001b[2K\u001b[9A\u001b[2K\u001b[13A\u001b[2K\u001b[11A\u001b[2K\u001b[13A\u001b[2KPushing  311.5MB/2.331GB\u001b[9A\u001b[2K\u001b[11A\u001b[2K\u001b[9A\u001b[2K\u001b[11A\u001b[2K\u001b[9A\u001b[2K\u001b[11A\u001b[2K\u001b[9A\u001b[2K\u001b[9A\u001b[2K\u001b[13A\u001b[2K\u001b[9A\u001b[2K\u001b[13A\u001b[2K\u001b[9A\u001b[2K\u001b[13A\u001b[2K\u001b[11A\u001b[2K\u001b[13A\u001b[2K\u001b[11A\u001b[2K\u001b[9A\u001b[2K\u001b[13A\u001b[2K\u001b[11A\u001b[2K\u001b[13A\u001b[2K\u001b[11A\u001b[2K\u001b[13A\u001b[2K\u001b[11A\u001b[2K\u001b[13A\u001b[2K\u001b[11A\u001b[2K\u001b[9A\u001b[2K\u001b[11A\u001b[2K\u001b[9A\u001b[2K\u001b[13A\u001b[2K\u001b[9A\u001b[2K\u001b[13A\u001b[2K\u001b[9A\u001b[2K\u001b[13A\u001b[2K\u001b[9A\u001b[2K\u001b[11A\u001b[2K\u001b[9A\u001b[2K\u001b[13A\u001b[2K\u001b[9A\u001b[2K\u001b[13A\u001b[2K\u001b[9A\u001b[2K\u001b[13A\u001b[2K\u001b[9A\u001b[2K\u001b[11A\u001b[2K\u001b[9A\u001b[2K\u001b[11A\u001b[2K\u001b[13A\u001b[2K\u001b[11A\u001b[2K\u001b[13A\u001b[2K\u001b[11A\u001b[2K\u001b[13A\u001b[2K\u001b[9A\u001b[2K\u001b[13A\u001b[2K\u001b[13A\u001b[2K\u001b[13A\u001b[2K\u001b[11A\u001b[2K\u001b[9A\u001b[2K\u001b[13A\u001b[2K\u001b[9A\u001b[2K\u001b[9A\u001b[2K\u001b[9A\u001b[2K\u001b[9A\u001b[2K\u001b[13A\u001b[2K\u001b[11A\u001b[2K\u001b[13A\u001b[2K\u001b[11A\u001b[2K\u001b[13A\u001b[2K\u001b[9A\u001b[2K\u001b[9A\u001b[2K\u001b[13A\u001b[2K\u001b[9A\u001b[2K\u001b[13A\u001b[2K\u001b[11A\u001b[2K\u001b[13A\u001b[2K\u001b[11A\u001b[2K\u001b[13A\u001b[2K\u001b[11A\u001b[2K\u001b[13A\u001b[2K\u001b[11A\u001b[2K\u001b[13A\u001b[2K\u001b[11A\u001b[2K\u001b[13A\u001b[2K\u001b[11A\u001b[2K\u001b[13A\u001b[2K\u001b[13A\u001b[2K\u001b[9A\u001b[2K\u001b[11A\u001b[2K\u001b[9A\u001b[2K\u001b[11A\u001b[2K\u001b[9A\u001b[2K\u001b[11A\u001b[2K\u001b[13A\u001b[2K\u001b[11A\u001b[2K\u001b[13A\u001b[2K\u001b[11A\u001b[2K\u001b[13A\u001b[2K\u001b[11A\u001b[2K\u001b[11A\u001b[2K\u001b[13A\u001b[2K\u001b[9A\u001b[2K\u001b[13A\u001b[2K\u001b[11A\u001b[2K\u001b[13A\u001b[2K\u001b[11A\u001b[2K\u001b[13A\u001b[2K\u001b[13A\u001b[2K\u001b[13A\u001b[2K\u001b[11A\u001b[2K\u001b[13A\u001b[2K\u001b[11A\u001b[2K\u001b[13A\u001b[2K\u001b[11A\u001b[2K\u001b[13A\u001b[2K\u001b[11A\u001b[2K\u001b[11A\u001b[2K\u001b[11A\u001b[2K\u001b[13A\u001b[2K\u001b[11A\u001b[2K\u001b[13A\u001b[2K\u001b[11A\u001b[2K\u001b[13A\u001b[2K\u001b[11A\u001b[2K\u001b[11A\u001b[2K\u001b[13A\u001b[2K\u001b[11A\u001b[2K\u001b[11A\u001b[2K\u001b[11A\u001b[2K\u001b[11A\u001b[2K\u001b[11A\u001b[2K\u001b[11A\u001b[2K\u001b[11A\u001b[2K\u001b[11A\u001b[2K\u001b[11A\u001b[2K\u001b[11A\u001b[2K\u001b[11A\u001b[2K\u001b[11A\u001b[2K\u001b[11A\u001b[2K\u001b[11A\u001b[2K\u001b[11A\u001b[2K\u001b[11A\u001b[2K\u001b[11A\u001b[2K\u001b[11A\u001b[2K\u001b[11A\u001b[2K\u001b[11A\u001b[2K\u001b[11A\u001b[2K\u001b[11A\u001b[2K\u001b[11A\u001b[2K\u001b[11A\u001b[2K\u001b[11A\u001b[2K\u001b[11A\u001b[2K\u001b[11A\u001b[2K\u001b[11A\u001b[2K\u001b[11A\u001b[2K\u001b[11A\u001b[2K\u001b[11A\u001b[2K\u001b[11A\u001b[2K\u001b[11A\u001b[2K\u001b[11A\u001b[2K\u001b[11A\u001b[2K\u001b[11A\u001b[2K\u001b[11A\u001b[2K\u001b[11A\u001b[2K\u001b[11A\u001b[2K\u001b[13A\u001b[2K\u001b[13A\u001b[2K\u001b[11A\u001b[2K\u001b[13A\u001b[2K\u001b[11A\u001b[2K\u001b[13A\u001b[2K\u001b[11A\u001b[2K\u001b[13A\u001b[2K\u001b[11A\u001b[2K\u001b[13A\u001b[2K\u001b[11A\u001b[2K\u001b[11A\u001b[2K\u001b[11A\u001b[2K\u001b[13A\u001b[2K\u001b[11A\u001b[2K\u001b[11A\u001b[2K\u001b[13A\u001b[2K\u001b[13A\u001b[2K\u001b[13A\u001b[2K\u001b[11A\u001b[2K\u001b[13A\u001b[2K\u001b[13A\u001b[2K\u001b[13A\u001b[2K\u001b[11A\u001b[2K\u001b[13A\u001b[2K\u001b[11A\u001b[2K\u001b[13A\u001b[2K\u001b[11A\u001b[2K\u001b[11A\u001b[2K\u001b[13A\u001b[2K\u001b[11A\u001b[2K\u001b[13A\u001b[2K\u001b[11A\u001b[2K\u001b[13A\u001b[2K\u001b[11A\u001b[2K\u001b[13A\u001b[2K\u001b[13A\u001b[2K\u001b[13A\u001b[2K\u001b[13A\u001b[2K\u001b[13A\u001b[2K\u001b[11A\u001b[2K\u001b[13A\u001b[2K\u001b[13A\u001b[2K\u001b[13A\u001b[2K\u001b[11A\u001b[2K\u001b[13A\u001b[2K\u001b[11A\u001b[2K\u001b[13A\u001b[2K\u001b[11A\u001b[2K\u001b[13A\u001b[2K\u001b[11A\u001b[2K\u001b[13A\u001b[2K\u001b[11A\u001b[2K\u001b[11A\u001b[2K\u001b[11A\u001b[2K\u001b[11A\u001b[2K\u001b[13A\u001b[2K\u001b[11A\u001b[2K\u001b[13A\u001b[2K\u001b[11A\u001b[2K\u001b[13A\u001b[2K\u001b[11A\u001b[2K\u001b[11A\u001b[2K\u001b[13A\u001b[2K\u001b[13A\u001b[2K\u001b[13A\u001b[2K\u001b[13A\u001b[2K\u001b[13A\u001b[2K\u001b[13A\u001b[2K\u001b[11A\u001b[2K\u001b[13A\u001b[2K\u001b[11A\u001b[2K\u001b[13A\u001b[2K\u001b[11A\u001b[2K\u001b[13A\u001b[2K\u001b[11A\u001b[2K\u001b[11A\u001b[2K\u001b[13A\u001b[2K\u001b[11A\u001b[2K\u001b[13A\u001b[2K\u001b[11A\u001b[2K\u001b[13A\u001b[2K\u001b[13A\u001b[2K\u001b[13A\u001b[2K\u001b[13A\u001b[2K\u001b[13A\u001b[2K\u001b[13A\u001b[2K\u001b[11A\u001b[2K\u001b[13A\u001b[2K\u001b[11A\u001b[2K\u001b[13A\u001b[2K\u001b[13A\u001b[2K\u001b[11A\u001b[2K\u001b[13A\u001b[2K\u001b[11A\u001b[2K\u001b[13A\u001b[2K\u001b[11A\u001b[2K\u001b[13A\u001b[2K\u001b[11A\u001b[2K\u001b[13A\u001b[2K\u001b[11A\u001b[2K\u001b[13A\u001b[2K\u001b[11A\u001b[2K\u001b[13A\u001b[2K\u001b[11A\u001b[2K\u001b[13A\u001b[2K\u001b[11A\u001b[2K\u001b[13A\u001b[2K\u001b[11A\u001b[2K\u001b[13A\u001b[2K\u001b[11A\u001b[2K\u001b[13A\u001b[2K\u001b[11A\u001b[2K\u001b[13A\u001b[2K\u001b[11A\u001b[2K\u001b[13A\u001b[2K\u001b[11A\u001b[2K\u001b[13A\u001b[2K\u001b[11A\u001b[2K\u001b[13A\u001b[2K\u001b[11A\u001b[2K\u001b[13A\u001b[2K\u001b[11A\u001b[2K\u001b[13A\u001b[2K\u001b[11A\u001b[2K\u001b[13A\u001b[2K\u001b[11A\u001b[2K\u001b[13A\u001b[2K\u001b[11A\u001b[2K\u001b[13A\u001b[2K\u001b[11A\u001b[2K\u001b[13A\u001b[2K\u001b[11A\u001b[2K\u001b[13A\u001b[2K\u001b[11A\u001b[2K\u001b[13A\u001b[2K\u001b[11A\u001b[2K\u001b[13A\u001b[2K\u001b[11A\u001b[2K\u001b[13A\u001b[2K\u001b[11A\u001b[2K\u001b[13A\u001b[2K\u001b[11A\u001b[2K\u001b[11A\u001b[2K\u001b[13A\u001b[2K\u001b[11A\u001b[2K\u001b[11A\u001b[2K\u001b[11A\u001b[2K\u001b[11A\u001b[2K\u001b[11A\u001b[2K\u001b[13A\u001b[2K\u001b[11A\u001b[2K\u001b[13A\u001b[2K\u001b[11A\u001b[2K\u001b[13A\u001b[2K\u001b[13A\u001b[2K\u001b[11A\u001b[2K\u001b[13A\u001b[2K\u001b[11A\u001b[2K\u001b[13A\u001b[2K\u001b[11A\u001b[2K\u001b[13A\u001b[2K\u001b[11A\u001b[2K\u001b[13A\u001b[2K\u001b[11A\u001b[2K\u001b[13A\u001b[2K\u001b[13A\u001b[2K\u001b[11A\u001b[2K\u001b[13A\u001b[2K\u001b[11A\u001b[2K\u001b[13A\u001b[2K\u001b[11A\u001b[2K\u001b[13A\u001b[2K\u001b[11A\u001b[2K\u001b[13A\u001b[2K\u001b[11A\u001b[2K\u001b[13A\u001b[2K\u001b[11A\u001b[2K\u001b[13A\u001b[2K\u001b[11A\u001b[2K\u001b[13A\u001b[2K\u001b[11A\u001b[2K\u001b[13A\u001b[2K\u001b[11A\u001b[2K\u001b[13A\u001b[2K\u001b[11A\u001b[2K\u001b[13A\u001b[2K\u001b[11A\u001b[2K\u001b[13A\u001b[2K\u001b[11A\u001b[2K\u001b[13A\u001b[2K\u001b[11A\u001b[2K\u001b[13A\u001b[2K\u001b[11A\u001b[2K\u001b[13A\u001b[2K\u001b[11A\u001b[2K\u001b[13A\u001b[2K\u001b[11A\u001b[2K\u001b[13A\u001b[2K\u001b[11A\u001b[2K\u001b[13A\u001b[2K\u001b[11A\u001b[2K\u001b[11A\u001b[2K\u001b[11A\u001b[2K\u001b[11A\u001b[2K\u001b[11A\u001b[2K\u001b[13A\u001b[2K\u001b[13A\u001b[2K\u001b[11A\u001b[2K\u001b[13A\u001b[2K\u001b[11A\u001b[2K\u001b[13A\u001b[2K\u001b[11A\u001b[2K\u001b[13A\u001b[2K\u001b[13A\u001b[2K\u001b[11A\u001b[2K\u001b[13A\u001b[2K\u001b[11A\u001b[2K\u001b[13A\u001b[2K\u001b[11A\u001b[2K\u001b[13A\u001b[2K\u001b[11A\u001b[2K\u001b[11A\u001b[2K\u001b[11A\u001b[2K\u001b[13A\u001b[2K\u001b[11A\u001b[2K\u001b[13A\u001b[2K\u001b[11A\u001b[2K\u001b[13A\u001b[2K\u001b[11A\u001b[2K\u001b[11A\u001b[2K\u001b[11A\u001b[2K\u001b[11A\u001b[2K\u001b[13A\u001b[2K\u001b[11A\u001b[2K\u001b[13A\u001b[2K\u001b[11A\u001b[2K\u001b[13A\u001b[2K\u001b[11A\u001b[2K\u001b[13A\u001b[2K\u001b[11A\u001b[2K\u001b[13A\u001b[2K\u001b[11A\u001b[2K\u001b[13A\u001b[2K\u001b[11A\u001b[2K\u001b[13A\u001b[2K\u001b[11A\u001b[2K\u001b[13A\u001b[2K\u001b[11A\u001b[2K\u001b[13A\u001b[2K\u001b[11A\u001b[2K\u001b[13A\u001b[2K\u001b[11A\u001b[2K\u001b[13A\u001b[2K\u001b[11A\u001b[2K\u001b[13A\u001b[2K\u001b[13A\u001b[2K\u001b[13A\u001b[2K\u001b[11A\u001b[2K\u001b[13A\u001b[2K\u001b[11A\u001b[2K\u001b[13A\u001b[2K\u001b[11A\u001b[2K\u001b[13A\u001b[2K\u001b[13A\u001b[2K\u001b[13A\u001b[2K\u001b[13A\u001b[2K\u001b[11A\u001b[2K\u001b[13A\u001b[2K\u001b[11A\u001b[2K\u001b[13A\u001b[2K\u001b[13A\u001b[2K\u001b[11A\u001b[2K\u001b[11A\u001b[2K\u001b[11A\u001b[2K\u001b[11A\u001b[2K\u001b[11A\u001b[2K\u001b[11A\u001b[2K\u001b[13A\u001b[2K\u001b[11A\u001b[2K\u001b[13A\u001b[2K\u001b[11A\u001b[2K\u001b[13A\u001b[2K\u001b[13A\u001b[2K\u001b[13A\u001b[2K\u001b[13A\u001b[2K\u001b[13A\u001b[2K\u001b[11A\u001b[2K\u001b[13A\u001b[2K\u001b[11A\u001b[2K\u001b[13A\u001b[2K\u001b[13A\u001b[2K\u001b[13A\u001b[2K\u001b[13A\u001b[2K\u001b[13A\u001b[2K\u001b[11A\u001b[2K\u001b[13A\u001b[2K\u001b[11A\u001b[2K\u001b[13A\u001b[2K\u001b[11A\u001b[2K\u001b[13A\u001b[2K\u001b[11A\u001b[2K\u001b[13A\u001b[2K\u001b[11A\u001b[2K\u001b[13A\u001b[2K\u001b[11A\u001b[2K\u001b[11A\u001b[2K\u001b[11A\u001b[2K\u001b[13A\u001b[2K\u001b[13A\u001b[2KPushing  1.205GB/2.331GB\u001b[13A\u001b[2K\u001b[11A\u001b[2K\u001b[13A\u001b[2K\u001b[13A\u001b[2K\u001b[11A\u001b[2K\u001b[11A\u001b[2K\u001b[13A\u001b[2K\u001b[13A\u001b[2K\u001b[13A\u001b[2K\u001b[11A\u001b[2K\u001b[13A\u001b[2K\u001b[11A\u001b[2K\u001b[13A\u001b[2K\u001b[11A\u001b[2K\u001b[13A\u001b[2K\u001b[11A\u001b[2K\u001b[13A\u001b[2K\u001b[13A\u001b[2K\u001b[11A\u001b[2K\u001b[13A\u001b[2K\u001b[11A\u001b[2K\u001b[13A\u001b[2K\u001b[11A\u001b[2K\u001b[13A\u001b[2K\u001b[11A\u001b[2K\u001b[13A\u001b[2K\u001b[11A\u001b[2K\u001b[11A\u001b[2K\u001b[11A\u001b[2K\u001b[11A\u001b[2K\u001b[11A\u001b[2K\u001b[11A\u001b[2K\u001b[13A\u001b[2K\u001b[11A\u001b[2K\u001b[13A\u001b[2K\u001b[11A\u001b[2K\u001b[13A\u001b[2K\u001b[13A\u001b[2K\u001b[13A\u001b[2K\u001b[11A\u001b[2K\u001b[11A\u001b[2K\u001b[13A\u001b[2K\u001b[11A\u001b[2K\u001b[13A\u001b[2K\u001b[11A\u001b[2K\u001b[13A\u001b[2K\u001b[11A\u001b[2K\u001b[13A\u001b[2K\u001b[13A\u001b[2K\u001b[11A\u001b[2K\u001b[13A\u001b[2K\u001b[11A\u001b[2K\u001b[13A\u001b[2K\u001b[11A\u001b[2K\u001b[13A\u001b[2K\u001b[11A\u001b[2K\u001b[13A\u001b[2K\u001b[11A\u001b[2K\u001b[13A\u001b[2K\u001b[11A\u001b[2K\u001b[13A\u001b[2K\u001b[11A\u001b[2K\u001b[13A\u001b[2K\u001b[11A\u001b[2K\u001b[13A\u001b[2K\u001b[11A\u001b[2K\u001b[13A\u001b[2K\u001b[11A\u001b[2K\u001b[13A\u001b[2K\u001b[13A\u001b[2K\u001b[13A\u001b[2K\u001b[13A\u001b[2K\u001b[11A\u001b[2K\u001b[13A\u001b[2K\u001b[11A\u001b[2K\u001b[13A\u001b[2K\u001b[11A\u001b[2K\u001b[13A\u001b[2K\u001b[11A\u001b[2K\u001b[13A\u001b[2K\u001b[13A\u001b[2K\u001b[13A\u001b[2K\u001b[13A\u001b[2K\u001b[11A\u001b[2K\u001b[11A\u001b[2K\u001b[11A\u001b[2K\u001b[11A\u001b[2K\u001b[11A\u001b[2K\u001b[11A\u001b[2K\u001b[13A\u001b[2K\u001b[11A\u001b[2K\u001b[13A\u001b[2K\u001b[11A\u001b[2K\u001b[13A\u001b[2K\u001b[11A\u001b[2K\u001b[13A\u001b[2K\u001b[11A\u001b[2K\u001b[13A\u001b[2K\u001b[13A\u001b[2K\u001b[13A\u001b[2K\u001b[13A\u001b[2K\u001b[13A\u001b[2K\u001b[11A\u001b[2K\u001b[13A\u001b[2K\u001b[11A\u001b[2K\u001b[13A\u001b[2K\u001b[11A\u001b[2K\u001b[13A\u001b[2K\u001b[11A\u001b[2K\u001b[13A\u001b[2K\u001b[11A\u001b[2K\u001b[13A\u001b[2K\u001b[11A\u001b[2K\u001b[13A\u001b[2K\u001b[13A\u001b[2K\u001b[13A\u001b[2K\u001b[11A\u001b[2K\u001b[13A\u001b[2K\u001b[11A\u001b[2K\u001b[13A\u001b[2K\u001b[11A\u001b[2K\u001b[13A\u001b[2K\u001b[11A\u001b[2K\u001b[11A\u001b[2K\u001b[13A\u001b[2K\u001b[11A\u001b[2K\u001b[13A\u001b[2K\u001b[11A\u001b[2K\u001b[13A\u001b[2K\u001b[11A\u001b[2K\u001b[13A\u001b[2K\u001b[11A\u001b[2K\u001b[13A\u001b[2K\u001b[11A\u001b[2K\u001b[13A\u001b[2K\u001b[11A\u001b[2K\u001b[13A\u001b[2K\u001b[11A\u001b[2K\u001b[13A\u001b[2K\u001b[11A\u001b[2K\u001b[13A\u001b[2K\u001b[11A\u001b[2K\u001b[11A\u001b[2K\u001b[13A\u001b[2K\u001b[11A\u001b[2K\u001b[13A\u001b[2K\u001b[11A\u001b[2K\u001b[13A\u001b[2K\u001b[11A\u001b[2K\u001b[11A\u001b[2K\u001b[13A\u001b[2K\u001b[11A\u001b[2K\u001b[11A\u001b[2K\u001b[11A\u001b[2K\u001b[13A\u001b[2K\u001b[11A\u001b[2K\u001b[13A\u001b[2K\u001b[11A\u001b[2K\u001b[13A\u001b[2K\u001b[11A\u001b[2K\u001b[13A\u001b[2K\u001b[11A\u001b[2K\u001b[13A\u001b[2K\u001b[13A\u001b[2K\u001b[13A\u001b[2K\u001b[13A\u001b[2K\u001b[13A\u001b[2K\u001b[11A\u001b[2K\u001b[13A\u001b[2K\u001b[11A\u001b[2K\u001b[11A\u001b[2K\u001b[11A\u001b[2K\u001b[13A\u001b[2K\u001b[11A\u001b[2K\u001b[13A\u001b[2K\u001b[11A\u001b[2K\u001b[13A\u001b[2K\u001b[11A\u001b[2K\u001b[13A\u001b[2K\u001b[11A\u001b[2K\u001b[13A\u001b[2K\u001b[11A\u001b[2K\u001b[13A\u001b[2K\u001b[11A\u001b[2K\u001b[13A\u001b[2K\u001b[11A\u001b[2K\u001b[13A\u001b[2K\u001b[11A\u001b[2K\u001b[13A\u001b[2K\u001b[11A\u001b[2K\u001b[13A\u001b[2K\u001b[11A\u001b[2K\u001b[13A\u001b[2K\u001b[11A\u001b[2K\u001b[13A\u001b[2K\u001b[13A\u001b[2K\u001b[13A\u001b[2K\u001b[13A\u001b[2K\u001b[13A\u001b[2K\u001b[11A\u001b[2K\u001b[11A\u001b[2K\u001b[11A\u001b[2K\u001b[11A\u001b[2K\u001b[13A\u001b[2K\u001b[11A\u001b[2K\u001b[11A\u001b[2K\u001b[11A\u001b[2K\u001b[13A\u001b[2K\u001b[11A\u001b[2K\u001b[13A\u001b[2K\u001b[11A\u001b[2K\u001b[11A\u001b[2K\u001b[11A\u001b[2K\u001b[11A\u001b[2K\u001b[11A\u001b[2K\u001b[11A\u001b[2K\u001b[11A\u001b[2K\u001b[13A\u001b[2K\u001b[11A\u001b[2K\u001b[13A\u001b[2K\u001b[11A\u001b[2K\u001b[13A\u001b[2K\u001b[11A\u001b[2K\u001b[13A\u001b[2K\u001b[13A\u001b[2K\u001b[13A\u001b[2K\u001b[13A\u001b[2K\u001b[13A\u001b[2K\u001b[13A\u001b[2K\u001b[11A\u001b[2K\u001b[13A\u001b[2K\u001b[11A\u001b[2K\u001b[13A\u001b[2K\u001b[11A\u001b[2K\u001b[13A\u001b[2K\u001b[13A\u001b[2K\u001b[13A\u001b[2K\u001b[13A\u001b[2K\u001b[11A\u001b[2K\u001b[13A\u001b[2K\u001b[11A\u001b[2K\u001b[13A\u001b[2K\u001b[11A\u001b[2K\u001b[13A\u001b[2K\u001b[11A\u001b[2K\u001b[13A\u001b[2K\u001b[11A\u001b[2K\u001b[13A\u001b[2K\u001b[11A\u001b[2K\u001b[11A\u001b[2K\u001b[11A\u001b[2K\u001b[11A\u001b[2K\u001b[11A\u001b[2K\u001b[11A\u001b[2K\u001b[11A\u001b[2K\u001b[13A\u001b[2KPushing   1.76GB/2.331GB\u001b[13A\u001b[2K\u001b[11A\u001b[2K\u001b[11A\u001b[2K\u001b[11A\u001b[2K\u001b[11A\u001b[2K\u001b[11A\u001b[2K\u001b[11A\u001b[2K\u001b[11A\u001b[2K\u001b[11A\u001b[2K\u001b[11A\u001b[2K\u001b[13A\u001b[2K\u001b[11A\u001b[2K\u001b[11A\u001b[2K\u001b[11A\u001b[2K\u001b[13A\u001b[2K\u001b[13A\u001b[2K\u001b[11A\u001b[2K\u001b[13A\u001b[2K\u001b[11A\u001b[2K\u001b[13A\u001b[2K\u001b[11A\u001b[2K\u001b[13A\u001b[2K\u001b[11A\u001b[2K\u001b[11A\u001b[2K\u001b[11A\u001b[2K\u001b[13A\u001b[2K\u001b[11A\u001b[2K\u001b[13A\u001b[2K\u001b[11A\u001b[2K\u001b[13A\u001b[2K\u001b[11A\u001b[2K\u001b[13A\u001b[2K\u001b[13A\u001b[2K\u001b[13A\u001b[2K\u001b[11A\u001b[2K\u001b[13A\u001b[2K\u001b[11A\u001b[2K\u001b[13A\u001b[2K\u001b[11A\u001b[2K\u001b[13A\u001b[2K\u001b[11A\u001b[2K\u001b[13A\u001b[2K\u001b[11A\u001b[2K\u001b[11A\u001b[2K\u001b[11A\u001b[2K\u001b[11A\u001b[2K\u001b[13A\u001b[2K\u001b[11A\u001b[2K\u001b[13A\u001b[2K\u001b[11A\u001b[2K\u001b[13A\u001b[2K\u001b[13A\u001b[2K\u001b[13A\u001b[2K\u001b[13A\u001b[2K\u001b[11A\u001b[2K\u001b[13A\u001b[2K\u001b[11A\u001b[2K\u001b[13A\u001b[2K\u001b[11A\u001b[2K\u001b[13A\u001b[2K\u001b[11A\u001b[2K\u001b[13A\u001b[2K\u001b[11A\u001b[2K\u001b[11A\u001b[2K\u001b[11A\u001b[2K\u001b[13A\u001b[2K\u001b[13A\u001b[2K\u001b[13A\u001b[2K\u001b[13A\u001b[2K\u001b[13A\u001b[2K\u001b[11A\u001b[2K\u001b[13A\u001b[2K\u001b[11A\u001b[2K\u001b[13A\u001b[2K\u001b[11A\u001b[2K\u001b[13A\u001b[2K\u001b[11A\u001b[2K\u001b[13A\u001b[2K\u001b[11A\u001b[2K\u001b[11A\u001b[2K\u001b[11A\u001b[2K\u001b[13A\u001b[2K\u001b[13A\u001b[2K\u001b[13A\u001b[2K\u001b[13A\u001b[2K\u001b[13A\u001b[2K\u001b[11A\u001b[2K\u001b[13A\u001b[2K\u001b[11A\u001b[2K\u001b[13A\u001b[2K\u001b[11A\u001b[2K\u001b[13A\u001b[2K\u001b[11A\u001b[2K\u001b[13A\u001b[2K\u001b[11A\u001b[2K\u001b[13A\u001b[2K\u001b[11A\u001b[2K\u001b[11A\u001b[2K\u001b[11A\u001b[2K\u001b[13A\u001b[2K\u001b[13A\u001b[2K\u001b[11A\u001b[2K\u001b[13A\u001b[2K\u001b[11A\u001b[2K\u001b[13A\u001b[2K\u001b[13A\u001b[2K\u001b[13A\u001b[2K\u001b[13A\u001b[2K\u001b[11A\u001b[2K\u001b[13A\u001b[2K\u001b[11A\u001b[2K\u001b[13A\u001b[2K\u001b[11A\u001b[2K\u001b[13A\u001b[2K\u001b[11A\u001b[2K\u001b[13A\u001b[2K\u001b[11A\u001b[2K\u001b[13A\u001b[2K\u001b[13A\u001b[2K\u001b[13A\u001b[2K\u001b[13A\u001b[2K\u001b[11A\u001b[2K\u001b[13A\u001b[2K\u001b[11A\u001b[2K\u001b[13A\u001b[2K\u001b[11A\u001b[2K\u001b[13A\u001b[2K\u001b[11A\u001b[2K\u001b[13A\u001b[2K\u001b[11A\u001b[2K\u001b[11A\u001b[2K\u001b[13A\u001b[2K\u001b[11A\u001b[2K\u001b[13A\u001b[2K\u001b[11A\u001b[2K\u001b[13A\u001b[2K\u001b[11A\u001b[2K\u001b[13A\u001b[2K\u001b[11A\u001b[2K\u001b[11A\u001b[2K\u001b[11A\u001b[2K\u001b[11A\u001b[2K\u001b[11A\u001b[2K\u001b[11A\u001b[2K\u001b[13A\u001b[2K\u001b[13A\u001b[2K\u001b[13A\u001b[2K\u001b[13A\u001b[2K\u001b[13A\u001b[2K\u001b[13A\u001b[2K\u001b[13A\u001b[2K\u001b[11A\u001b[2K\u001b[13A\u001b[2K\u001b[11A\u001b[2K\u001b[13A\u001b[2K\u001b[11A\u001b[2K\u001b[13A\u001b[2K\u001b[11A\u001b[2K\u001b[13A\u001b[2K\u001b[11A\u001b[2K\u001b[11A\u001b[2K\u001b[11A\u001b[2K\u001b[13A\u001b[2K\u001b[11A\u001b[2K\u001b[13A\u001b[2K\u001b[13A\u001b[2K\u001b[13A\u001b[2K\u001b[13A\u001b[2K\u001b[13A\u001b[2K\u001b[13A\u001b[2K\u001b[13A\u001b[2K\u001b[11A\u001b[2K\u001b[13A\u001b[2K\u001b[11A\u001b[2K\u001b[13A\u001b[2K\u001b[11A\u001b[2K\u001b[13A\u001b[2K\u001b[11A\u001b[2K\u001b[11A\u001b[2K\u001b[11A\u001b[2K\u001b[11A\u001b[2K\u001b[13A\u001b[2K\u001b[11A\u001b[2K\u001b[13A\u001b[2K\u001b[11A\u001b[2K\u001b[13A\u001b[2K\u001b[11A\u001b[2K\u001b[13A\u001b[2K\u001b[11A\u001b[2K\u001b[13A\u001b[2K\u001b[11A\u001b[2K\u001b[11A\u001b[2K\u001b[11A\u001b[2K\u001b[11A\u001b[2K\u001b[13A\u001b[2K\u001b[13A\u001b[2K\u001b[11A\u001b[2K\u001b[13A\u001b[2K\u001b[11A\u001b[2K\u001b[13A\u001b[2K\u001b[11A\u001b[2K\u001b[13A\u001b[2K\u001b[11A\u001b[2K\u001b[13A\u001b[2K\u001b[11A\u001b[2K\u001b[13A\u001b[2K\u001b[13A\u001b[2K\u001b[11A\u001b[2K\u001b[13A\u001b[2K\u001b[11A\u001b[2K\u001b[13A\u001b[2K\u001b[11A\u001b[2K\u001b[13A\u001b[2K\u001b[11A\u001b[2K\u001b[13A\u001b[2K\u001b[11A\u001b[2K\u001b[11A\u001b[2K\u001b[11A\u001b[2K\u001b[11A\u001b[2K\u001b[11A\u001b[2K\u001b[11A\u001b[2K\u001b[13A\u001b[2K\u001b[11A\u001b[2K\u001b[13A\u001b[2K\u001b[11A\u001b[2K\u001b[13A\u001b[2K\u001b[11A\u001b[2K\u001b[11A\u001b[2K\u001b[11A\u001b[2K\u001b[13A\u001b[2K\u001b[13A\u001b[2K\u001b[11A\u001b[2K\u001b[13A\u001b[2K\u001b[13A\u001b[2K\u001b[13A\u001b[2K\u001b[13A\u001b[2K\u001b[13A\u001b[2K\u001b[11A\u001b[2K\u001b[13A\u001b[2K\u001b[11A\u001b[2K\u001b[13A\u001b[2K\u001b[11A\u001b[2K\u001b[13A\u001b[2K\u001b[11A\u001b[2K\u001b[13A\u001b[2K\u001b[11A\u001b[2K\u001b[13A\u001b[2K\u001b[11A\u001b[2K\u001b[13A\u001b[2K\u001b[11A\u001b[2K\u001b[11A\u001b[2K\u001b[11A\u001b[2K\u001b[11A\u001b[2K\u001b[11A\u001b[2K\u001b[13A\u001b[2K\u001b[11A\u001b[2K\u001b[13A\u001b[2K\u001b[13A\u001b[2K\u001b[13A\u001b[2K\u001b[13A\u001b[2K\u001b[13A\u001b[2K\u001b[13A\u001b[2K\u001b[13A\u001b[2K\u001b[11A\u001b[2K\u001b[13A\u001b[2K\u001b[11A\u001b[2K\u001b[13A\u001b[2K\u001b[11A\u001b[2K\u001b[13A\u001b[2K\u001b[11A\u001b[2K\u001b[11A\u001b[2K\u001b[11A\u001b[2K\u001b[11A\u001b[2K\u001b[13A\u001b[2K\u001b[11A\u001b[2K\u001b[13A\u001b[2K\u001b[13A\u001b[2K\u001b[13A\u001b[2K\u001b[13A\u001b[2K\u001b[11A\u001b[2K\u001b[13A\u001b[2K\u001b[11A\u001b[2K\u001b[13A\u001b[2K\u001b[11A\u001b[2K\u001b[13A\u001b[2K\u001b[11A\u001b[2K\u001b[11A\u001b[2K\u001b[11A\u001b[2K\u001b[11A\u001b[2K\u001b[11A\u001b[2K\u001b[11A\u001b[2K\u001b[11A\u001b[2K\u001b[11A\u001b[2K\u001b[13A\u001b[2K\u001b[13A\u001b[2K\u001b[13A\u001b[2K\u001b[13A\u001b[2K\u001b[11A\u001b[2K\u001b[13A\u001b[2K\u001b[11A\u001b[2K\u001b[13A\u001b[2K\u001b[11A\u001b[2K\u001b[13A\u001b[2K\u001b[11A\u001b[2K\u001b[11A\u001b[2K\u001b[13A\u001b[2K\u001b[13A\u001b[2K\u001b[11A\u001b[2K\u001b[11A\u001b[2K\u001b[13A\u001b[2K\u001b[13A\u001b[2K\u001b[13A\u001b[2K\u001b[13A\u001b[2K\u001b[13A\u001b[2K\u001b[13A\u001b[2K\u001b[13A\u001b[2K\u001b[11A\u001b[2K\u001b[13A\u001b[2K\u001b[13A\u001b[2K\u001b[13A\u001b[2K\u001b[13A\u001b[2K\u001b[13A\u001b[2K\u001b[13A\u001b[2K\u001b[13A\u001b[2K\u001b[13A\u001b[2K\u001b[13A\u001b[2K\u001b[13A\u001b[2K\u001b[13A\u001b[2K\u001b[13A\u001b[2K\u001b[13A\u001b[2K\u001b[13A\u001b[2K\u001b[13A\u001b[2K\u001b[13A\u001b[2K\u001b[13A\u001b[2K\u001b[13A\u001b[2K\u001b[13A\u001b[2K\u001b[13A\u001b[2K\u001b[13A\u001b[2K\u001b[13A\u001b[2K\u001b[13A\u001b[2K\u001b[13A\u001b[2K\u001b[13A\u001b[2K\u001b[13A\u001b[2K\u001b[13A\u001b[2K\u001b[13A\u001b[2K\u001b[13A\u001b[2K\u001b[13A\u001b[2K\u001b[13A\u001b[2K\u001b[13A\u001b[2K\u001b[13A\u001b[2K\u001b[13A\u001b[2K\u001b[13A\u001b[2K\u001b[13A\u001b[2K\u001b[13A\u001b[2K\u001b[13A\u001b[2K\u001b[13A\u001b[2K\u001b[13A\u001b[2K\u001b[13A\u001b[2K\u001b[13A\u001b[2K\u001b[13A\u001b[2K\u001b[13A\u001b[2K\u001b[13A\u001b[2K\u001b[13A\u001b[2K\u001b[13A\u001b[2K\u001b[13A\u001b[2K\u001b[13A\u001b[2K\u001b[13A\u001b[2K\u001b[13A\u001b[2K\u001b[13A\u001b[2K\u001b[13A\u001b[2K\u001b[13A\u001b[2K\u001b[13A\u001b[2K\u001b[13A\u001b[2K\u001b[13A\u001b[2K\u001b[13A\u001b[2K\u001b[13A\u001b[2K\u001b[13A\u001b[2K\u001b[13A\u001b[2K\u001b[13A\u001b[2K\u001b[13A\u001b[2K\u001b[13A\u001b[2K\u001b[13A\u001b[2K\u001b[13A\u001b[2K\u001b[13A\u001b[2K\u001b[13A\u001b[2K\u001b[13A\u001b[2K\u001b[13A\u001b[2K\u001b[13A\u001b[2K\u001b[13A\u001b[2K\u001b[13A\u001b[2K\u001b[13A\u001b[2K\u001b[13A\u001b[2K\u001b[13A\u001b[2K\u001b[13A\u001b[2K\u001b[13A\u001b[2K\u001b[13A\u001b[2K\u001b[13A\u001b[2K\u001b[13A\u001b[2K\u001b[13A\u001b[2K\u001b[13A\u001b[2K\u001b[13A\u001b[2K\u001b[13A\u001b[2K\u001b[13A\u001b[2K\u001b[13A\u001b[2K\u001b[13A\u001b[2K\u001b[13A\u001b[2K\u001b[13A\u001b[2K\u001b[13A\u001b[2K\u001b[13A\u001b[2K\u001b[13A\u001b[2K\u001b[13A\u001b[2K\u001b[13A\u001b[2K\u001b[13A\u001b[2K\u001b[13A\u001b[2K\u001b[13A\u001b[2K\u001b[13A\u001b[2K\u001b[13A\u001b[2K\u001b[13A\u001b[2K\u001b[13A\u001b[2K\u001b[13A\u001b[2K\u001b[13A\u001b[2K\u001b[13A\u001b[2K\u001b[13A\u001b[2K\u001b[13A\u001b[2K\u001b[13A\u001b[2K\u001b[13A\u001b[2K\u001b[13A\u001b[2K\u001b[13A\u001b[2K\u001b[13A\u001b[2K\u001b[13A\u001b[2K\u001b[13A\u001b[2K\u001b[13A\u001b[2K\u001b[13A\u001b[2K\u001b[13A\u001b[2K\u001b[13A\u001b[2K\u001b[13A\u001b[2K\u001b[13A\u001b[2K\u001b[13A\u001b[2K\u001b[13A\u001b[2K\u001b[13A\u001b[2K\u001b[13A\u001b[2K\u001b[13A\u001b[2K\u001b[13A\u001b[2K\u001b[13A\u001b[2K\u001b[13A\u001b[2K\u001b[13A\u001b[2K\u001b[13A\u001b[2K\u001b[13A\u001b[2K\u001b[13A\u001b[2K\u001b[13A\u001b[2K\u001b[13A\u001b[2K\u001b[13A\u001b[2K\u001b[13A\u001b[2K\u001b[13A\u001b[2K\u001b[13A\u001b[2K\u001b[13A\u001b[2K\u001b[13A\u001b[2K\u001b[13A\u001b[2K\u001b[13A\u001b[2K\u001b[13A\u001b[2K\u001b[13A\u001b[2K\u001b[13A\u001b[2K\u001b[13A\u001b[2K\u001b[13A\u001b[2K\u001b[13A\u001b[2K\u001b[13A\u001b[2K\u001b[13A\u001b[2K\u001b[13A\u001b[2K\u001b[13A\u001b[2K\u001b[13A\u001b[2K\u001b[13A\u001b[2K\u001b[13A\u001b[2K\u001b[13A\u001b[2K\u001b[13A\u001b[2K\u001b[13A\u001b[2K\u001b[13A\u001b[2K\u001b[13A\u001b[2K\u001b[13A\u001b[2K\u001b[13A\u001b[2K\u001b[13A\u001b[2K\u001b[13A\u001b[2K\u001b[13A\u001b[2K\u001b[13A\u001b[2K\u001b[13A\u001b[2K\u001b[13A\u001b[2K\u001b[13A\u001b[2K\u001b[13A\u001b[2K\u001b[13A\u001b[2K\u001b[13A\u001b[2K\u001b[13A\u001b[2K\u001b[13A\u001b[2K\u001b[13A\u001b[2K\u001b[13A\u001b[2K\u001b[13A\u001b[2K\u001b[13A\u001b[2K\u001b[13A\u001b[2K\u001b[13A\u001b[2K\u001b[13A\u001b[2K\u001b[13A\u001b[2K\u001b[13A\u001b[2K\u001b[13A\u001b[2K\u001b[13A\u001b[2K\u001b[13A\u001b[2K\u001b[13A\u001b[2K\u001b[13A\u001b[2K\u001b[13A\u001b[2K\u001b[13A\u001b[2K\u001b[13A\u001b[2K\u001b[13A\u001b[2K\u001b[13A\u001b[2K\u001b[13A\u001b[2K\u001b[13A\u001b[2K\u001b[13A\u001b[2K\u001b[13A\u001b[2K\u001b[13A\u001b[2K\u001b[13A\u001b[2K\u001b[13A\u001b[2K\u001b[13A\u001b[2K\u001b[13A\u001b[2K\u001b[13A\u001b[2K\u001b[13A\u001b[2K\u001b[13A\u001b[2K\u001b[13A\u001b[2K\u001b[13A\u001b[2K\u001b[13A\u001b[2K\u001b[13A\u001b[2K\u001b[13A\u001b[2K\u001b[13A\u001b[2K\u001b[13A\u001b[2K\u001b[13A\u001b[2K\u001b[13A\u001b[2K\u001b[13A\u001b[2K\u001b[13A\u001b[2K\u001b[13A\u001b[2K\u001b[13A\u001b[2K\u001b[13A\u001b[2K\u001b[13A\u001b[2K\u001b[13A\u001b[2K\u001b[13A\u001b[2K\u001b[13A\u001b[2K\u001b[13A\u001b[2K\u001b[13A\u001b[2K\u001b[13A\u001b[2K\u001b[13A\u001b[2K\u001b[13A\u001b[2K\u001b[13A\u001b[2K\u001b[13A\u001b[2K\u001b[13A\u001b[2K\u001b[13A\u001b[2K\u001b[13A\u001b[2K\u001b[13A\u001b[2K\u001b[13A\u001b[2K\u001b[13A\u001b[2K\u001b[13A\u001b[2K\u001b[13A\u001b[2K\u001b[13A\u001b[2K\u001b[13A\u001b[2K\u001b[13A\u001b[2K\u001b[13A\u001b[2K\u001b[13A\u001b[2K\u001b[13A\u001b[2K\u001b[13A\u001b[2K\u001b[13A\u001b[2K\u001b[13A\u001b[2K\u001b[13A\u001b[2K\u001b[13A\u001b[2K\u001b[13A\u001b[2K\u001b[13A\u001b[2K\u001b[13A\u001b[2K\u001b[13A\u001b[2K\u001b[13A\u001b[2K\u001b[13A\u001b[2K\u001b[13A\u001b[2K\u001b[13A\u001b[2K\u001b[13A\u001b[2K\u001b[13A\u001b[2K\u001b[13A\u001b[2K\u001b[13A\u001b[2K\u001b[13A\u001b[2K\u001b[13A\u001b[2K\u001b[13A\u001b[2K\u001b[13A\u001b[2K\u001b[13A\u001b[2K\u001b[13A\u001b[2K\u001b[13A\u001b[2K\u001b[13A\u001b[2K\u001b[13A\u001b[2K\u001b[13A\u001b[2K\u001b[13A\u001b[2K\u001b[13A\u001b[2K\u001b[13A\u001b[2K\u001b[13A\u001b[2K\u001b[13A\u001b[2K\u001b[13A\u001b[2K\u001b[13A\u001b[2K\u001b[13A\u001b[2K\u001b[13A\u001b[2K\u001b[13A\u001b[2K\u001b[13A\u001b[2K\u001b[13A\u001b[2K\u001b[13A\u001b[2K\u001b[13A\u001b[2K\u001b[13A\u001b[2K\u001b[13A\u001b[2K\u001b[13A\u001b[2K\u001b[13A\u001b[2K\u001b[13A\u001b[2K\u001b[13A\u001b[2K\u001b[13A\u001b[2K\u001b[13A\u001b[2K\u001b[13A\u001b[2K\u001b[13A\u001b[2K\u001b[13A\u001b[2K\u001b[13A\u001b[2K\u001b[13A\u001b[2K\u001b[13A\u001b[2K\u001b[13A\u001b[2K\u001b[13A\u001b[2K\u001b[13A\u001b[2K\u001b[13A\u001b[2K\u001b[13A\u001b[2K\u001b[13A\u001b[2K\u001b[13A\u001b[2K\u001b[13A\u001b[2K\u001b[13A\u001b[2K\u001b[13A\u001b[2K\u001b[13A\u001b[2K\u001b[13A\u001b[2K\u001b[13A\u001b[2K\u001b[13A\u001b[2K\u001b[13A\u001b[2K\u001b[13A\u001b[2K\u001b[13A\u001b[2K\u001b[13A\u001b[2K\u001b[13A\u001b[2K\u001b[13A\u001b[2K\u001b[13A\u001b[2K\u001b[13A\u001b[2K\u001b[13A\u001b[2K\u001b[13A\u001b[2K\u001b[13A\u001b[2K\u001b[13A\u001b[2K\u001b[13A\u001b[2K\u001b[13A\u001b[2K\u001b[13A\u001b[2K\u001b[13A\u001b[2K\u001b[13A\u001b[2K\u001b[13A\u001b[2K\u001b[13A\u001b[2K\u001b[13A\u001b[2K\u001b[13A\u001b[2K\u001b[13A\u001b[2K\u001b[13A\u001b[2K\u001b[13A\u001b[2K\u001b[13A\u001b[2K\u001b[13A\u001b[2K\u001b[13A\u001b[2K\u001b[13A\u001b[2K\u001b[13A\u001b[2K\u001b[13A\u001b[2K\u001b[13A\u001b[2K\u001b[13A\u001b[2K\u001b[13A\u001b[2K\u001b[13A\u001b[2K\u001b[13A\u001b[2K\u001b[13A\u001b[2K\u001b[13A\u001b[2K\u001b[13A\u001b[2K\u001b[13A\u001b[2K\u001b[13A\u001b[2K\u001b[13A\u001b[2K\u001b[13A\u001b[2K\u001b[13A\u001b[2K\u001b[13A\u001b[2K\u001b[13A\u001b[2K\u001b[13A\u001b[2K\u001b[13A\u001b[2K\u001b[13A\u001b[2K\u001b[13A\u001b[2K\u001b[13A\u001b[2K\u001b[13A\u001b[2K\u001b[13A\u001b[2K\u001b[13A\u001b[2K\u001b[13A\u001b[2K\u001b[13A\u001b[2K\u001b[13A\u001b[2K\u001b[13A\u001b[2K\u001b[13A\u001b[2K\u001b[13A\u001b[2K\u001b[13A\u001b[2K\u001b[13A\u001b[2K\u001b[13A\u001b[2K\u001b[13A\u001b[2K\u001b[13A\u001b[2K\u001b[13A\u001b[2K\u001b[13A\u001b[2K\u001b[13A\u001b[2K\u001b[13A\u001b[2K\u001b[13A\u001b[2K\u001b[13A\u001b[2K\u001b[13A\u001b[2K\u001b[13A\u001b[2K\u001b[13A\u001b[2K\u001b[13A\u001b[2K\u001b[13A\u001b[2K\u001b[13A\u001b[2K\u001b[13A\u001b[2K\u001b[13A\u001b[2K\u001b[13A\u001b[2K\u001b[13A\u001b[2K\u001b[13A\u001b[2K\u001b[13A\u001b[2K\u001b[13A\u001b[2K\u001b[13A\u001b[2K\u001b[13A\u001b[2K\u001b[13A\u001b[2K\u001b[13A\u001b[2K\u001b[13A\u001b[2K\u001b[13A\u001b[2K\u001b[13A\u001b[2K\u001b[13A\u001b[2K\u001b[13A\u001b[2K\u001b[13A\u001b[2K\u001b[13A\u001b[2K\u001b[13A\u001b[2K\u001b[13A\u001b[2K\u001b[13A\u001b[2K\u001b[13A\u001b[2K\u001b[13A\u001b[2K\u001b[13A\u001b[2K\u001b[13A\u001b[2K\u001b[13A\u001b[2K\u001b[13A\u001b[2K\u001b[13A\u001b[2K\u001b[13A\u001b[2K\u001b[13A\u001b[2K\u001b[13A\u001b[2K\u001b[13A\u001b[2K\u001b[13A\u001b[2K\u001b[13A\u001b[2K\u001b[13A\u001b[2K\u001b[13A\u001b[2K\u001b[13A\u001b[2K\u001b[13A\u001b[2K\u001b[13A\u001b[2K\u001b[13A\u001b[2K\u001b[13A\u001b[2K\u001b[13A\u001b[2K\u001b[13A\u001b[2K\u001b[13A\u001b[2K\u001b[13A\u001b[2K\u001b[13A\u001b[2K\u001b[13A\u001b[2K\u001b[13A\u001b[2K\u001b[13A\u001b[2K\u001b[13A\u001b[2K\u001b[13A\u001b[2K\u001b[13A\u001b[2K\u001b[13A\u001b[2K\u001b[13A\u001b[2K\u001b[13A\u001b[2K\u001b[13A\u001b[2K\u001b[13A\u001b[2K\u001b[13A\u001b[2K\u001b[13A\u001b[2K\u001b[13A\u001b[2K\u001b[13A\u001b[2K\u001b[13A\u001b[2K\u001b[13A\u001b[2K\u001b[13A\u001b[2K\u001b[13A\u001b[2K\u001b[13A\u001b[2K\u001b[13A\u001b[2K\u001b[13A\u001b[2K\u001b[13A\u001b[2K\u001b[13A\u001b[2K\u001b[13A\u001b[2K\u001b[13A\u001b[2K\u001b[13A\u001b[2K\u001b[13A\u001b[2K\u001b[13A\u001b[2K\u001b[13A\u001b[2K\u001b[13A\u001b[2K\u001b[13A\u001b[2K\u001b[13A\u001b[2K\u001b[13A\u001b[2K\u001b[13A\u001b[2K\u001b[13A\u001b[2K\u001b[13A\u001b[2K\u001b[13A\u001b[2K\u001b[13A\u001b[2K\u001b[13A\u001b[2K\u001b[13A\u001b[2K\u001b[13A\u001b[2K\u001b[13A\u001b[2K\u001b[13A\u001b[2K\u001b[13A\u001b[2K\u001b[13A\u001b[2K\u001b[13A\u001b[2K\u001b[13A\u001b[2K\u001b[13A\u001b[2K\u001b[13A\u001b[2K\u001b[13A\u001b[2K\u001b[13A\u001b[2K\u001b[13A\u001b[2K\u001b[13A\u001b[2K\u001b[13A\u001b[2K\u001b[13A\u001b[2K\u001b[13A\u001b[2K\u001b[13A\u001b[2K\u001b[13A\u001b[2K\u001b[13A\u001b[2K\u001b[13A\u001b[2K\u001b[13A\u001b[2K\u001b[13A\u001b[2K\u001b[13A\u001b[2K\u001b[13A\u001b[2K\u001b[13A\u001b[2K\u001b[13A\u001b[2K\u001b[13A\u001b[2K\u001b[13A\u001b[2K\u001b[13A\u001b[2K\u001b[13A\u001b[2K\u001b[13A\u001b[2K\u001b[13A\u001b[2K\u001b[13A\u001b[2K\u001b[13A\u001b[2K\u001b[13A\u001b[2K\u001b[13A\u001b[2K\u001b[13A\u001b[2K\u001b[13A\u001b[2K\u001b[13A\u001b[2K\u001b[13A\u001b[2K\u001b[13A\u001b[2K\u001b[13A\u001b[2K\u001b[13A\u001b[2K\u001b[13A\u001b[2K\u001b[13A\u001b[2K\u001b[13A\u001b[2K\u001b[13A\u001b[2K\u001b[13A\u001b[2K\u001b[13A\u001b[2K\u001b[13A\u001b[2K\u001b[13A\u001b[2K\u001b[13A\u001b[2K\u001b[13A\u001b[2K\u001b[13A\u001b[2K\u001b[13A\u001b[2K\u001b[13A\u001b[2K\u001b[13A\u001b[2K\u001b[13A\u001b[2K\u001b[13A\u001b[2K\u001b[13A\u001b[2K\u001b[13A\u001b[2K\u001b[13A\u001b[2K\u001b[13A\u001b[2K\u001b[13A\u001b[2K\u001b[13A\u001b[2K\u001b[13A\u001b[2K\u001b[13A\u001b[2K\u001b[13A\u001b[2K\u001b[13A\u001b[2K\u001b[13A\u001b[2K\u001b[13A\u001b[2K\u001b[13A\u001b[2K\u001b[13A\u001b[2K\u001b[13A\u001b[2K\u001b[13A\u001b[2K\u001b[13A\u001b[2K\u001b[13A\u001b[2K\u001b[13A\u001b[2K\u001b[13A\u001b[2K\u001b[13A\u001b[2K\u001b[13A\u001b[2K\u001b[13A\u001b[2K\u001b[13A\u001b[2K\u001b[13A\u001b[2K\u001b[13A\u001b[2K\u001b[13A\u001b[2K\u001b[13A\u001b[2K\u001b[13A\u001b[2K\u001b[13A\u001b[2K\u001b[13A\u001b[2K\u001b[13A\u001b[2K\u001b[13A\u001b[2K\u001b[13A\u001b[2K\u001b[13A\u001b[2K\u001b[13A\u001b[2K\u001b[13A\u001b[2K\u001b[13A\u001b[2K\u001b[13A\u001b[2K\u001b[13A\u001b[2K\u001b[13A\u001b[2K\u001b[13A\u001b[2K\u001b[13A\u001b[2K\u001b[13A\u001b[2K\u001b[13A\u001b[2K\u001b[13A\u001b[2K\u001b[13A\u001b[2K\u001b[13A\u001b[2K\u001b[13A\u001b[2K\u001b[13A\u001b[2K\u001b[13A\u001b[2K\u001b[13A\u001b[2K\u001b[13A\u001b[2K\u001b[13A\u001b[2K\u001b[13A\u001b[2K\u001b[13A\u001b[2K\u001b[13A\u001b[2K\u001b[13A\u001b[2K\u001b[13A\u001b[2K\u001b[13A\u001b[2K\u001b[13A\u001b[2K\u001b[13A\u001b[2K\u001b[13A\u001b[2K\u001b[13A\u001b[2K\u001b[13A\u001b[2K\u001b[13A\u001b[2K\u001b[13A\u001b[2K\u001b[13A\u001b[2K\u001b[13A\u001b[2K\u001b[13A\u001b[2K\u001b[13A\u001b[2K\u001b[13A\u001b[2K\u001b[13A\u001b[2K\u001b[13A\u001b[2K\u001b[13A\u001b[2K\u001b[13A\u001b[2K\u001b[13A\u001b[2K\u001b[13A\u001b[2K\u001b[13A\u001b[2K\u001b[13A\u001b[2K\u001b[13A\u001b[2K\u001b[13A\u001b[2K\u001b[13A\u001b[2K\u001b[13A\u001b[2K\u001b[13A\u001b[2K\u001b[13A\u001b[2K\u001b[13A\u001b[2K\u001b[13A\u001b[2K\u001b[13A\u001b[2K\u001b[13A\u001b[2K\u001b[13A\u001b[2K\u001b[13A\u001b[2K\u001b[13A\u001b[2K\u001b[13A\u001b[2K\u001b[13A\u001b[2K\u001b[13A\u001b[2K\u001b[13A\u001b[2K\u001b[13A\u001b[2K\u001b[13A\u001b[2K\u001b[13A\u001b[2K\u001b[13A\u001b[2K\u001b[13A\u001b[2K\u001b[13A\u001b[2K\u001b[13A\u001b[2K\u001b[13A\u001b[2K\u001b[13A\u001b[2K\u001b[13A\u001b[2K\u001b[13A\u001b[2K\u001b[13A\u001b[2K\u001b[13A\u001b[2K\u001b[13A\u001b[2K\u001b[13A\u001b[2K\u001b[13A\u001b[2K\u001b[13A\u001b[2K\u001b[13A\u001b[2K\u001b[13A\u001b[2K\u001b[13A\u001b[2K\u001b[13A\u001b[2K\u001b[13A\u001b[2K\u001b[13A\u001b[2K\u001b[13A\u001b[2K\u001b[13A\u001b[2K\u001b[13A\u001b[2K\u001b[13A\u001b[2K\u001b[13A\u001b[2K\u001b[13A\u001b[2K\u001b[13A\u001b[2K\u001b[13A\u001b[2K\u001b[13A\u001b[2K\u001b[13A\u001b[2K\u001b[13A\u001b[2K\u001b[13A\u001b[2K\u001b[13A\u001b[2K\u001b[13A\u001b[2K\u001b[13A\u001b[2K\u001b[13A\u001b[2K\u001b[13A\u001b[2K\u001b[13A\u001b[2K\u001b[13A\u001b[2K\u001b[13A\u001b[2K\u001b[13A\u001b[2K\u001b[13A\u001b[2K\u001b[13A\u001b[2K\u001b[13A\u001b[2K\u001b[13A\u001b[2K\u001b[13A\u001b[2K\u001b[13A\u001b[2K\u001b[13A\u001b[2K\u001b[13A\u001b[2K\u001b[13A\u001b[2K\u001b[13A\u001b[2K\u001b[13A\u001b[2K\u001b[13A\u001b[2K\u001b[13A\u001b[2K\u001b[13A\u001b[2K\u001b[13A\u001b[2K\u001b[13A\u001b[2K\u001b[13A\u001b[2K\u001b[13A\u001b[2K\u001b[13A\u001b[2K\u001b[13A\u001b[2K\u001b[13A\u001b[2K\u001b[13A\u001b[2K\u001b[13A\u001b[2K\u001b[13A\u001b[2K\u001b[13A\u001b[2K\u001b[13A\u001b[2K\u001b[13A\u001b[2K\u001b[13A\u001b[2K\u001b[13A\u001b[2K\u001b[13A\u001b[2K\u001b[13A\u001b[2K\u001b[13A\u001b[2K\u001b[13A\u001b[2K\u001b[13A\u001b[2K\u001b[13A\u001b[2K\u001b[13A\u001b[2K\u001b[13A\u001b[2K\u001b[13A\u001b[2K\u001b[13A\u001b[2K\u001b[13A\u001b[2K\u001b[13A\u001b[2K\u001b[13A\u001b[2K\u001b[13A\u001b[2K\u001b[13A\u001b[2K\u001b[13A\u001b[2K\u001b[13A\u001b[2K\u001b[13A\u001b[2K\u001b[13A\u001b[2K\u001b[13A\u001b[2K\u001b[13A\u001b[2K\u001b[13A\u001b[2K\u001b[13A\u001b[2K\u001b[13A\u001b[2K\u001b[13A\u001b[2K\u001b[13A\u001b[2K\u001b[13A\u001b[2K\u001b[13A\u001b[2K\u001b[13A\u001b[2K\u001b[13A\u001b[2K\u001b[13A\u001b[2K\u001b[13A\u001b[2K\u001b[13A\u001b[2K\u001b[13A\u001b[2K\u001b[13A\u001b[2K\u001b[13A\u001b[2K\u001b[13A\u001b[2K\u001b[13A\u001b[2K\u001b[13A\u001b[2K\u001b[13A\u001b[2K\u001b[13A\u001b[2K\u001b[13A\u001b[2K\u001b[13A\u001b[2K\u001b[13A\u001b[2K\u001b[13A\u001b[2K\u001b[13A\u001b[2K\u001b[13A\u001b[2K\u001b[13A\u001b[2K\u001b[13A\u001b[2K\u001b[13A\u001b[2K\u001b[13A\u001b[2K\u001b[13A\u001b[2K\u001b[13A\u001b[2K\u001b[13A\u001b[2K\u001b[13A\u001b[2K\u001b[13A\u001b[2K\u001b[13A\u001b[2K\u001b[13A\u001b[2K\u001b[13A\u001b[2K\u001b[13A\u001b[2K\u001b[13A\u001b[2K\u001b[13A\u001b[2K\u001b[13A\u001b[2K\u001b[13A\u001b[2K\u001b[13A\u001b[2K\u001b[13A\u001b[2K\u001b[13A\u001b[2K\u001b[13A\u001b[2K\u001b[13A\u001b[2K\u001b[13A\u001b[2K\u001b[13A\u001b[2K\u001b[13A\u001b[2K\u001b[13A\u001b[2K\u001b[13A\u001b[2K\u001b[13A\u001b[2K\u001b[13A\u001b[2K\u001b[13A\u001b[2K\u001b[13A\u001b[2K\u001b[13A\u001b[2K\u001b[13A\u001b[2K\u001b[13A\u001b[2K\u001b[13A\u001b[2K\u001b[13A\u001b[2K\u001b[13A\u001b[2K\u001b[13A\u001b[2K\u001b[13A\u001b[2K\u001b[13A\u001b[2K\u001b[13A\u001b[2K\u001b[13A\u001b[2K\u001b[13A\u001b[2K\u001b[13A\u001b[2K\u001b[13A\u001b[2K\u001b[13A\u001b[2K\u001b[13A\u001b[2K\u001b[13A\u001b[2K\u001b[13A\u001b[2K\u001b[13A\u001b[2K\u001b[13A\u001b[2K\u001b[13A\u001b[2K\u001b[13A\u001b[2K\u001b[13A\u001b[2K\u001b[13A\u001b[2K\u001b[13A\u001b[2K\u001b[13A\u001b[2K\u001b[13A\u001b[2K\u001b[13A\u001b[2K\u001b[13A\u001b[2K\u001b[13A\u001b[2K\u001b[13A\u001b[2K\u001b[13A\u001b[2K\u001b[13A\u001b[2K\u001b[13A\u001b[2K\u001b[13A\u001b[2K\u001b[13A\u001b[2K\u001b[13A\u001b[2K\u001b[13A\u001b[2K\u001b[13A\u001b[2K\u001b[13A\u001b[2K\u001b[13A\u001b[2K\u001b[13A\u001b[2K\u001b[13A\u001b[2K\u001b[13A\u001b[2K\u001b[13A\u001b[2K\u001b[13A\u001b[2K\u001b[13A\u001b[2K\u001b[13A\u001b[2K\u001b[13A\u001b[2K\u001b[13A\u001b[2K\u001b[13A\u001b[2K\u001b[13A\u001b[2K\u001b[13A\u001b[2K\u001b[13A\u001b[2K\u001b[13A\u001b[2K\u001b[13A\u001b[2K\u001b[13A\u001b[2K\u001b[13A\u001b[2K\u001b[13A\u001b[2K\u001b[13A\u001b[2K\u001b[13A\u001b[2K\u001b[13A\u001b[2K\u001b[13A\u001b[2K\u001b[13A\u001b[2K\u001b[13A\u001b[2K\u001b[13A\u001b[2K\u001b[13A\u001b[2K\u001b[13A\u001b[2K\u001b[13A\u001b[2K\u001b[13A\u001b[2K\u001b[13A\u001b[2K\u001b[13A\u001b[2K\u001b[13A\u001b[2K\u001b[13A\u001b[2K\u001b[13A\u001b[2K\u001b[13A\u001b[2K\u001b[13A\u001b[2K\u001b[13A\u001b[2K\u001b[13A\u001b[2K\u001b[13A\u001b[2K\u001b[13A\u001b[2K\u001b[13A\u001b[2K\u001b[13A\u001b[2K\u001b[13A\u001b[2K\u001b[13A\u001b[2K\u001b[13A\u001b[2K\u001b[13A\u001b[2K\u001b[13A\u001b[2K\u001b[13A\u001b[2K\u001b[13A\u001b[2K\u001b[13A\u001b[2K\u001b[13A\u001b[2K\u001b[13A\u001b[2K\u001b[13A\u001b[2K\u001b[13A\u001b[2K\u001b[13A\u001b[2K\u001b[13A\u001b[2K\u001b[13A\u001b[2K\u001b[13A\u001b[2K\u001b[13A\u001b[2K\u001b[13A\u001b[2K\u001b[13A\u001b[2K\u001b[13A\u001b[2K\u001b[13A\u001b[2K\u001b[13A\u001b[2K\u001b[13A\u001b[2K\u001b[13A\u001b[2K\u001b[13A\u001b[2K\u001b[13A\u001b[2K\u001b[13A\u001b[2K\u001b[13A\u001b[2K\u001b[13A\u001b[2K\u001b[13A\u001b[2K\u001b[13A\u001b[2K\u001b[13A\u001b[2K\u001b[13A\u001b[2K\u001b[13A\u001b[2K\u001b[13A\u001b[2K\u001b[13A\u001b[2K\u001b[13A\u001b[2K\u001b[13A\u001b[2K\u001b[13A\u001b[2K\u001b[13A\u001b[2K\u001b[13A\u001b[2K\u001b[13A\u001b[2K\u001b[13A\u001b[2K\u001b[13A\u001b[2K\u001b[13A\u001b[2K\u001b[13A\u001b[2K\u001b[13A\u001b[2K\u001b[13A\u001b[2K\u001b[13A\u001b[2K\u001b[13A\u001b[2K\u001b[13A\u001b[2K\u001b[13A\u001b[2K\u001b[13A\u001b[2K\u001b[13A\u001b[2K\u001b[13A\u001b[2K\u001b[13A\u001b[2K\u001b[13A\u001b[2K\u001b[13A\u001b[2K\u001b[13A\u001b[2K\u001b[13A\u001b[2K\u001b[13A\u001b[2K\u001b[13A\u001b[2K\u001b[13A\u001b[2K\u001b[13A\u001b[2K\u001b[13A\u001b[2K\u001b[13A\u001b[2K\u001b[13A\u001b[2K\u001b[13A\u001b[2K\u001b[13A\u001b[2K\u001b[13A\u001b[2K\u001b[13A\u001b[2K\u001b[13A\u001b[2K\u001b[13A\u001b[2K\u001b[13A\u001b[2K\u001b[13A\u001b[2K\u001b[13A\u001b[2K\u001b[13A\u001b[2K\u001b[13A\u001b[2K\u001b[13A\u001b[2K\u001b[13A\u001b[2K\u001b[13A\u001b[2K\u001b[13A\u001b[2K\u001b[13A\u001b[2K\u001b[13A\u001b[2K\u001b[13A\u001b[2K\u001b[13A\u001b[2K\u001b[13A\u001b[2K\u001b[13A\u001b[2K\u001b[13A\u001b[2K\u001b[13A\u001b[2K\u001b[13A\u001b[2K\u001b[13A\u001b[2K\u001b[13A\u001b[2K\u001b[13A\u001b[2K\u001b[13A\u001b[2K\u001b[13A\u001b[2K\u001b[13A\u001b[2K\u001b[13A\u001b[2K\u001b[13A\u001b[2K\u001b[13A\u001b[2K\u001b[13A\u001b[2K\u001b[13A\u001b[2K\u001b[13A\u001b[2K\u001b[13A\u001b[2K\u001b[13A\u001b[2K\u001b[13A\u001b[2K\u001b[13A\u001b[2K\u001b[13A\u001b[2K\u001b[13A\u001b[2K\u001b[13A\u001b[2K\u001b[13A\u001b[2K\u001b[13A\u001b[2K\u001b[13A\u001b[2K\u001b[13A\u001b[2K\u001b[13A\u001b[2K\u001b[13A\u001b[2K\u001b[13A\u001b[2K\u001b[13A\u001b[2K\u001b[13A\u001b[2K\u001b[13A\u001b[2K\u001b[13A\u001b[2K\u001b[13A\u001b[2K\u001b[13A\u001b[2K\u001b[13A\u001b[2K\u001b[13A\u001b[2K\u001b[13A\u001b[2K\u001b[13A\u001b[2K\u001b[13A\u001b[2K\u001b[13A\u001b[2K\u001b[13A\u001b[2K\u001b[13A\u001b[2K\u001b[13A\u001b[2K\u001b[13A\u001b[2K\u001b[13A\u001b[2K\u001b[13A\u001b[2K\u001b[13A\u001b[2K\u001b[13A\u001b[2K\u001b[13A\u001b[2K\u001b[13A\u001b[2K\u001b[13A\u001b[2K\u001b[13A\u001b[2K\u001b[13A\u001b[2K\u001b[13A\u001b[2K\u001b[13A\u001b[2K\u001b[13A\u001b[2K\u001b[13A\u001b[2K\u001b[13A\u001b[2K\u001b[13A\u001b[2K\u001b[13A\u001b[2K\u001b[13A\u001b[2K\u001b[13A\u001b[2K\u001b[13A\u001b[2K\u001b[13A\u001b[2K\u001b[13A\u001b[2K\u001b[13A\u001b[2K\u001b[13A\u001b[2K\u001b[13A\u001b[2K\u001b[13A\u001b[2K\u001b[13A\u001b[2K\u001b[13A\u001b[2K\u001b[13A\u001b[2K\u001b[13A\u001b[2K\u001b[13A\u001b[2K\u001b[13A\u001b[2K\u001b[13A\u001b[2K\u001b[13A\u001b[2K\u001b[13A\u001b[2K\u001b[13A\u001b[2K\u001b[13A\u001b[2K\u001b[13A\u001b[2K\u001b[13A\u001b[2K\u001b[13A\u001b[2K\u001b[13A\u001b[2K\u001b[13A\u001b[2K\u001b[13A\u001b[2K\u001b[13A\u001b[2K\u001b[13A\u001b[2K\u001b[13A\u001b[2K\u001b[13A\u001b[2K\u001b[13A\u001b[2K\u001b[13A\u001b[2K\u001b[13A\u001b[2K\u001b[13A\u001b[2K\u001b[13A\u001b[2K\u001b[13A\u001b[2K\u001b[13A\u001b[2K\u001b[13A\u001b[2K\u001b[13A\u001b[2K\u001b[13A\u001b[2K\u001b[13A\u001b[2K\u001b[13A\u001b[2K\u001b[13A\u001b[2K\u001b[13A\u001b[2K\u001b[13A\u001b[2K\u001b[13A\u001b[2K\u001b[13A\u001b[2K\u001b[13A\u001b[2K\u001b[13A\u001b[2K\u001b[13A\u001b[2K\u001b[13A\u001b[2K\u001b[13A\u001b[2K\u001b[13A\u001b[2K\u001b[13A\u001b[2K\u001b[13A\u001b[2K\u001b[13A\u001b[2K\u001b[13A\u001b[2K\u001b[13A\u001b[2K\u001b[13A\u001b[2K\u001b[13A\u001b[2K\u001b[13A\u001b[2K\u001b[13A\u001b[2K\u001b[13A\u001b[2K\u001b[13A\u001b[2K\u001b[13A\u001b[2K\u001b[13A\u001b[2K\u001b[13A\u001b[2K\u001b[13A\u001b[2K\u001b[13A\u001b[2K\u001b[13A\u001b[2K\u001b[13A\u001b[2K\u001b[13A\u001b[2K\u001b[13A\u001b[2K\u001b[13A\u001b[2K\u001b[13A\u001b[2K\u001b[13A\u001b[2K\u001b[13A\u001b[2K\u001b[13A\u001b[2K\u001b[13A\u001b[2K\u001b[13A\u001b[2K\u001b[13A\u001b[2K\u001b[13A\u001b[2K\u001b[13A\u001b[2K\u001b[13A\u001b[2K\u001b[13A\u001b[2K\u001b[13A\u001b[2K\u001b[13A\u001b[2K\u001b[13A\u001b[2K\u001b[13A\u001b[2K\u001b[13A\u001b[2K\u001b[13A\u001b[2K\u001b[13A\u001b[2K\u001b[13A\u001b[2K\u001b[13A\u001b[2K\u001b[13A\u001b[2K\u001b[13A\u001b[2K\u001b[13A\u001b[2K\u001b[13A\u001b[2K\u001b[13A\u001b[2K\u001b[13A\u001b[2K\u001b[13A\u001b[2K\u001b[13A\u001b[2K\u001b[13A\u001b[2K\u001b[13A\u001b[2K\u001b[13A\u001b[2K\u001b[13A\u001b[2K\u001b[13A\u001b[2K\u001b[13A\u001b[2K\u001b[13A\u001b[2K\u001b[13A\u001b[2K\u001b[13A\u001b[2K\u001b[13A\u001b[2K\u001b[13A\u001b[2K\u001b[13A\u001b[2K\u001b[13A\u001b[2K\u001b[13A\u001b[2K\u001b[13A\u001b[2K\u001b[13A\u001b[2K\u001b[13A\u001b[2K\u001b[13A\u001b[2K\u001b[13A\u001b[2K\u001b[13A\u001b[2K\u001b[13A\u001b[2K\u001b[13A\u001b[2K\u001b[13A\u001b[2K\u001b[13A\u001b[2K\u001b[13A\u001b[2K\u001b[13A\u001b[2K\u001b[13A\u001b[2K\u001b[13A\u001b[2K\u001b[13A\u001b[2K\u001b[13A\u001b[2K\u001b[13A\u001b[2K\u001b[13A\u001b[2K\u001b[13A\u001b[2K\u001b[13A\u001b[2K\u001b[13A\u001b[2K\u001b[13A\u001b[2K\u001b[13A\u001b[2K\u001b[13A\u001b[2K\u001b[13A\u001b[2K\u001b[13A\u001b[2K\u001b[13A\u001b[2K\u001b[13A\u001b[2K\u001b[13A\u001b[2K\u001b[13A\u001b[2K\u001b[13A\u001b[2K\u001b[13A\u001b[2K\u001b[13A\u001b[2K\u001b[13A\u001b[2K\u001b[13A\u001b[2K\u001b[13A\u001b[2K\u001b[13A\u001b[2K\u001b[13A\u001b[2K\u001b[13A\u001b[2K\u001b[13A\u001b[2K\u001b[13A\u001b[2K\u001b[13A\u001b[2K\u001b[13A\u001b[2K\u001b[13A\u001b[2K\u001b[13A\u001b[2K\u001b[13A\u001b[2K\u001b[13A\u001b[2K\u001b[13A\u001b[2K\u001b[13A\u001b[2K\u001b[13A\u001b[2K\u001b[13A\u001b[2K\u001b[13A\u001b[2K\u001b[13A\u001b[2K\u001b[13A\u001b[2K\u001b[13A\u001b[2K\u001b[13A\u001b[2K\u001b[13A\u001b[2K\u001b[13A\u001b[2K\u001b[13A\u001b[2K\u001b[13A\u001b[2K\u001b[13A\u001b[2K\u001b[13A\u001b[2K\u001b[13A\u001b[2K\u001b[13A\u001b[2K\u001b[13A\u001b[2Klatest: digest: sha256:0b0b1390ecf169a0f3cf90edac9c91a0f54c00245c2fd49fb4b273974d6db891 size: 3474\n"
     ]
    }
   ],
   "source": [
    "!chmod +x ./*.sh && ./build_and_push.sh "
   ]
  },
  {
   "cell_type": "code",
   "execution_count": 16,
   "id": "f02aaa95-fd05-4c92-babf-16894272da62",
   "metadata": {
    "tags": []
   },
   "outputs": [
    {
     "name": "stdout",
     "output_type": "stream",
     "text": [
      "Name: sagemaker\n",
      "Version: 2.229.0\n",
      "Summary: UNKNOWN\n",
      "Home-page: UNKNOWN\n",
      "Author: \n",
      "Author-email: \n",
      "License: UNKNOWN\n",
      "Location: /home/ec2-user/anaconda3/envs/pytorch_p310/lib/python3.10/site-packages\n",
      "Requires: attrs, boto3, cloudpickle, docker, google-pasta, importlib-metadata, jsonschema, numpy, packaging, pandas, pathos, platformdirs, protobuf, psutil, PyYAML, requests, schema, smdebug-rulesconfig, tblib, tqdm, urllib3\n",
      "Required-by: sagemaker-ssh-helper\n",
      "Note: you may need to restart the kernel to use updated packages.\n"
     ]
    }
   ],
   "source": [
    "pip show sagemaker"
   ]
  },
  {
   "cell_type": "code",
   "execution_count": 2,
   "id": "7f122b49",
   "metadata": {
    "collapsed": true,
    "jupyter": {
     "outputs_hidden": true
    },
    "tags": []
   },
   "outputs": [
    {
     "name": "stdout",
     "output_type": "stream",
     "text": [
      "Requirement already satisfied: boto3 in /home/ec2-user/anaconda3/envs/pytorch_p310/lib/python3.10/site-packages (1.34.155)\n",
      "Collecting boto3\n",
      "  Downloading boto3-1.35.2-py3-none-any.whl.metadata (6.6 kB)\n",
      "Requirement already satisfied: sagemaker in /home/ec2-user/anaconda3/envs/pytorch_p310/lib/python3.10/site-packages (2.228.0)\n",
      "Collecting sagemaker\n",
      "  Using cached sagemaker-2.229.0-py3-none-any.whl.metadata (4.1 kB)\n",
      "Collecting sagemaker_ssh_helper\n",
      "  Using cached sagemaker_ssh_helper-2.2.0-py3-none-any.whl.metadata (3.1 kB)\n",
      "Collecting botocore<1.36.0,>=1.35.2 (from boto3)\n",
      "  Downloading botocore-1.35.2-py3-none-any.whl.metadata (5.7 kB)\n",
      "Requirement already satisfied: jmespath<2.0.0,>=0.7.1 in /home/ec2-user/anaconda3/envs/pytorch_p310/lib/python3.10/site-packages (from boto3) (1.0.1)\n",
      "Requirement already satisfied: s3transfer<0.11.0,>=0.10.0 in /home/ec2-user/anaconda3/envs/pytorch_p310/lib/python3.10/site-packages (from boto3) (0.10.1)\n",
      "Requirement already satisfied: attrs<24,>=23.1.0 in /home/ec2-user/anaconda3/envs/pytorch_p310/lib/python3.10/site-packages (from sagemaker) (23.2.0)\n",
      "Requirement already satisfied: cloudpickle==2.2.1 in /home/ec2-user/anaconda3/envs/pytorch_p310/lib/python3.10/site-packages (from sagemaker) (2.2.1)\n",
      "Requirement already satisfied: docker in /home/ec2-user/anaconda3/envs/pytorch_p310/lib/python3.10/site-packages (from sagemaker) (7.1.0)\n",
      "Requirement already satisfied: google-pasta in /home/ec2-user/anaconda3/envs/pytorch_p310/lib/python3.10/site-packages (from sagemaker) (0.2.0)\n",
      "Requirement already satisfied: importlib-metadata<7.0,>=1.4.0 in /home/ec2-user/anaconda3/envs/pytorch_p310/lib/python3.10/site-packages (from sagemaker) (6.11.0)\n",
      "Requirement already satisfied: jsonschema in /home/ec2-user/anaconda3/envs/pytorch_p310/lib/python3.10/site-packages (from sagemaker) (4.22.0)\n",
      "Requirement already satisfied: numpy<2.0,>=1.9.0 in /home/ec2-user/anaconda3/envs/pytorch_p310/lib/python3.10/site-packages (from sagemaker) (1.26.4)\n",
      "Requirement already satisfied: packaging>=20.0 in /home/ec2-user/anaconda3/envs/pytorch_p310/lib/python3.10/site-packages (from sagemaker) (21.3)\n",
      "Requirement already satisfied: pandas in /home/ec2-user/anaconda3/envs/pytorch_p310/lib/python3.10/site-packages (from sagemaker) (1.5.3)\n",
      "Requirement already satisfied: pathos in /home/ec2-user/anaconda3/envs/pytorch_p310/lib/python3.10/site-packages (from sagemaker) (0.3.2)\n",
      "Requirement already satisfied: platformdirs in /home/ec2-user/anaconda3/envs/pytorch_p310/lib/python3.10/site-packages (from sagemaker) (4.2.2)\n",
      "Requirement already satisfied: protobuf<5.0,>=3.12 in /home/ec2-user/anaconda3/envs/pytorch_p310/lib/python3.10/site-packages (from sagemaker) (4.25.3)\n",
      "Requirement already satisfied: psutil in /home/ec2-user/anaconda3/envs/pytorch_p310/lib/python3.10/site-packages (from sagemaker) (5.9.8)\n",
      "Requirement already satisfied: PyYAML~=6.0 in /home/ec2-user/anaconda3/envs/pytorch_p310/lib/python3.10/site-packages (from sagemaker) (6.0.1)\n",
      "Requirement already satisfied: requests in /home/ec2-user/anaconda3/envs/pytorch_p310/lib/python3.10/site-packages (from sagemaker) (2.32.3)\n",
      "Requirement already satisfied: schema in /home/ec2-user/anaconda3/envs/pytorch_p310/lib/python3.10/site-packages (from sagemaker) (0.7.7)\n",
      "Requirement already satisfied: smdebug-rulesconfig==1.0.1 in /home/ec2-user/anaconda3/envs/pytorch_p310/lib/python3.10/site-packages (from sagemaker) (1.0.1)\n",
      "Requirement already satisfied: tblib<4,>=1.7.0 in /home/ec2-user/anaconda3/envs/pytorch_p310/lib/python3.10/site-packages (from sagemaker) (3.0.0)\n",
      "Requirement already satisfied: tqdm in /home/ec2-user/anaconda3/envs/pytorch_p310/lib/python3.10/site-packages (from sagemaker) (4.66.4)\n",
      "Requirement already satisfied: urllib3<3.0.0,>=1.26.8 in /home/ec2-user/anaconda3/envs/pytorch_p310/lib/python3.10/site-packages (from sagemaker) (2.2.1)\n",
      "Requirement already satisfied: python-dateutil<3.0.0,>=2.1 in /home/ec2-user/anaconda3/envs/pytorch_p310/lib/python3.10/site-packages (from botocore<1.36.0,>=1.35.2->boto3) (2.9.0)\n",
      "Requirement already satisfied: zipp>=0.5 in /home/ec2-user/anaconda3/envs/pytorch_p310/lib/python3.10/site-packages (from importlib-metadata<7.0,>=1.4.0->sagemaker) (3.17.0)\n",
      "Requirement already satisfied: pyparsing!=3.0.5,>=2.0.2 in /home/ec2-user/anaconda3/envs/pytorch_p310/lib/python3.10/site-packages (from packaging>=20.0->sagemaker) (3.1.2)\n",
      "Requirement already satisfied: charset-normalizer<4,>=2 in /home/ec2-user/anaconda3/envs/pytorch_p310/lib/python3.10/site-packages (from requests->sagemaker) (3.3.2)\n",
      "Requirement already satisfied: idna<4,>=2.5 in /home/ec2-user/anaconda3/envs/pytorch_p310/lib/python3.10/site-packages (from requests->sagemaker) (3.7)\n",
      "Requirement already satisfied: certifi>=2017.4.17 in /home/ec2-user/anaconda3/envs/pytorch_p310/lib/python3.10/site-packages (from requests->sagemaker) (2024.2.2)\n",
      "Requirement already satisfied: six in /home/ec2-user/anaconda3/envs/pytorch_p310/lib/python3.10/site-packages (from google-pasta->sagemaker) (1.16.0)\n",
      "Requirement already satisfied: jsonschema-specifications>=2023.03.6 in /home/ec2-user/anaconda3/envs/pytorch_p310/lib/python3.10/site-packages (from jsonschema->sagemaker) (2023.12.1)\n",
      "Requirement already satisfied: referencing>=0.28.4 in /home/ec2-user/anaconda3/envs/pytorch_p310/lib/python3.10/site-packages (from jsonschema->sagemaker) (0.35.1)\n",
      "Requirement already satisfied: rpds-py>=0.7.1 in /home/ec2-user/anaconda3/envs/pytorch_p310/lib/python3.10/site-packages (from jsonschema->sagemaker) (0.18.1)\n",
      "Requirement already satisfied: pytz>=2020.1 in /home/ec2-user/anaconda3/envs/pytorch_p310/lib/python3.10/site-packages (from pandas->sagemaker) (2024.1)\n",
      "Requirement already satisfied: ppft>=1.7.6.8 in /home/ec2-user/anaconda3/envs/pytorch_p310/lib/python3.10/site-packages (from pathos->sagemaker) (1.7.6.8)\n",
      "Requirement already satisfied: dill>=0.3.8 in /home/ec2-user/anaconda3/envs/pytorch_p310/lib/python3.10/site-packages (from pathos->sagemaker) (0.3.8)\n",
      "Requirement already satisfied: pox>=0.3.4 in /home/ec2-user/anaconda3/envs/pytorch_p310/lib/python3.10/site-packages (from pathos->sagemaker) (0.3.4)\n",
      "Requirement already satisfied: multiprocess>=0.70.16 in /home/ec2-user/anaconda3/envs/pytorch_p310/lib/python3.10/site-packages (from pathos->sagemaker) (0.70.16)\n",
      "Downloading boto3-1.35.2-py3-none-any.whl (139 kB)\n",
      "\u001b[2K   \u001b[90m━━━━━━━━━━━━━━━━━━━━━━━━━━━━━━━━━━━━━━━━\u001b[0m \u001b[32m139.1/139.1 kB\u001b[0m \u001b[31m11.3 MB/s\u001b[0m eta \u001b[36m0:00:00\u001b[0m\n",
      "\u001b[?25hUsing cached sagemaker-2.229.0-py3-none-any.whl (1.5 MB)\n",
      "Using cached sagemaker_ssh_helper-2.2.0-py3-none-any.whl (98 kB)\n",
      "Downloading botocore-1.35.2-py3-none-any.whl (12.5 MB)\n",
      "\u001b[2K   \u001b[90m━━━━━━━━━━━━━━━━━━━━━━━━━━━━━━━━━━━━━━━━\u001b[0m \u001b[32m12.5/12.5 MB\u001b[0m \u001b[31m105.2 MB/s\u001b[0m eta \u001b[36m0:00:00\u001b[0m00:01\u001b[0m0:01\u001b[0m\n",
      "\u001b[?25hInstalling collected packages: botocore, boto3, sagemaker, sagemaker_ssh_helper\n",
      "  Attempting uninstall: botocore\n",
      "    Found existing installation: botocore 1.34.155\n",
      "    Uninstalling botocore-1.34.155:\n",
      "      Successfully uninstalled botocore-1.34.155\n",
      "  Attempting uninstall: boto3\n",
      "    Found existing installation: boto3 1.34.155\n",
      "    Uninstalling boto3-1.34.155:\n",
      "      Successfully uninstalled boto3-1.34.155\n",
      "  Attempting uninstall: sagemaker\n",
      "    Found existing installation: sagemaker 2.228.0\n",
      "    Uninstalling sagemaker-2.228.0:\n",
      "      Successfully uninstalled sagemaker-2.228.0\n",
      "\u001b[31mERROR: pip's dependency resolver does not currently take into account all the packages that are installed. This behaviour is the source of the following dependency conflicts.\n",
      "awscli 1.33.37 requires botocore==1.34.155, but you have botocore 1.35.2 which is incompatible.\u001b[0m\u001b[31m\n",
      "\u001b[0mSuccessfully installed boto3-1.35.2 botocore-1.35.2 sagemaker-2.229.0 sagemaker_ssh_helper-2.2.0\n"
     ]
    }
   ],
   "source": [
    "!pip install boto3 sagemaker sagemaker_ssh_helper -U"
   ]
  },
  {
   "cell_type": "code",
   "execution_count": 4,
   "id": "ab1c9bd7-25eb-4126-9833-019fc93c7d17",
   "metadata": {
    "collapsed": true,
    "jupyter": {
     "outputs_hidden": true
    },
    "tags": []
   },
   "outputs": [
    {
     "name": "stdout",
     "output_type": "stream",
     "text": [
      "Requirement already satisfied: awscli in /home/ec2-user/anaconda3/envs/pytorch_p310/lib/python3.10/site-packages (1.33.37)\n",
      "Collecting awscli\n",
      "  Downloading awscli-1.34.2-py3-none-any.whl.metadata (11 kB)\n",
      "Collecting botocore==1.35.2 (from awscli)\n",
      "  Using cached botocore-1.35.2-py3-none-any.whl.metadata (5.7 kB)\n",
      "Requirement already satisfied: docutils<0.17,>=0.10 in /home/ec2-user/anaconda3/envs/pytorch_p310/lib/python3.10/site-packages (from awscli) (0.16)\n",
      "Requirement already satisfied: s3transfer<0.11.0,>=0.10.0 in /home/ec2-user/anaconda3/envs/pytorch_p310/lib/python3.10/site-packages (from awscli) (0.10.1)\n",
      "Requirement already satisfied: PyYAML<6.1,>=3.10 in /home/ec2-user/anaconda3/envs/pytorch_p310/lib/python3.10/site-packages (from awscli) (6.0.1)\n",
      "Requirement already satisfied: colorama<0.4.7,>=0.2.5 in /home/ec2-user/anaconda3/envs/pytorch_p310/lib/python3.10/site-packages (from awscli) (0.4.6)\n",
      "Requirement already satisfied: rsa<4.8,>=3.1.2 in /home/ec2-user/anaconda3/envs/pytorch_p310/lib/python3.10/site-packages (from awscli) (4.7.2)\n",
      "Requirement already satisfied: jmespath<2.0.0,>=0.7.1 in /home/ec2-user/anaconda3/envs/pytorch_p310/lib/python3.10/site-packages (from botocore==1.35.2->awscli) (1.0.1)\n",
      "Requirement already satisfied: python-dateutil<3.0.0,>=2.1 in /home/ec2-user/anaconda3/envs/pytorch_p310/lib/python3.10/site-packages (from botocore==1.35.2->awscli) (2.9.0)\n",
      "Requirement already satisfied: urllib3!=2.2.0,<3,>=1.25.4 in /home/ec2-user/anaconda3/envs/pytorch_p310/lib/python3.10/site-packages (from botocore==1.35.2->awscli) (2.2.1)\n",
      "Requirement already satisfied: pyasn1>=0.1.3 in /home/ec2-user/anaconda3/envs/pytorch_p310/lib/python3.10/site-packages (from rsa<4.8,>=3.1.2->awscli) (0.6.0)\n",
      "Requirement already satisfied: six>=1.5 in /home/ec2-user/anaconda3/envs/pytorch_p310/lib/python3.10/site-packages (from python-dateutil<3.0.0,>=2.1->botocore==1.35.2->awscli) (1.16.0)\n",
      "Downloading awscli-1.34.2-py3-none-any.whl (4.5 MB)\n",
      "\u001b[2K   \u001b[90m━━━━━━━━━━━━━━━━━━━━━━━━━━━━━━━━━━━━━━━━\u001b[0m \u001b[32m4.5/4.5 MB\u001b[0m \u001b[31m79.0 MB/s\u001b[0m eta \u001b[36m0:00:00\u001b[0m:00:01\u001b[0m\n",
      "\u001b[?25hUsing cached botocore-1.35.2-py3-none-any.whl (12.5 MB)\n",
      "Installing collected packages: botocore, awscli\n",
      "  Attempting uninstall: botocore\n",
      "    Found existing installation: botocore 1.34.155\n",
      "    Uninstalling botocore-1.34.155:\n",
      "      Successfully uninstalled botocore-1.34.155\n",
      "  Attempting uninstall: awscli\n",
      "    Found existing installation: awscli 1.33.37\n",
      "    Uninstalling awscli-1.33.37:\n",
      "      Successfully uninstalled awscli-1.33.37\n",
      "Successfully installed awscli-1.34.2 botocore-1.35.2\n",
      "Note: you may need to restart the kernel to use updated packages.\n"
     ]
    }
   ],
   "source": [
    "%pip install awscli -U"
   ]
  },
  {
   "cell_type": "code",
   "execution_count": 4,
   "id": "11514ade-df1c-4260-8797-83bfc5b279e7",
   "metadata": {
    "tags": []
   },
   "outputs": [
    {
     "name": "stdout",
     "output_type": "stream",
     "text": [
      "sagemaker.config INFO - Not applying SDK defaults from location: /etc/xdg/sagemaker/config.yaml\n",
      "sagemaker.config INFO - Not applying SDK defaults from location: /home/ec2-user/.config/sagemaker/config.yaml\n",
      "596899493901.dkr.ecr.us-east-1.amazonaws.com/gpt-sovits-inference-v2:latest\n"
     ]
    }
   ],
   "source": [
    "import boto3\n",
    "import sagemaker\n",
    "from sagemaker import Model, image_uris, serializers, deserializers\n",
    "\n",
    "# role = sagemaker.get_execution_role()  # execution role for the endpoint\n",
    "role = \"arn:aws:iam::596899493901:role/sagemaker_full_access\"\n",
    "sess = sagemaker.session.Session()  # sagemaker session for interacting with different AWS APIs\n",
    "region = sess._region_name  # region name of the current SageMaker Studio environment\n",
    "account_id = sess.account_id()  # account_id of the current SageMaker Studio environment\n",
    "bucket = sess.default_bucket()\n",
    "image=\"gpt-sovits-inference-v2\"\n",
    "s3_client = boto3.client(\"s3\")\n",
    "sm_client = boto3.client(\"sagemaker\")\n",
    "smr_client = boto3.client(\"sagemaker-runtime\")\n",
    "\n",
    "full_image_uri=f\"{account_id}.dkr.ecr.{region}.amazonaws.com/{image}:latest\"\n",
    "print(full_image_uri)\n"
   ]
  },
  {
   "cell_type": "markdown",
   "id": "a54bf5b1",
   "metadata": {
    "tags": []
   },
   "source": [
    "## Remote debug test \n",
    "Since we are using the BYOC (Bring Your Own Container) method to deploy the GPT-SoVITS model, we can deploy and debug the code using [SSH Helper](https://github.com/aws-samples/sagemaker-ssh-helper/blob/main/README.md) after preparing the initial code. Once the debugging is successful, we can then deploy it using the regular method.\n",
    "\n",
    "1. Deploy the model using SageMaker SSH Helper([Setting up your AWS account with IAM and SSM configuration](https://github.com/aws-samples/sagemaker-ssh-helper/blob/main/IAM_SSM_Setup.md))\n",
    "2. After got the instance_id, ssh to the instance and debug."
   ]
  },
  {
   "cell_type": "code",
   "execution_count": 5,
   "id": "131fe9fa-f2a3-49e0-8a83-156b00980d6d",
   "metadata": {
    "tags": []
   },
   "outputs": [
    {
     "name": "stdout",
     "output_type": "stream",
     "text": [
      "dummy\n",
      "upload: ./model.tar.gz to s3://sagemaker-us-east-1-596899493901/gpt_sovits/assets/model.tar.gz\n"
     ]
    }
   ],
   "source": [
    "## empty model data for byoc with webserver\n",
    "!touch dummy\n",
    "!tar czvf model.tar.gz dummy\n",
    "assets_dir = 's3://{0}/{1}/assets/'.format(bucket, 'gpt_sovits')\n",
    "model_data = 's3://{0}/{1}/assets/model.tar.gz'.format(bucket, 'gpt_sovits')\n",
    "!aws s3 cp model.tar.gz $assets_dir\n",
    "!rm -f dummy model.tar.gz"
   ]
  },
  {
   "cell_type": "code",
   "execution_count": 6,
   "id": "a9a45469-989b-4709-bc1f-8c6a59ac6fc0",
   "metadata": {
    "tags": []
   },
   "outputs": [],
   "source": [
    "from sagemaker_ssh_helper.wrapper import SSHModelWrapper\n",
    "model = Model(image_uri=full_image_uri, model_data=model_data, role=role,dependencies=[SSHModelWrapper.dependency_dir()] )"
   ]
  },
  {
   "cell_type": "code",
   "execution_count": 7,
   "id": "73e60433-09e8-449e-9fc5-6fbd639d98f2",
   "metadata": {
    "tags": []
   },
   "outputs": [],
   "source": [
    "from sagemaker_ssh_helper.wrapper import SSHModelWrapper\n",
    "from time import gmtime, strftime\n",
    "from sagemaker import Predictor\n",
    "instance_type = \"ml.g5.xlarge\"\n",
    "endpoint_name = sagemaker.utils.name_from_base(\"gpt-sovits-inference\")\n",
    "# endpointName=\"gpt-sovits-sagemaker-endpoint-v2-\"+strftime(\"%Y-%m-%d-%H-%M-%S\", gmtime())\n",
    "\n",
    "ssh_wrapper = SSHModelWrapper.create(model, connection_wait_time_seconds=0)  # <--NEW--\n",
    "\n",
    "predictor = model.deploy(\n",
    "    initial_instance_count=1,\n",
    "    instance_type=instance_type,\n",
    "    endpoint_name=endpoint_name,\n",
    "    wait=False\n",
    ")\n",
    "\n",
    "\n",
    "# instance_ids = ssh_wrapper.get_instance_ids(timeout_in_sec=900)  # <--NEW-- \n",
    "# print(f\"To connect over SSM run: aws ssm start-session --target {instance_ids[0]}\")"
   ]
  },
  {
   "cell_type": "code",
   "execution_count": 8,
   "id": "049dd079-5fc7-4bd1-a473-0a19901cc390",
   "metadata": {
    "tags": []
   },
   "outputs": [],
   "source": [
    "instance_ids = ssh_wrapper.get_instance_ids(timeout_in_sec=0)"
   ]
  },
  {
   "cell_type": "code",
   "execution_count": 9,
   "id": "3e09b3b3-75e2-45d3-982d-98ad83ec3350",
   "metadata": {},
   "outputs": [
    {
     "name": "stdout",
     "output_type": "stream",
     "text": [
      "Waiting for deployment to complete...\n",
      "Waiting for deployment to complete...\n",
      "Waiting for deployment to complete...\n",
      "Waiting for deployment to complete...\n",
      "Waiting for deployment to complete...\n",
      "Waiting for deployment to complete...\n",
      "Waiting for deployment to complete...\n",
      "Waiting for deployment to complete...\n",
      "Waiting for deployment to complete...\n",
      "Waiting for deployment to complete...\n",
      "Waiting for deployment to complete...\n",
      "Waiting for deployment to complete...\n",
      "Waiting for deployment to complete...\n",
      "Waiting for deployment to complete...\n",
      "Waiting for deployment to complete...\n",
      "Waiting for deployment to complete...\n",
      "Waiting for deployment to complete...\n",
      "Waiting for deployment to complete...\n",
      "Waiting for deployment to complete...\n",
      "Waiting for deployment to complete...\n",
      "Waiting for deployment to complete...\n",
      "Waiting for deployment to complete...\n",
      "Waiting for deployment to complete...\n",
      "Waiting for deployment to complete...\n",
      "Waiting for deployment to complete...\n",
      "Waiting for deployment to complete...\n",
      "Waiting for deployment to complete...\n",
      "Waiting for deployment to complete...\n",
      "Waiting for deployment to complete...\n",
      "Waiting for deployment to complete...\n",
      "Waiting for deployment to complete...\n",
      "Waiting for deployment to complete...\n",
      "Waiting for deployment to complete...\n",
      "Waiting for deployment to complete...\n",
      "Waiting for deployment to complete...\n",
      "Waiting for deployment to complete...\n",
      "Waiting for deployment to complete...\n",
      "Waiting for deployment to complete...\n",
      "Waiting for deployment to complete...\n",
      "Waiting for deployment to complete...\n",
      "Waiting for deployment to complete...\n",
      "Waiting for deployment to complete...\n",
      "Model deployed successfully! The Endpoint is gpt-sovits-inference-2024-08-23-15-48-05-376\n"
     ]
    }
   ],
   "source": [
    "import time\n",
    "# instance_ids = []\n",
    "while len(instance_ids)==0:\n",
    "    print(\"Waiting for deployment to complete...\")\n",
    "    time.sleep(20)\n",
    "    instance_ids = ssh_wrapper.get_instance_ids(timeout_in_sec=0)\n",
    "print(f\"Model deployed successfully! The Endpoint is {endpoint_name}\")"
   ]
  },
  {
   "cell_type": "code",
   "execution_count": 10,
   "id": "0e11f9ac-aa83-4ecc-a2a5-afff1291e338",
   "metadata": {
    "tags": []
   },
   "outputs": [
    {
     "name": "stdout",
     "output_type": "stream",
     "text": [
      "mi-0f428d4597ece3b03\n"
     ]
    }
   ],
   "source": [
    "print(instance_ids[0])"
   ]
  },
  {
   "cell_type": "markdown",
   "id": "6abe8919-0bb9-43c0-8d03-4a2a2a1e9a2e",
   "metadata": {
    "jp-MarkdownHeadingCollapsed": true,
    "tags": []
   },
   "source": [
    "## SM Endpoint deployment(Regular method for production)\n",
    "\n",
    "After debugging is completed using the SSH Helper, you can officially use the following code block for deployment.\n",
    "\n",
    "Remember to delete the node occupied by the SSH Helper in time! There is a command to delete the node at the end of this example code."
   ]
  },
  {
   "cell_type": "markdown",
   "id": "a1663aa2",
   "metadata": {
    "tags": []
   },
   "source": [
    "### create sagemaker model"
   ]
  },
  {
   "cell_type": "code",
   "execution_count": 8,
   "id": "3623fcd0",
   "metadata": {},
   "outputs": [],
   "source": [
    "import boto3\n",
    "import re\n",
    "import os\n",
    "import json\n",
    "import uuid\n",
    "import boto3\n",
    "import sagemaker\n",
    "\n",
    "## for debug only\n",
    "from sagemaker_ssh_helper.wrapper import SSHModelWrapper\n",
    "sm_client = boto3.client(service_name='sagemaker')\n",
    "\n",
    "\n",
    "def create_model():\n",
    "    image=full_image_uri\n",
    "    model_name=\"gpt-sovits-sagemaker-\"+strftime(\"%Y-%m-%d-%H-%M-%S\", gmtime())\n",
    "    create_model_response = sm_client.create_model(\n",
    "        ModelName=model_name,\n",
    "        ExecutionRoleArn=role,\n",
    "        Containers=[{\"Image\": image}],\n",
    "    )\n",
    "    print(create_model_response)\n",
    "    return model_name"
   ]
  },
  {
   "cell_type": "code",
   "execution_count": 9,
   "id": "e913d8d0",
   "metadata": {},
   "outputs": [
    {
     "name": "stdout",
     "output_type": "stream",
     "text": [
      "{'ModelArn': 'arn:aws:sagemaker:us-east-1:596899493901:model/gpt-sovits-sagemaker-2024-08-22-15-37-26', 'ResponseMetadata': {'RequestId': '6e4fcfb7-47fa-4d18-8abb-5126cfe53a6f', 'HTTPStatusCode': 200, 'HTTPHeaders': {'x-amzn-requestid': '6e4fcfb7-47fa-4d18-8abb-5126cfe53a6f', 'content-type': 'application/x-amz-json-1.1', 'content-length': '102', 'date': 'Thu, 22 Aug 2024 15:37:26 GMT'}, 'RetryAttempts': 0}}\n"
     ]
    }
   ],
   "source": [
    "model_name=create_model()"
   ]
  },
  {
   "cell_type": "markdown",
   "id": "4159960d",
   "metadata": {
    "tags": []
   },
   "source": [
    "### create endpoint configuration"
   ]
  },
  {
   "cell_type": "code",
   "execution_count": 10,
   "id": "01b4ba47",
   "metadata": {},
   "outputs": [],
   "source": [
    "endpoint_name=\"gpt-sovits-sagemaker-endpoint-v2-\"+strftime(\"%Y-%m-%d-%H-%M-%S\", gmtime())\n",
    "def create_endpoint_configuration():\n",
    "    create_endpoint_config_response = sm_client.create_endpoint_config(     \n",
    "        EndpointConfigName=endpoint_name,\n",
    "        ProductionVariants=[\n",
    "            {\n",
    "                #\"ModelName\":\"gpt-sovits-sagemaker-012024-03-28-04-00-03\",\n",
    "                \"ModelName\":model_name,\n",
    "                \"VariantName\": \"gpt-sovits-sagemaker\"+\"-variant\",\n",
    "                \"InstanceType\": \"ml.g5.xlarge\",  # 指定 g5.xlarge 机器\n",
    "                \"InitialInstanceCount\": 1,\n",
    "                \"ModelDataDownloadTimeoutInSeconds\": 1200,\n",
    "                \"ContainerStartupHealthCheckTimeoutInSeconds\": 1200,\n",
    "            }\n",
    "        ],\n",
    "    )\n",
    "    print(create_endpoint_config_response)\n",
    "    return endpoint_name\n"
   ]
  },
  {
   "cell_type": "code",
   "execution_count": 11,
   "id": "d06fb9ae",
   "metadata": {},
   "outputs": [
    {
     "ename": "ClientError",
     "evalue": "An error occurred (ValidationException) when calling the CreateEndpointConfig operation: Cannot create already existing endpoint configuration \"arn:aws:sagemaker:us-east-1:596899493901:endpoint-config/gpt-sovits-sagemaker-endpoint-v2-2024-08-22-15-37-15\".",
     "output_type": "error",
     "traceback": [
      "\u001b[0;31m---------------------------------------------------------------------------\u001b[0m",
      "\u001b[0;31mClientError\u001b[0m                               Traceback (most recent call last)",
      "Cell \u001b[0;32mIn[11], line 1\u001b[0m\n\u001b[0;32m----> 1\u001b[0m \u001b[43mcreate_endpoint_configuration\u001b[49m\u001b[43m(\u001b[49m\u001b[43m)\u001b[49m\n",
      "Cell \u001b[0;32mIn[10], line 4\u001b[0m, in \u001b[0;36mcreate_endpoint_configuration\u001b[0;34m()\u001b[0m\n\u001b[1;32m      3\u001b[0m \u001b[38;5;28;01mdef\u001b[39;00m \u001b[38;5;21mcreate_endpoint_configuration\u001b[39m():\n\u001b[0;32m----> 4\u001b[0m     create_endpoint_config_response \u001b[38;5;241m=\u001b[39m \u001b[43msm_client\u001b[49m\u001b[38;5;241;43m.\u001b[39;49m\u001b[43mcreate_endpoint_config\u001b[49m\u001b[43m(\u001b[49m\u001b[43m     \u001b[49m\n\u001b[1;32m      5\u001b[0m \u001b[43m        \u001b[49m\u001b[43mEndpointConfigName\u001b[49m\u001b[38;5;241;43m=\u001b[39;49m\u001b[43mendpointName\u001b[49m\u001b[43m,\u001b[49m\n\u001b[1;32m      6\u001b[0m \u001b[43m        \u001b[49m\u001b[43mProductionVariants\u001b[49m\u001b[38;5;241;43m=\u001b[39;49m\u001b[43m[\u001b[49m\n\u001b[1;32m      7\u001b[0m \u001b[43m            \u001b[49m\u001b[43m{\u001b[49m\n\u001b[1;32m      8\u001b[0m \u001b[43m                \u001b[49m\u001b[38;5;66;43;03m#\"ModelName\":\"gpt-sovits-sagemaker-012024-03-28-04-00-03\",\u001b[39;49;00m\n\u001b[1;32m      9\u001b[0m \u001b[43m                \u001b[49m\u001b[38;5;124;43m\"\u001b[39;49m\u001b[38;5;124;43mModelName\u001b[39;49m\u001b[38;5;124;43m\"\u001b[39;49m\u001b[43m:\u001b[49m\u001b[43mmodel_name\u001b[49m\u001b[43m,\u001b[49m\n\u001b[1;32m     10\u001b[0m \u001b[43m                \u001b[49m\u001b[38;5;124;43m\"\u001b[39;49m\u001b[38;5;124;43mVariantName\u001b[39;49m\u001b[38;5;124;43m\"\u001b[39;49m\u001b[43m:\u001b[49m\u001b[43m \u001b[49m\u001b[38;5;124;43m\"\u001b[39;49m\u001b[38;5;124;43mgpt-sovits-sagemaker\u001b[39;49m\u001b[38;5;124;43m\"\u001b[39;49m\u001b[38;5;241;43m+\u001b[39;49m\u001b[38;5;124;43m\"\u001b[39;49m\u001b[38;5;124;43m-variant\u001b[39;49m\u001b[38;5;124;43m\"\u001b[39;49m\u001b[43m,\u001b[49m\n\u001b[1;32m     11\u001b[0m \u001b[43m                \u001b[49m\u001b[38;5;124;43m\"\u001b[39;49m\u001b[38;5;124;43mInstanceType\u001b[39;49m\u001b[38;5;124;43m\"\u001b[39;49m\u001b[43m:\u001b[49m\u001b[43m \u001b[49m\u001b[38;5;124;43m\"\u001b[39;49m\u001b[38;5;124;43mml.g5.xlarge\u001b[39;49m\u001b[38;5;124;43m\"\u001b[39;49m\u001b[43m,\u001b[49m\u001b[43m  \u001b[49m\u001b[38;5;66;43;03m# 指定 g5.xlarge 机器\u001b[39;49;00m\n\u001b[1;32m     12\u001b[0m \u001b[43m                \u001b[49m\u001b[38;5;124;43m\"\u001b[39;49m\u001b[38;5;124;43mInitialInstanceCount\u001b[39;49m\u001b[38;5;124;43m\"\u001b[39;49m\u001b[43m:\u001b[49m\u001b[43m \u001b[49m\u001b[38;5;241;43m1\u001b[39;49m\u001b[43m,\u001b[49m\n\u001b[1;32m     13\u001b[0m \u001b[43m                \u001b[49m\u001b[38;5;124;43m\"\u001b[39;49m\u001b[38;5;124;43mModelDataDownloadTimeoutInSeconds\u001b[39;49m\u001b[38;5;124;43m\"\u001b[39;49m\u001b[43m:\u001b[49m\u001b[43m \u001b[49m\u001b[38;5;241;43m1200\u001b[39;49m\u001b[43m,\u001b[49m\n\u001b[1;32m     14\u001b[0m \u001b[43m                \u001b[49m\u001b[38;5;124;43m\"\u001b[39;49m\u001b[38;5;124;43mContainerStartupHealthCheckTimeoutInSeconds\u001b[39;49m\u001b[38;5;124;43m\"\u001b[39;49m\u001b[43m:\u001b[49m\u001b[43m \u001b[49m\u001b[38;5;241;43m1200\u001b[39;49m\u001b[43m,\u001b[49m\n\u001b[1;32m     15\u001b[0m \u001b[43m            \u001b[49m\u001b[43m}\u001b[49m\n\u001b[1;32m     16\u001b[0m \u001b[43m        \u001b[49m\u001b[43m]\u001b[49m\u001b[43m,\u001b[49m\n\u001b[1;32m     17\u001b[0m \u001b[43m    \u001b[49m\u001b[43m)\u001b[49m\n\u001b[1;32m     18\u001b[0m     \u001b[38;5;28mprint\u001b[39m(create_endpoint_config_response)\n\u001b[1;32m     19\u001b[0m     \u001b[38;5;28;01mreturn\u001b[39;00m endpointName\n",
      "File \u001b[0;32m~/anaconda3/envs/pytorch_p310/lib/python3.10/site-packages/botocore/client.py:569\u001b[0m, in \u001b[0;36mClientCreator._create_api_method.<locals>._api_call\u001b[0;34m(self, *args, **kwargs)\u001b[0m\n\u001b[1;32m    565\u001b[0m     \u001b[38;5;28;01mraise\u001b[39;00m \u001b[38;5;167;01mTypeError\u001b[39;00m(\n\u001b[1;32m    566\u001b[0m         \u001b[38;5;124mf\u001b[39m\u001b[38;5;124m\"\u001b[39m\u001b[38;5;132;01m{\u001b[39;00mpy_operation_name\u001b[38;5;132;01m}\u001b[39;00m\u001b[38;5;124m() only accepts keyword arguments.\u001b[39m\u001b[38;5;124m\"\u001b[39m\n\u001b[1;32m    567\u001b[0m     )\n\u001b[1;32m    568\u001b[0m \u001b[38;5;66;03m# The \"self\" in this scope is referring to the BaseClient.\u001b[39;00m\n\u001b[0;32m--> 569\u001b[0m \u001b[38;5;28;01mreturn\u001b[39;00m \u001b[38;5;28;43mself\u001b[39;49m\u001b[38;5;241;43m.\u001b[39;49m\u001b[43m_make_api_call\u001b[49m\u001b[43m(\u001b[49m\u001b[43moperation_name\u001b[49m\u001b[43m,\u001b[49m\u001b[43m \u001b[49m\u001b[43mkwargs\u001b[49m\u001b[43m)\u001b[49m\n",
      "File \u001b[0;32m~/anaconda3/envs/pytorch_p310/lib/python3.10/site-packages/botocore/client.py:1023\u001b[0m, in \u001b[0;36mBaseClient._make_api_call\u001b[0;34m(self, operation_name, api_params)\u001b[0m\n\u001b[1;32m   1019\u001b[0m     error_code \u001b[38;5;241m=\u001b[39m error_info\u001b[38;5;241m.\u001b[39mget(\u001b[38;5;124m\"\u001b[39m\u001b[38;5;124mQueryErrorCode\u001b[39m\u001b[38;5;124m\"\u001b[39m) \u001b[38;5;129;01mor\u001b[39;00m error_info\u001b[38;5;241m.\u001b[39mget(\n\u001b[1;32m   1020\u001b[0m         \u001b[38;5;124m\"\u001b[39m\u001b[38;5;124mCode\u001b[39m\u001b[38;5;124m\"\u001b[39m\n\u001b[1;32m   1021\u001b[0m     )\n\u001b[1;32m   1022\u001b[0m     error_class \u001b[38;5;241m=\u001b[39m \u001b[38;5;28mself\u001b[39m\u001b[38;5;241m.\u001b[39mexceptions\u001b[38;5;241m.\u001b[39mfrom_code(error_code)\n\u001b[0;32m-> 1023\u001b[0m     \u001b[38;5;28;01mraise\u001b[39;00m error_class(parsed_response, operation_name)\n\u001b[1;32m   1024\u001b[0m \u001b[38;5;28;01melse\u001b[39;00m:\n\u001b[1;32m   1025\u001b[0m     \u001b[38;5;28;01mreturn\u001b[39;00m parsed_response\n",
      "\u001b[0;31mClientError\u001b[0m: An error occurred (ValidationException) when calling the CreateEndpointConfig operation: Cannot create already existing endpoint configuration \"arn:aws:sagemaker:us-east-1:596899493901:endpoint-config/gpt-sovits-sagemaker-endpoint-v2-2024-08-22-15-37-15\"."
     ]
    }
   ],
   "source": [
    "create_endpoint_configuration()"
   ]
  },
  {
   "cell_type": "markdown",
   "id": "e6e35082",
   "metadata": {
    "tags": []
   },
   "source": [
    "### create endpoint"
   ]
  },
  {
   "cell_type": "code",
   "execution_count": 14,
   "id": "40abb7a9",
   "metadata": {},
   "outputs": [],
   "source": [
    "# endpointName=\"gpt-sovits-sagemaker-endpoint-v2-\"+strftime(\"%Y-%m-%d-%H-%M-%S\", gmtime())\n",
    "def create_endpoint():\n",
    "    create_endpoint_response = sm_client.create_endpoint(\n",
    "        EndpointName=endpoint_name,\n",
    "        #EndpointConfigName=\"gpt-sovits-sagemaker-configuration2024-03-28-04-03-53\",\n",
    "        EndpointConfigName=endpoint_name\n",
    "    )\n",
    "    print(\"Endpoint Arn: \" + create_endpoint_response[\"EndpointArn\"])\n",
    "    resp = sm_client.describe_endpoint(EndpointName=endpointName)\n",
    "    print(\"Endpoint Status: \" + resp[\"EndpointStatus\"])\n",
    "    print(\"Waiting for {} endpoint to be in service\".format(\"gpt-sovits-sagemaker-endpoint\"))\n",
    "    waiter = sm_client.get_waiter(\"endpoint_in_service\")\n",
    "    waiter.wait(EndpointName=endpointName)"
   ]
  },
  {
   "cell_type": "code",
   "execution_count": 15,
   "id": "c7e6b443-321d-467b-99a8-6e60596f0332",
   "metadata": {
    "tags": []
   },
   "outputs": [
    {
     "data": {
      "text/plain": [
       "'gpt-sovits-sagemaker-endpoint-v2-2024-08-22-11-20-45'"
      ]
     },
     "execution_count": 15,
     "metadata": {},
     "output_type": "execute_result"
    }
   ],
   "source": [
    "endpointName"
   ]
  },
  {
   "cell_type": "code",
   "execution_count": 16,
   "id": "adeafb65",
   "metadata": {},
   "outputs": [
    {
     "name": "stdout",
     "output_type": "stream",
     "text": [
      "Endpoint Arn: arn:aws:sagemaker:us-east-1:596899493901:endpoint/gpt-sovits-sagemaker-endpoint-v2-2024-08-22-11-20-45\n",
      "Endpoint Status: Creating\n",
      "Waiting for gpt-sovits-sagemaker-endpoint endpoint to be in service\n"
     ]
    }
   ],
   "source": [
    "create_endpoint()"
   ]
  },
  {
   "cell_type": "markdown",
   "id": "3594fc7d",
   "metadata": {
    "tags": []
   },
   "source": [
    "## Realtime inferecne with sagemaker endpoint\n",
    "\n",
    "Remember to replace the EndpointName passed into the invoke function with the actual endpoint name of your deployment."
   ]
  },
  {
   "cell_type": "code",
   "execution_count": 16,
   "id": "3a4dae12",
   "metadata": {},
   "outputs": [],
   "source": [
    "import json\n",
    "import boto3\n",
    "runtime_sm_client = boto3.client(service_name=\"sagemaker-runtime\")\n",
    "\n",
    "\n",
    "request = {\"refer_wav_path\":\"s3://tts-xq/test-data/音质好.wav\",\n",
    "    \"prompt_text\": \"脚下当心！这位客官，想照顾我们往生堂的生意，也不必这么心急嘛？你没什么事吧？嗯？麻烦的家伙。\",\n",
    "    \"prompt_language\":\"zh\",\n",
    "    \"text\":\"逃课上网，打架斗殴，上课睡觉，样样俱全；你、你真是…孺子不可教也！！！\",\n",
    "    \"text_language\" :\"zh\",\n",
    "    \"output_s3uri\":\"s3://tts-xq/gpt_sovits_output/wav/\"}\n",
    "\n",
    "def invoke_endpoint():\n",
    "    content_type = \"application/json\"\n",
    "    request_body = request\n",
    "    payload = json.dumps(request_body)\n",
    "    print(payload)\n",
    "    response = runtime_sm_client.invoke_endpoint(\n",
    "        EndpointName=endpoint_name,\n",
    "        ContentType=content_type,\n",
    "        Body=payload,\n",
    "    )\n",
    "    result = response['Body'].read().decode()\n",
    "    print('返回：',result)\n",
    "    return result"
   ]
  },
  {
   "cell_type": "code",
   "execution_count": 17,
   "id": "b01f4489",
   "metadata": {
    "tags": []
   },
   "outputs": [
    {
     "name": "stdout",
     "output_type": "stream",
     "text": [
      "{\"refer_wav_path\": \"s3://tts-xq/test-data/\\u97f3\\u8d28\\u597d.wav\", \"prompt_text\": \"\\u811a\\u4e0b\\u5f53\\u5fc3\\uff01\\u8fd9\\u4f4d\\u5ba2\\u5b98\\uff0c\\u60f3\\u7167\\u987e\\u6211\\u4eec\\u5f80\\u751f\\u5802\\u7684\\u751f\\u610f\\uff0c\\u4e5f\\u4e0d\\u5fc5\\u8fd9\\u4e48\\u5fc3\\u6025\\u561b\\uff1f\\u4f60\\u6ca1\\u4ec0\\u4e48\\u4e8b\\u5427\\uff1f\\u55ef\\uff1f\\u9ebb\\u70e6\\u7684\\u5bb6\\u4f19\", \"prompt_language\": \"zh\", \"text\": \"\\u9003\\u8bfe\\u4e0a\\u7f51\\uff0c\\u6253\\u67b6\\u6597\\u6bb4\\uff0c\\u4e0a\\u8bfe\\u7761\\u89c9\\uff0c\\u6837\\u6837\\u4ff1\\u5168\\uff1b\\u4f60\\u3001\\u4f60\\u771f\\u662f\\u2026\\u5b7a\\u5b50\\u4e0d\\u53ef\\u6559\\u4e5f\\uff01\\uff01\\uff01\", \"text_language\": \"zh\", \"output_s3uri\": \"s3://tts-xq/gpt_sovits_output/wav/\"}\n",
      "返回： {\"result\": \"s3://tts-xq/gpt_sovits_output/wav/gpt_sovits_1724428901895.mp3\"}\n"
     ]
    }
   ],
   "source": [
    "result = invoke_endpoint()"
   ]
  },
  {
   "cell_type": "code",
   "execution_count": 18,
   "id": "8a8ea03c-e709-4888-ad44-b3ccbf3abcfd",
   "metadata": {
    "tags": []
   },
   "outputs": [
    {
     "data": {
      "text/plain": [
       "'{\"result\": \"s3://tts-xq/gpt_sovits_output/wav/gpt_sovits_1724428901895.mp3\"}'"
      ]
     },
     "execution_count": 18,
     "metadata": {},
     "output_type": "execute_result"
    }
   ],
   "source": [
    "result"
   ]
  },
  {
   "cell_type": "code",
   "execution_count": 20,
   "id": "d4f8d8e4-9920-4853-9621-a33d67ba8ef3",
   "metadata": {
    "tags": []
   },
   "outputs": [],
   "source": [
    "results_audio = eval(result)[\"result\"]"
   ]
  },
  {
   "cell_type": "code",
   "execution_count": 21,
   "id": "d7ae7796-8d05-47af-8979-19bdb8c35cfc",
   "metadata": {
    "tags": []
   },
   "outputs": [
    {
     "name": "stdout",
     "output_type": "stream",
     "text": [
      "download: s3://tts-xq/gpt_sovits_output/wav/gpt_sovits_1724428901895.mp3 to ./gpt_sovits_1724428901895.mp3\n"
     ]
    }
   ],
   "source": [
    "# or you can download it from s3 console\n",
    "!aws s3 cp $results_audio ./"
   ]
  },
  {
   "cell_type": "markdown",
   "id": "9e41b30b-e8f7-4c7f-853f-7d861c12c543",
   "metadata": {
    "tags": []
   },
   "source": [
    "## Streams test (only for stream branch deployment)"
   ]
  },
  {
   "cell_type": "code",
   "execution_count": 23,
   "id": "ac28f418-dd4f-4dab-a7cb-412b5048df28",
   "metadata": {
    "tags": []
   },
   "outputs": [],
   "source": [
    "import requests\n",
    "\n",
    "chunk_bytes=None\n",
    "\n",
    "def upsert(lst, new_dict):\n",
    "    for i, item in enumerate(lst):\n",
    "        if new_dict['index'] == i:\n",
    "            lst[i] = new_dict\n",
    "            return lst\n",
    "    lst.append(new_dict)\n",
    "    return lst\n",
    "\n",
    "def invoke_streams_endpoint(smr_client,endpointName, request):\n",
    "    global chunk_bytes\n",
    "    content_type = \"application/json\"\n",
    "    payload = json.dumps(request,ensure_ascii=False)\n",
    "\n",
    "    response_model = smr_client.invoke_endpoint_with_response_stream(\n",
    "        EndpointName=endpointName,\n",
    "        ContentType=content_type,\n",
    "        Body=payload,\n",
    "    )\n",
    "\n",
    "    result = []\n",
    "    print(response_model['ResponseMetadata'])\n",
    "    event_stream = iter(response_model['Body'])\n",
    "    index = 0\n",
    "    try: \n",
    "        while True:\n",
    "            event = next(event_stream)\n",
    "            eventChunk = event['PayloadPart']['Bytes']\n",
    "            chunk_dict = {}\n",
    "            if index == 0:\n",
    "                print(\"Received first chunk\")\n",
    "                chunk_dict['first_chunk'] = True\n",
    "                chunk_dict['bytes'] = eventChunk\n",
    "                chunk_bytes = eventChunk\n",
    "                chunk_dict['last_chunk'] = False\n",
    "                chunk_dict['index'] = index\n",
    "            else:\n",
    "                chunk_dict['first_chunk'] = False\n",
    "                chunk_dict['bytes'] = eventChunk\n",
    "                chunk_bytes = eventChunk\n",
    "                chunk_dict['last_chunk'] = False\n",
    "                chunk_dict['index'] = index\n",
    "            print(\"chunk len:\",len(chunk_dict['bytes']))\n",
    "            result.append(chunk_dict)    \n",
    "            index += 1\n",
    "            #print('返回chunk：', chunk_dict['bytes'])\n",
    "    except StopIteration:\n",
    "        print(\"All chunks processed\")\n",
    "        chunk_dict = {}\n",
    "        chunk_dict['first_chunk'] = False\n",
    "        chunk_dict['bytes'] = chunk_bytes\n",
    "        chunk_dict['last_chunk'] = True\n",
    "        chunk_dict['index'] = index-1\n",
    "        result = upsert(result,chunk_dict)\n",
    "    print(\"result\",result)\n",
    "    return result\n"
   ]
  },
  {
   "cell_type": "code",
   "execution_count": 27,
   "id": "da64eb21-35dd-49c0-9356-9b5833fee9d0",
   "metadata": {
    "tags": []
   },
   "outputs": [],
   "source": [
    "import json\n",
    "import boto3\n",
    "# endpointName=\"gpt-sovits-inference-2024-05-17-13-49-58-483\"\n",
    "runtime_sm_client = boto3.client(service_name=\"sagemaker-runtime\")\n",
    "#endpointName=\"gpt-sovits-sagemaker-endpoint2024-04-03-23-49-44\"\n",
    "\n",
    "\n",
    "\n",
    "request = {\"refer_wav_path\":\"s3://tts-xq/test-data/音质好.wav\",\n",
    "    \"prompt_text\": \"脚下当心！这位客官，想照顾我们往生堂的生意，也不必这么心急嘛？你没什么事吧？嗯？麻烦的家伙。\",\n",
    "    \"prompt_language\":\"ja\",\n",
    "    \"text\":\"『白夜行』はとても美しい小説で、私はとても夢中になって読んで、時には何時間も休まないで、私は中の主人公が大好きです\",\n",
    "    \"text_language\" :\"ja\",\n",
    "    \"output_s3uri\":\"s3://tts-xq/gpt_sovits_output/wav/\",\n",
    "    \"cut_punc\":\"、\"}\n"
   ]
  },
  {
   "cell_type": "code",
   "execution_count": 28,
   "id": "b206b8ed-1321-4963-b476-10bff2d985e4",
   "metadata": {
    "tags": []
   },
   "outputs": [
    {
     "name": "stdout",
     "output_type": "stream",
     "text": [
      "{'RequestId': 'bcf07c35-f3f1-40f9-b14f-0ff6bd1d0e3f', 'HTTPStatusCode': 200, 'HTTPHeaders': {'x-amzn-requestid': 'bcf07c35-f3f1-40f9-b14f-0ff6bd1d0e3f', 'x-amzn-invoked-production-variant': 'AllTraffic', 'x-amzn-sagemaker-content-type': 'application/json', 'date': 'Fri, 23 Aug 2024 16:05:13 GMT', 'content-type': 'application/vnd.amazon.eventstream', 'transfer-encoding': 'chunked', 'connection': 'keep-alive'}, 'RetryAttempts': 0}\n",
      "Received first chunk\n",
      "chunk len: 76\n",
      "chunk len: 76\n",
      "chunk len: 76\n",
      "chunk len: 76\n",
      "All chunks processed\n",
      "result [{'first_chunk': True, 'bytes': b'{\"result\": \"s3://tts-xq/gpt_sovits_output/wav/gpt_sovits_1724429115196.mp3\"}', 'last_chunk': False, 'index': 0}, {'first_chunk': False, 'bytes': b'{\"result\": \"s3://tts-xq/gpt_sovits_output/wav/gpt_sovits_1724429116106.mp3\"}', 'last_chunk': False, 'index': 1}, {'first_chunk': False, 'bytes': b'{\"result\": \"s3://tts-xq/gpt_sovits_output/wav/gpt_sovits_1724429117000.mp3\"}', 'last_chunk': False, 'index': 2}, {'first_chunk': False, 'bytes': b'{\"result\": \"s3://tts-xq/gpt_sovits_output/wav/gpt_sovits_1724429117951.mp3\"}', 'last_chunk': True, 'index': 3}]\n"
     ]
    }
   ],
   "source": [
    "response=invoke_streams_endpoint(runtime_sm_client,endpoint_name,request)"
   ]
  },
  {
   "cell_type": "code",
   "execution_count": 29,
   "id": "3ba2ade1-5bbe-49b5-b3b7-1568641353a6",
   "metadata": {
    "tags": []
   },
   "outputs": [],
   "source": [
    "# endpointName=\"gpt-sovits-sagemaker-endpoint-v2-2024-08-22-04-37-40\"\n",
    "sess.delete_endpoint(endpoint_name)\n",
    "sess.delete_endpoint_config(endpoint_name)\n",
    "model.delete_model()"
   ]
  }
 ],
 "metadata": {
  "kernelspec": {
   "display_name": "tts",
   "language": "python",
   "name": "python3"
  },
  "language_info": {
   "codemirror_mode": {
    "name": "ipython",
    "version": 3
   },
   "file_extension": ".py",
   "mimetype": "text/x-python",
   "name": "python",
   "nbconvert_exporter": "python",
   "pygments_lexer": "ipython3",
   "version": "3.10.14"
  }
 },
 "nbformat": 4,
 "nbformat_minor": 5
}
